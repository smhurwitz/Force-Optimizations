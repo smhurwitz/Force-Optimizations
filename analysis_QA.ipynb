{
 "cells": [
  {
   "cell_type": "markdown",
   "metadata": {},
   "source": [
    "# Force Optimizations Data Analysis "
   ]
  },
  {
   "cell_type": "markdown",
   "metadata": {},
   "source": [
    "*As a note, time-intensive code that has been run in advance has been commented out.*"
   ]
  },
  {
   "cell_type": "code",
   "execution_count": 1,
   "metadata": {},
   "outputs": [
    {
     "name": "stdout",
     "output_type": "stream",
     "text": [
      "DESC version 0.11.1,using JAX backend, jax version=0.4.30, jaxlib version=0.4.30, dtype=float64\n",
      "Using device: CPU, with 15.37 GB available memory\n"
     ]
    }
   ],
   "source": [
    "from analysis_tools import *\n",
    "from optimization_tools import *\n",
    "import imageio\n",
    "import matplotlib\n",
    "import matplotlib.pyplot as plt\n",
    "import os"
   ]
  },
  {
   "cell_type": "markdown",
   "metadata": {},
   "source": [
    "## Ensemble of Optimizations"
   ]
  },
  {
   "cell_type": "markdown",
   "metadata": {},
   "source": [
    "### With force penalty"
   ]
  },
  {
   "cell_type": "markdown",
   "metadata": {},
   "source": [
    "#### \"Cold Start\" optimizations\n",
    "First, we perform our initial optimizations using the random (educated) guesses for the weights on the objective function. As these optimizations demand significant computational resources, the code is commented out for the purpose of this example. "
   ]
  },
  {
   "cell_type": "code",
   "execution_count": null,
   "metadata": {},
   "outputs": [],
   "source": [
    "# initial_optimizations()"
   ]
  },
  {
   "cell_type": "markdown",
   "metadata": {},
   "source": [
    "We next analyze our set of optimizations and parse the data into three DataFrames: `df`, representing the full set of optimizations; `df_filtered`, representing the set of optimizations that passed pre-specified filtering criteria; and `df_pareto1`, representing the set of optimizations on the Pareto front. (This method also exports the Universally Unique Identifiers (unique identifiers for each optimization) of the Pareto front to \n",
    "`pareto.txt`). "
   ]
  },
  {
   "cell_type": "code",
   "execution_count": null,
   "metadata": {},
   "outputs": [],
   "source": [
    "df, df_filtered, df_pareto = get_dfs()\n",
    "\n",
    "fig = plt.figure(figsize=(6.5, 8))\n",
    "plt.rc(\"font\", size=13)\n",
    "markersize = 5\n",
    "n_pareto = df_pareto.shape[0]\n",
    "n_filtered = df_filtered.shape[0] - n_pareto\n",
    "color=\"coil_surface_distance\"\n",
    "color_label=\"coil-surface distance [m]\"\n",
    "norm = plt.Normalize(min(df_filtered[color]), max(df_filtered[color]))\n",
    "plt.scatter(\n",
    "    df_filtered[\"normalized_BdotN\"],\n",
    "    df_filtered[\"max_max_force\"],\n",
    "    c=df_filtered[color],\n",
    "    s=markersize,\n",
    "    label=f'all optimizations, N={n_filtered}',\n",
    "    norm=norm\n",
    ")\n",
    "plt.scatter(\n",
    "    df_pareto[\"normalized_BdotN\"], \n",
    "    df_pareto[\"max_max_force\"], \n",
    "    c=df_pareto[color], \n",
    "    marker=\"+\",\n",
    "    label=f'Pareto front, N={n_pareto}',\n",
    "    norm=norm,\n",
    ")\n",
    "plt.xlabel(r'$\\langle|\\mathbf{B}\\cdot\\mathbf{n}|\\rangle/\\langle B \\rangle$ [unitless]')\n",
    "plt.ylabel(\"max force [N/m]\")\n",
    "plt.xlim(0.7 * min(df_filtered[\"normalized_BdotN\"]), max(df_filtered[\"normalized_BdotN\"]))\n",
    "plt.ylim(8500, 25000)\n",
    "plt.xscale(\"log\")\n",
    "plt.colorbar(label=color_label)\n",
    "plt.clim(0.17, 0.31)\n",
    "plt.legend(loc='upper right', fontsize='11')\n",
    "plt.title('Pareto Front')\n",
    "plt.show()"
   ]
  },
  {
   "cell_type": "markdown",
   "metadata": {},
   "source": [
    "#### Continuation Method\n",
    "Now, let us perform the first iteration of our continuation method. Here, we perform the first iteration and allow the maximum variation in any parameter to be a randomly chosen number in the range $10^{-3}$ to $5\\times 10^{-2}$. From this point, it is possible to perform the $i+1$-th iteration of the continuation method by using the $i$-th Pareto fronts as input."
   ]
  },
  {
   "cell_type": "code",
   "execution_count": null,
   "metadata": {},
   "outputs": [],
   "source": [
    "for i in range(1000): continuation(N=1, dx = 10**rand(-3, -1.3))"
   ]
  },
  {
   "cell_type": "markdown",
   "metadata": {},
   "source": [
    "If desired, we can also export the Pareto fronts unique folders for easy access. This is helpful for high-performance computing calculations, in which one wishes to reduce the number of files stored on the system."
   ]
  },
  {
   "cell_type": "code",
   "execution_count": null,
   "metadata": {},
   "outputs": [],
   "source": [
    "# for folder in os.listdir(\"./output/QA/with-force-penalty\"):\n",
    "#     f = os.path.join(\"./output/QA/with-force-penalty\", folder)\n",
    "#     if not os.path.isfile(f):\n",
    "#         get_dfs(INPUT_DIR = f\"{f}/optimizations/\", OUTPUT_DIR=f\"{f}/pareto/\")"
   ]
  },
  {
   "cell_type": "markdown",
   "metadata": {},
   "source": [
    "Now, let us see how performing the continuation method impacts our Pareto fronts. "
   ]
  },
  {
   "cell_type": "code",
   "execution_count": null,
   "metadata": {},
   "outputs": [],
   "source": [
    "fig = plt.figure(figsize=(6.5, 8))\n",
    "norm = plt.Normalize(1, np.sum(os.path.isdir(os.path.join(\"./output/QA/with-force-penalty\", f)) for f in os.listdir(\"./output/QA/with-force-penalty\")))\n",
    "plt.rc(\"font\", size=13)\n",
    "for filename in sorted(os.listdir(\"./output/QA/with-force-penalty\")):\n",
    "    f = os.path.join(\"./output/QA/with-force-penalty\", filename)\n",
    "    if os.path.isdir(f):\n",
    "        *_, df = get_dfs(INPUT_DIR = f + \"/optimizations/\")\n",
    "        plt.scatter(\n",
    "            df[\"normalized_BdotN\"],\n",
    "            df[\"max_max_force\"],\n",
    "            s=5,\n",
    "            c=int(filename)*np.ones(len(df[\"UUID\"])),\n",
    "            label=f\"Iteration #{filename}\",\n",
    "            norm=norm\n",
    "        )\n",
    "        \n",
    "plt.xlabel(r'$\\langle|\\mathbf{B}\\cdot\\mathbf{n}|\\rangle/\\langle B \\rangle$ [unitless]')\n",
    "plt.ylabel(\"max force [N/m]\")\n",
    "plt.xlim(0.7 * min(df[\"normalized_BdotN\"]), max(df[\"normalized_BdotN\"]))\n",
    "plt.ylim(7000, 18000)\n",
    "plt.xscale(\"log\")\n",
    "plt.legend(loc='upper right', fontsize='11')\n",
    "plt.show()"
   ]
  },
  {
   "cell_type": "markdown",
   "metadata": {},
   "source": [
    "Here, we create an interactive plot of the Pareto front. This is particularly useful for identifying specific optimizations visually based on their UUID. "
   ]
  },
  {
   "cell_type": "code",
   "execution_count": null,
   "metadata": {},
   "outputs": [],
   "source": [
    "df_final, df_filtered_final, df_pareto_final = get_dfs(INPUT_DIR='./output/QA/with-force-penalty/4/optimizations/')\n",
    "pareto_interactive_plt(df_pareto_final).show()"
   ]
  },
  {
   "cell_type": "markdown",
   "metadata": {},
   "source": [
    "An interesting thing to analyze are the Pearson's R correlations between the maximum force on a coil and other optimization parameters. Interestingly, we see that the strongest correlation by far is with the coil-surface distance. "
   ]
  },
  {
   "cell_type": "code",
   "execution_count": null,
   "metadata": {},
   "outputs": [],
   "source": [
    "df_final, df_filtered_final, df_pareto_final = get_dfs(INPUT_DIR='./output/QA/with-force-penalty/4/optimizations/')\n",
    "print(parameter_correlations(df_filtered_final, sort_by=\"max_max_force\").to_markdown())"
   ]
  },
  {
   "cell_type": "markdown",
   "metadata": {},
   "source": [
    "#### Plotting the Coils\n",
    "*In the following examples, we will use the UUIDs* 6266c8d4bb25499b899d86e9e3dd2ee2 *and* c3c984ea02624607b8a59a9fdf0642dd *as examples in order to showcase various plots. The former UUID represents the optimum furthest left on the Pareto front, while the latter UUID represents one on the mid-right of the front.*"
   ]
  },
  {
   "cell_type": "markdown",
   "metadata": {},
   "source": [
    "Let's save various 2D plots for each of the coils along the Pareto front!"
   ]
  },
  {
   "cell_type": "code",
   "execution_count": null,
   "metadata": {},
   "outputs": [],
   "source": [
    "# fig = mlab.figure(bgcolor=(1,1,1), fgcolor=(0,0,0), size=(1200,1200))\n",
    "# mlab.options.offscreen = True\n",
    "\n",
    "# IN_PATH = \"./output/QA/with-force-penalty/4/pareto/\"\n",
    "# UUIDs = [f.name for f in os.scandir(IN_PATH) if f.is_dir()]\n",
    "# for UUID in UUIDs:\n",
    "#     path = IN_PATH + UUID + \"/\"\n",
    "#     for arrow in [None, \"mutual\", \"self\", \"force\"]:\n",
    "#         arr = plot_coils(path + \"biot_savart.json\", fig=fig, arrow=arrow)\n",
    "#         mlab.clf()\n",
    "#         if arrow is None:\n",
    "#             plt.imsave(path + f\"coilplot.jpeg\", arr)\n",
    "#         else:\n",
    "#             plt.imsave(path + f\"coilplot_{arrow}.jpeg\", arr)\n",
    "\n",
    "UUIDs = [\"6266c8d4bb25499b899d86e9e3dd2ee2\", \"c3c984ea02624607b8a59a9fdf0642dd\"]\n",
    "for UUID in UUIDs:\n",
    "    IN_PATH = \"./output/QA/4/pareto/\"\n",
    "    img = matplotlib.image.imread(IN_PATH + UUID + \"/coilplot_force.jpeg\")\n",
    "    plt.figure()\n",
    "    imgplot = plt.imshow(img)"
   ]
  },
  {
   "cell_type": "markdown",
   "metadata": {},
   "source": [
    "We can also view these as interactive 3D plots:"
   ]
  },
  {
   "cell_type": "code",
   "execution_count": null,
   "metadata": {},
   "outputs": [],
   "source": [
    "# UUIDs = [\"6266c8d4bb25499b899d86e9e3dd2ee2\", \"c3c984ea02624607b8a59a9fdf0642dd\"]\n",
    "# for UUID in UUIDs:\n",
    "#     path = \"./output/QA/with-force-penalty/4/optimizations/\" + UUID + \"/biot_savart.json\"\n",
    "#     plot_coils(path, arrow=\"mutual\")\n",
    "#     mlab.show()"
   ]
  },
  {
   "cell_type": "markdown",
   "metadata": {},
   "source": [
    "Next, let's generate some rotating 3D plots of the coils."
   ]
  },
  {
   "cell_type": "code",
   "execution_count": null,
   "metadata": {},
   "outputs": [],
   "source": [
    "# fig = mlab.figure(bgcolor=(1,1,1), fgcolor=(0,0,0), size=(1200,1200))\n",
    "# mlab.options.offscreen = True\n",
    "\n",
    "# IN_PATH = \"./output/QA/with-force-penalty/4/pareto/\"\n",
    "# UUIDs = [f.name for f in os.scandir(IN_PATH) if f.is_dir()]\n",
    "# for UUID in UUIDs:\n",
    "#     plot_coils(IN_PATH + UUID + \"/biot_savart.json\", fig=fig, arrow=\"force\")\n",
    "\n",
    "#     nframes = 160\n",
    "#     filenames = []\n",
    "#     # For some reason, the first frame is darker, so repeat that frame at the end.\n",
    "#     for j in range(nframes + 1):\n",
    "#         mlab.view(azimuth=360.0 * j / nframes, elevation=-52.5 + 7.5 * np.sin(j / nframes * 2 * np.pi), distance=14.00, focalpoint=[0, 0, 0])\n",
    "#         filename = f'temp{j:04}.png'\n",
    "#         mlab.savefig(filename=filename)\n",
    "#         filenames.append(filename)\n",
    "\n",
    "#     import imageio\n",
    "#     # Duration is the number of seconds each frame is shown\n",
    "#     duration = 0.04\n",
    "#     name = IN_PATH + UUID + \"/rotating.gif\" \n",
    "#     with imageio.get_writer(name, mode='I', duration=duration, loop=0) as writer:\n",
    "#         for filename in filenames[1:]:\n",
    "#             image = imageio.imread(filename)\n",
    "#             writer.append_data(image)\n",
    "#     mlab.clf()\n",
    "#     print(f\"Wrote {UUID}\")\n",
    "\n",
    "# # Delete the temp files\n",
    "# temps = glob.glob(f\"./**/temp*.png\", recursive=True) \n",
    "# for temp in temps: os.remove(temp)"
   ]
  },
  {
   "cell_type": "markdown",
   "metadata": {},
   "source": [
    "<img src=\"./output/QA/with-force-penalty/4/pareto/6266c8d4bb25499b899d86e9e3dd2ee2/rotating.gif\" width=\"350\" align=\"center\">\n",
    "<img src=\"./output/QA/with-force-penalty/4/pareto/c3c984ea02624607b8a59a9fdf0642dd/rotating.gif\" width=\"350\" align=\"center\">"
   ]
  },
  {
   "cell_type": "markdown",
   "metadata": {},
   "source": [
    "Finally, we can animate the coils as we move in parameter space along the Pareto front! "
   ]
  },
  {
   "cell_type": "code",
   "execution_count": null,
   "metadata": {},
   "outputs": [],
   "source": [
    "# sorted_pareto = df_pareto_final.sort_values(by=[\"max_forces\"], ascending=False)\n",
    "# images = []\n",
    "# for UUID in sorted_pareto['UUID']:\n",
    "#     path = \"./output/QA/with-force-penalty/4/pareto/\" + UUID + \"/coilplot.jpeg\"    \n",
    "#     images.append(imageio.imread(path))\n",
    "# create_movies(images, \"pareto_coils\", \"./output/QA/4/\")"
   ]
  },
  {
   "cell_type": "markdown",
   "metadata": {},
   "source": [
    "<img src=\"./output/QA/with-force-penalty/4/pareto_coils.gif\" width=\"350\" align=\"center\">"
   ]
  },
  {
   "cell_type": "markdown",
   "metadata": {},
   "source": [
    "To aid in the visualization, let's also create an animation showing the speed at which we move down the Pareto front."
   ]
  },
  {
   "cell_type": "code",
   "execution_count": null,
   "metadata": {},
   "outputs": [],
   "source": [
    "# fig = plt.figure(figsize=(6.5, 8))\n",
    "# ax = plt.gca()\n",
    "# plt.rc(\"font\", size=13)\n",
    "\n",
    "# *_, df = get_dfs(INPUT_DIR = \"./output/QA/with-force-penalty/4/optimizations/\")\n",
    "# plt.scatter(\n",
    "#     df[\"normalized_BdotN\"],\n",
    "#     df[\"max_max_force\"],\n",
    "#     s=5,\n",
    "#     c='k'\n",
    "# )\n",
    "        \n",
    "# plt.xlabel(r'$\\langle|\\mathbf{B}\\cdot\\mathbf{n}|\\rangle/\\langle B \\rangle$ [unitless]')\n",
    "# plt.ylabel(\"max force [N/m]\")\n",
    "# plt.xlim(0.7 * min(df[\"normalized_BdotN\"]), max(df[\"normalized_BdotN\"]))\n",
    "# plt.ylim(7000, 14000)\n",
    "# plt.xscale(\"log\")\n",
    "\n",
    "# df_final, df_filtered_final, df_pareto_final = get_dfs(INPUT_DIR='./output/QA/with-force-penalty/4/optimizations/')\n",
    "# sorted_pareto = df_pareto_final.sort_values(by=[\"max_forces\"], ascending=False)\n",
    "# images=[]\n",
    "# for UUID in sorted_pareto['UUID']:\n",
    "#     path = \"./output/QA/with-force-penalty/4/optimizations/\" + UUID + \"/coilplot.jpg\"\n",
    "\n",
    "#     x = float(sorted_pareto.loc[sorted_pareto['UUID'] == UUID]['normalized_BdotN'])\n",
    "#     y = float(sorted_pareto.loc[sorted_pareto['UUID'] == UUID]['max_max_force'])\n",
    "#     center = np.array([x,y])\n",
    "#     dx = np.abs(np.e ** (np.log(x) + 0.14) - x)\n",
    "#     dy = 150\n",
    "#     delta = np.array([dx, dy])\n",
    "#     orig = center - delta / 2\n",
    "\n",
    "#     rect = matplotlib.patches.Rectangle((orig[0], orig[1]), delta[0], delta[1], fill=False, linewidth=2,color=\"r\")\n",
    "#     ax.add_patch(rect)\n",
    "\n",
    "#     fig.canvas.draw()\n",
    "#     buf = fig.canvas.tostring_rgb()\n",
    "#     ncols, nrows = fig.canvas.get_width_height()\n",
    "#     image = np.frombuffer(buf, dtype=np.uint8).reshape(nrows, ncols, 3)\n",
    "#     images.append(image)\n",
    "\n",
    "#     rect.remove()\n",
    "    \n",
    "# create_movies(images, \"pareto\", \"./output/QA/with-force-penalty/4/\")"
   ]
  },
  {
   "cell_type": "markdown",
   "metadata": {},
   "source": [
    "<img src=\"./output/QA/with-force-penalty/4/pareto.gif\" width=\"350\" align=\"center\">"
   ]
  },
  {
   "cell_type": "markdown",
   "metadata": {},
   "source": [
    "### Without force penalty\n",
    "For comparison, we also perform optimizations without any force penalty. We begin by performing the \"cold start\" optimizations."
   ]
  },
  {
   "cell_type": "code",
   "execution_count": null,
   "metadata": {},
   "outputs": [],
   "source": [
    "# initial_optimizations(with_force=False)"
   ]
  },
  {
   "cell_type": "markdown",
   "metadata": {},
   "source": [
    "Let's plot all our optimizations."
   ]
  },
  {
   "cell_type": "code",
   "execution_count": null,
   "metadata": {},
   "outputs": [],
   "source": [
    "df, df_filtered, df_pareto = get_dfs(INPUT_DIR='./output/QA/without-force-penalty/1/optimizations/')\n",
    "\n",
    "fig = plt.figure(figsize=(6.5, 8))\n",
    "plt.rc(\"font\", size=13)\n",
    "markersize = 5\n",
    "n_pareto = df_pareto.shape[0]\n",
    "n_filtered = df_filtered.shape[0] - n_pareto\n",
    "color=\"coil_surface_distance\"\n",
    "color_label=\"coil-surface distance [m]\"\n",
    "norm = plt.Normalize(min(df_filtered[color]), max(df_filtered[color]))\n",
    "plt.scatter(\n",
    "    df_filtered[\"normalized_BdotN\"],\n",
    "    df_filtered[\"max_max_force\"],\n",
    "    c=df_filtered[color],\n",
    "    s=markersize,\n",
    "    norm=norm\n",
    ")\n",
    "plt.xlabel(r'$\\langle|\\mathbf{B}\\cdot\\mathbf{n}|\\rangle/\\langle B \\rangle$ [unitless]')\n",
    "plt.ylabel(\"max force [N/m]\")\n",
    "plt.xlim(0.7 * min(df_filtered[\"normalized_BdotN\"]), max(df_filtered[\"normalized_BdotN\"]))\n",
    "plt.ylim(8500, 24000)\n",
    "plt.xscale(\"log\")\n",
    "plt.colorbar(label=color_label)\n",
    "plt.clim(0.17, 0.31)\n",
    "plt.title(f'Optimizations, no force penalty, N={n_filtered}')\n",
    "plt.show()"
   ]
  },
  {
   "cell_type": "markdown",
   "metadata": {},
   "source": [
    "Let's also perform a continuation method. Since we don't have a Pareto front of sorts, let's just apply it to all optimizations that passed through our filters and have a normalized flux of less than $10^{-4}$. For example, here is the process for the first continuation."
   ]
  },
  {
   "cell_type": "code",
   "execution_count": null,
   "metadata": {},
   "outputs": [],
   "source": [
    "INPUT_DIR = \"./output/QA/without-force-penalty/1/optimizations/\"\n",
    "OUTPUT_DIR = \"./output/QA/without-force-penalty/1/pareto/\"\n",
    "_, df_filtered, _ = get_dfs(INPUT_DIR=INPUT_DIR)\n",
    "\n",
    "if os.path.exists(OUTPUT_DIR):\n",
    "    shutil.rmtree(OUTPUT_DIR)\n",
    "os.makedirs(OUTPUT_DIR, exist_ok=True)\n",
    "\n",
    "for UUID in df_filtered['UUID']:\n",
    "    df_UUID = df_filtered.loc[df_filtered['UUID'] == UUID]\n",
    "    if (df_UUID['normalized_BdotN'] < 1e-4).bool():\n",
    "        SOURCE_DIR = glob.glob(f\"./**/{UUID}/\", recursive=True)[0] \n",
    "        DEST_DIR = f\"{OUTPUT_DIR}{UUID}/\"\n",
    "        shutil.copytree(SOURCE_DIR, DEST_DIR)"
   ]
  },
  {
   "cell_type": "code",
   "execution_count": null,
   "metadata": {},
   "outputs": [],
   "source": [
    "INPUT_DIR=\"./output/QA/without-force-penalty/1/pareto/\"\n",
    "OUTPUT_DIR=\"./output/QA/without-force-penalty/2/optimizations\"\n",
    "for i in range(1000): continuation(N=1, dx=10**rand(-3, -1.3), INPUT_DIR=INPUT_DIR, OUTPUT_DIR=OUTPUT_DIR)"
   ]
  },
  {
   "cell_type": "markdown",
   "metadata": {},
   "source": [
    "Let's then look to see how well the method works!"
   ]
  },
  {
   "cell_type": "code",
   "execution_count": 8,
   "metadata": {},
   "outputs": [
    {
     "name": "stderr",
     "output_type": "stream",
     "text": [
      "/var/folders/qx/zl9pfmpn3yz5f62mt03d1m5w0000gs/T/ipykernel_18825/2370832889.py:2: DeprecationWarning: Calling np.sum(generator) is deprecated, and in the future will give a different result. Use np.sum(np.fromiter(generator)) or the python sum builtin instead.\n",
      "  norm = plt.Normalize(1, np.sum(os.path.isdir(os.path.join(\"./output/QA/without-force-penalty\", f)) for f in os.listdir(\"./output/QA/without-force-penalty\")))\n"
     ]
    },
    {
     "data": {
      "image/png": "[encoded data removed]",
      "text/plain": [
       "<Figure size 468.351x576.432 with 1 Axes>"
      ]
     },
     "metadata": {},
     "output_type": "display_data"
    }
   ],
   "source": [
    "fig = plt.figure(figsize=(6.5, 8))\n",
    "norm = plt.Normalize(1, np.sum(os.path.isdir(os.path.join(\"./output/QA/without-force-penalty\", f)) for f in os.listdir(\"./output/QA/without-force-penalty\")))\n",
    "plt.rc(\"font\", size=13)\n",
    "for filename in sorted(os.listdir(\"./output/QA/without-force-penalty\")):\n",
    "    f = os.path.join(\"./output/QA/without-force-penalty\", filename)\n",
    "    if os.path.isdir(f):\n",
    "        _, df, _ = get_dfs(INPUT_DIR = f + \"/optimizations/\")\n",
    "        df = df.query(f\"normalized_BdotN < 1e-4\")\n",
    "        plt.scatter(\n",
    "            df[\"normalized_BdotN\"],\n",
    "            df[\"max_max_force\"],\n",
    "            s=5,\n",
    "            c=int(filename)*np.ones(len(df[\"UUID\"])),\n",
    "            label=f\"Iteration #{filename}\",\n",
    "            norm=norm\n",
    "        )\n",
    "        \n",
    "plt.xlabel(r'$\\langle|\\mathbf{B}\\cdot\\mathbf{n}|\\rangle/\\langle B \\rangle$ [unitless]')\n",
    "plt.ylabel(\"max force [N/m]\")\n",
    "# plt.xlim(0.7 * min(df[\"normalized_BdotN\"]), max(df[\"normalized_BdotN\"]))\n",
    "# plt.ylim(7000, 18000)\n",
    "plt.xscale(\"log\")\n",
    "plt.legend(loc='upper right', fontsize='11')\n",
    "plt.show()"
   ]
  },
  {
   "cell_type": "markdown",
   "metadata": {},
   "source": [
    "### Comparison"
   ]
  },
  {
   "cell_type": "markdown",
   "metadata": {},
   "source": [
    "A major question is as to what the optimizer is physically doing when it comes to reducing coil forces. Here, we examine all optimizations with a normalized flux of less than $10^{-4}$ and compare plots of maximum force versus coil-surface distance. As seen here, there is very little differnence between the case of optimizing with a force penalty and the case of optimizing without a force penalty, which indicates that the optimizer primarily acts to reduce the force through decreasing the coil-surface distance. "
   ]
  },
  {
   "cell_type": "code",
   "execution_count": 9,
   "metadata": {},
   "outputs": [
    {
     "ename": "NameError",
     "evalue": "name 'df_pareto' is not defined",
     "output_type": "error",
     "traceback": [
      "\u001b[0;31m---------------------------------------------------------------------------\u001b[0m",
      "\u001b[0;31mNameError\u001b[0m                                 Traceback (most recent call last)",
      "Cell \u001b[0;32mIn[9], line 9\u001b[0m\n\u001b[1;32m      7\u001b[0m fig \u001b[38;5;241m=\u001b[39m plt\u001b[38;5;241m.\u001b[39mfigure(figsize\u001b[38;5;241m=\u001b[39m(\u001b[38;5;241m6.5\u001b[39m, \u001b[38;5;241m8\u001b[39m))\n\u001b[1;32m      8\u001b[0m plt\u001b[38;5;241m.\u001b[39mrc(\u001b[38;5;124m\"\u001b[39m\u001b[38;5;124mfont\u001b[39m\u001b[38;5;124m\"\u001b[39m, size\u001b[38;5;241m=\u001b[39m\u001b[38;5;241m13\u001b[39m)\n\u001b[0;32m----> 9\u001b[0m n_pareto \u001b[38;5;241m=\u001b[39m \u001b[43mdf_pareto\u001b[49m\u001b[38;5;241m.\u001b[39mshape[\u001b[38;5;241m0\u001b[39m]\n\u001b[1;32m     10\u001b[0m n_filtered \u001b[38;5;241m=\u001b[39m df_filtered\u001b[38;5;241m.\u001b[39mshape[\u001b[38;5;241m0\u001b[39m] \u001b[38;5;241m-\u001b[39m n_pareto\n\u001b[1;32m     11\u001b[0m plt\u001b[38;5;241m.\u001b[39mscatter(\n\u001b[1;32m     12\u001b[0m     df_with_penalty[\u001b[38;5;124m\"\u001b[39m\u001b[38;5;124mmax_max_force\u001b[39m\u001b[38;5;124m\"\u001b[39m],\n\u001b[1;32m     13\u001b[0m     df_with_penalty[\u001b[38;5;124m\"\u001b[39m\u001b[38;5;124mcoil_surface_distance\u001b[39m\u001b[38;5;124m\"\u001b[39m],\n\u001b[1;32m     14\u001b[0m     \u001b[38;5;66;03m# s=5,\u001b[39;00m\n\u001b[1;32m     15\u001b[0m     label\u001b[38;5;241m=\u001b[39m\u001b[38;5;124m\"\u001b[39m\u001b[38;5;124mwith force penalty\u001b[39m\u001b[38;5;124m\"\u001b[39m\n\u001b[1;32m     16\u001b[0m )\n",
      "\u001b[0;31mNameError\u001b[0m: name 'df_pareto' is not defined"
     ]
    },
    {
     "data": {
      "text/plain": [
       "<Figure size 468.351x576.432 with 0 Axes>"
      ]
     },
     "metadata": {},
     "output_type": "display_data"
    }
   ],
   "source": [
    "_, df_with_penalty, _    = get_dfs()\n",
    "_, df_without_penalty, _ = get_dfs(INPUT_DIR='./output/QA/without-force-penalty/1/optimizations/')\n",
    "\n",
    "df_with_penalty    = df_with_penalty.query(f\"normalized_BdotN < 1e-4\")\n",
    "df_without_penalty = df_without_penalty.query(f\"normalized_BdotN < 1e-4\")\n",
    "\n",
    "fig = plt.figure(figsize=(6.5, 8))\n",
    "plt.rc(\"font\", size=13)\n",
    "plt.scatter(\n",
    "    df_with_penalty[\"max_max_force\"],\n",
    "    df_with_penalty[\"coil_surface_distance\"],\n",
    "    # s=5,\n",
    "    label=\"with force penalty\"\n",
    ")\n",
    "plt.scatter(\n",
    "    df_without_penalty[\"max_max_force\"],\n",
    "    df_without_penalty[\"coil_surface_distance\"],\n",
    "    # s=5,\n",
    "    label=\"without force penalty\"\n",
    ")\n",
    "plt.xlabel(\"max force [N/m]\")\n",
    "plt.ylabel(\"coil-surface distance [m]\")\n",
    "plt.xlim(10000, 26000)\n",
    "plt.ylim(0.16, 0.32)\n",
    "plt.legend()\n",
    "plt.show()"
   ]
  },
  {
   "cell_type": "markdown",
   "metadata": {},
   "source": [
    "## Magnetic Field Analysis\n"
   ]
  },
  {
   "cell_type": "markdown",
   "metadata": {},
   "source": [
    "### Computing Equilibria"
   ]
  },
  {
   "cell_type": "markdown",
   "metadata": {},
   "source": [
    "Let's compute and save the equilibria for all configurations on the Pareto front as this is the most time-intentive task."
   ]
  },
  {
   "cell_type": "code",
   "execution_count": null,
   "metadata": {},
   "outputs": [],
   "source": [
    "# IN_PATH = \"./output/QA/4/pareto/\"\n",
    "# UUIDs = [f.name for f in os.scandir(IN_PATH) if f.is_dir()]\n",
    "# for UUID in UUIDs:\n",
    "#     if not \"eq.h5\" in os.listdir(f\"./output/QA/with-force-penalty/4/pareto/{UUID}/\"):\n",
    "#         qfm_surf, _, _ = qfm(UUID)\n",
    "#         desc_eq = surf_to_desc(qfm_surf)\n",
    "#         desc_eq.save(IN_PATH + UUID + \"/eq.h5\")\n",
    "#         print(f\"Saved {UUID}\")"
   ]
  },
  {
   "cell_type": "markdown",
   "metadata": {},
   "source": [
    "### Quasisymmetry measures"
   ]
  },
  {
   "cell_type": "markdown",
   "metadata": {},
   "source": [
    "#### $|\\textbf{B}|$ in Boozer coordinates"
   ]
  },
  {
   "cell_type": "markdown",
   "metadata": {},
   "source": [
    "Let's export $|\\textbf{B}|$ plots for each coil set in the final Pareto front."
   ]
  },
  {
   "cell_type": "code",
   "execution_count": null,
   "metadata": {},
   "outputs": [],
   "source": [
    "# IN_PATH = \"./output/QA/4/pareto/\"\n",
    "# UUIDs = [f.name for f in os.scandir(IN_PATH) if f.is_dir()]\n",
    "# for UUID in UUIDs:\n",
    "#     IN_PATH = f\"./output/QA/4/pareto/{UUID}/eq.h5\"\n",
    "#     eq = desc.io.load(IN_PATH)\n",
    "#     fig, ax = plot_boozer_surface(eq)\n",
    "#     SOURCE_DIR = glob.glob(f\"./**/{UUID}/\", recursive=True)[0] \n",
    "#     EXPORT_PATH = SOURCE_DIR + \"B.jpg\"\n",
    "#     plt.savefig(EXPORT_PATH)\n",
    "#     plt.close()\n",
    "#     print(f\"Exported UUID {UUID}\")\n",
    "\n",
    "UUIDs = [\"6266c8d4bb25499b899d86e9e3dd2ee2\", \"c3c984ea02624607b8a59a9fdf0642dd\"]\n",
    "for UUID in UUIDs:\n",
    "    IN_PATH = \"./output/QA/4/pareto/\"\n",
    "    img = matplotlib.image.imread(IN_PATH + UUID + \"/B.jpg\")\n",
    "    plt.figure()\n",
    "    imgplot = plt.imshow(img)"
   ]
  },
  {
   "cell_type": "markdown",
   "metadata": {},
   "source": [
    "Now, let's create a `.gif` of all the |B| plots!"
   ]
  },
  {
   "cell_type": "code",
   "execution_count": null,
   "metadata": {},
   "outputs": [],
   "source": [
    "df_final, df_filtered_final, df_pareto_final = get_dfs(INPUT_DIR='./output/QA/4/optimizations/')\n",
    "sorted_pareto = df_pareto_final.sort_values(by=[\"max_forces\"], ascending=False)\n",
    "images = []\n",
    "for UUID in sorted_pareto['UUID']:\n",
    "    path = \"./output/QA/4/pareto/\" + UUID + \"/B.jpg\"    \n",
    "    images.append(imageio.imread(path))\n",
    "create_movies(images, \"pareto_B\", \"./output/QA/4/\")"
   ]
  },
  {
   "cell_type": "markdown",
   "metadata": {},
   "source": [
    "<img src=\"./output/QA/with-force-penalty/4/pareto_B.gif\" width=\"350\" align=\"center\">"
   ]
  },
  {
   "cell_type": "markdown",
   "metadata": {},
   "source": [
    "By comparison, here's the target equilibrium!"
   ]
  },
  {
   "cell_type": "code",
   "execution_count": null,
   "metadata": {},
   "outputs": [],
   "source": [
    "target_eq = desc.io.load(\"./inputs/LandremanPaul2021_QA.h5\")\n",
    "fig, ax = plot_boozer_surface(target_eq)\n",
    "plt.show()"
   ]
  },
  {
   "cell_type": "markdown",
   "metadata": {},
   "source": [
    "#### Quasisymmetry metrics"
   ]
  },
  {
   "cell_type": "markdown",
   "metadata": {},
   "source": [
    "Here, the solid lines represent the target equilibrium, while the dashed ones represent the stage-II equilibrium. The three metrics shown are (1) the two-term error function $f_C$ defined on the LCFS, the triple product objective $f_T$ defined throughout the volume, and (3) the Boozer objective $f_B$. "
   ]
  },
  {
   "cell_type": "code",
   "execution_count": null,
   "metadata": {},
   "outputs": [],
   "source": [
    "# target_eq = desc.io.load(\"./inputs/LandremanPaul2021_QA.h5\")\n",
    "# IN_PATH = \"./output/QA/4/pareto/\"\n",
    "# UUIDs = [f.name for f in os.scandir(IN_PATH) if f.is_dir()]\n",
    "# for UUID in UUIDs:\n",
    "#     IN_PATH = f\"./output/QA/4/pareto/{UUID}/eq.h5\"\n",
    "#     eq = desc.io.load(IN_PATH)\n",
    "#     fig = plt.figure()\n",
    "#     ax = fig.add_subplot() \n",
    "#     ax.set_ylim(1e-7, 1e-1)\n",
    "#     desc.plotting.plot_qs_error(eq, ls=[\"--\", \"--\", \"--\"], marker=[\"\", \"\", \"\"], ax=ax)\n",
    "#     desc.plotting.plot_qs_error(target_eq, marker=[\"\", \"\", \"\"], ax=ax, legend=False)\n",
    "#     SOURCE_DIR = glob.glob(f\"./**/{UUID}/\", recursive=True)[0] \n",
    "#     EXPORT_PATH = SOURCE_DIR + \"qs.jpg\"\n",
    "#     plt.savefig(EXPORT_PATH)\n",
    "#     plt.close()\n",
    "#     print(f\"Exported UUID {UUID}\")\n",
    "\n",
    "UUIDs = [\"6266c8d4bb25499b899d86e9e3dd2ee2\", \"c3c984ea02624607b8a59a9fdf0642dd\"]\n",
    "for UUID in UUIDs:\n",
    "    IN_PATH = \"./output/QA/4/pareto/\"\n",
    "    img = matplotlib.image.imread(IN_PATH + UUID + \"/qs.jpg\")\n",
    "    plt.figure()\n",
    "    imgplot = plt.imshow(img)"
   ]
  },
  {
   "cell_type": "markdown",
   "metadata": {},
   "source": [
    "As before, let's create a `.gif`!"
   ]
  },
  {
   "cell_type": "code",
   "execution_count": null,
   "metadata": {},
   "outputs": [],
   "source": [
    "df_final, df_filtered_final, df_pareto_final = get_dfs(INPUT_DIR='./output/QA/with-force-penalty/4/optimizations/')\n",
    "sorted_pareto = df_pareto_final.sort_values(by=[\"max_forces\"], ascending=False)\n",
    "images = []\n",
    "for UUID in sorted_pareto['UUID']:\n",
    "    path = \"./output/QA/with-force-penalty/4/pareto/\" + UUID + \"/qs.jpg\"    \n",
    "    images.append(imageio.imread(path))\n",
    "create_movies(images, \"pareto_qs\", \"./output/QA/4/\")"
   ]
  },
  {
   "cell_type": "markdown",
   "metadata": {},
   "source": [
    "<img src=\"./output/QA/with-force-penalty/4/pareto_qs.gif\" width=\"350\" align=\"center\">\n"
   ]
  },
  {
   "cell_type": "markdown",
   "metadata": {},
   "source": [
    "### Fast particle tracing"
   ]
  },
  {
   "cell_type": "markdown",
   "metadata": {},
   "source": [
    "First, we need to scale the equilibria to the minor radius and volume-averaged magnetic field of ARIES-CS."
   ]
  },
  {
   "cell_type": "code",
   "execution_count": null,
   "metadata": {},
   "outputs": [],
   "source": [
    "# import desc\n",
    "# import os\n",
    "# from desc.vmec import VMECIO\n",
    "\n",
    "# IN_PATH = \"./output/QA/4/pareto/\"\n",
    "# UUIDs = [f.name for f in os.scandir(IN_PATH) if f.is_dir()]\n",
    "# for UUID in UUIDs:\n",
    "#     eq = desc.io.load(f\"./output/QA/4/pareto/{UUID}/eq.h5\")\n",
    "#     eq_scaled = desc.compat.rescale(eq, ('a', 1.7), ('<B>', 5.86))\n",
    "#     eq_scaled.save(f\"./output/QA/4/pareto/{UUID}/eq_scaled.h5\")\n",
    "#     VMECIO.save(eq_scaled, f\"./output/QA/4/pareto/{UUID}/eq_scaled.nc\", verbose=0)\n",
    "#     print(f\"Saved {UUID}\")"
   ]
  },
  {
   "cell_type": "markdown",
   "metadata": {},
   "source": [
    "Let's generate the data first."
   ]
  },
  {
   "cell_type": "code",
   "execution_count": null,
   "metadata": {},
   "outputs": [],
   "source": [
    "IN_PATH = \"./output/QA/with-force-penalty/4/pareto/\"\n",
    "UUIDs = [f.name for f in os.scandir(IN_PATH) if f.is_dir()]\n",
    "for UUID in UUIDs:\n",
    "    if not \"confined_fraction.dat\" in os.listdir(f\"./output/QA/with-force-penalty/4/pareto/{UUID}/\"):\n",
    "        run_SIMPLE(UUID, trace_time=2e-1, n_test_part=5000, suppress_output=True)\n",
    "        print(f\"Traced {UUID}\")"
   ]
  },
  {
   "cell_type": "code",
   "execution_count": null,
   "metadata": {},
   "outputs": [],
   "source": [
    "plot_losses(\"/Users/sienahurwitz/Documents/Physics/Projects/2023-Force Optimizations/Force Optimizations/output/QA/4/pareto/0a0ef2e8c01743888ced32dd4c0b0c1d/confined_fraction.dat\")"
   ]
  },
  {
   "cell_type": "markdown",
   "metadata": {},
   "source": [
    "### Poincaré Plots"
   ]
  },
  {
   "cell_type": "markdown",
   "metadata": {},
   "source": [
    "Here, we make Poincare plots of the field."
   ]
  },
  {
   "cell_type": "code",
   "execution_count": null,
   "metadata": {},
   "outputs": [],
   "source": [
    "for UUID in ['49d67fc2af7e418a95abd1b56613bf03', '13b5e759418c4d29b5b826acc90f5cb9']:\n",
    "    image = poincare(UUID, OUT_DIR='1/poincare')\n",
    "    plt.imshow(image)"
   ]
  },
  {
   "cell_type": "markdown",
   "metadata": {},
   "source": [
    "## Miscellaneous / Testing\n",
    "### Ensemble of Optimizations"
   ]
  },
  {
   "cell_type": "markdown",
   "metadata": {},
   "source": [
    "We can also analyze the success of our optimizations in terms of how and how much data was excluded during the filtering step. These plots show histograms of the optimizations with regard to numerous parameters, plotted both before and after filtering."
   ]
  },
  {
   "cell_type": "code",
   "execution_count": null,
   "metadata": {},
   "outputs": [],
   "source": [
    "df, df_filtered, df_pareto = get_dfs()\n",
    "success_plt(df, df_filtered).show()"
   ]
  },
  {
   "cell_type": "markdown",
   "metadata": {},
   "source": [
    "Let's see what a good `dx` is for the continuation method. Here, we see that $dx\\leq 0.1$ seems appropriate."
   ]
  },
  {
   "cell_type": "code",
   "execution_count": null,
   "metadata": {},
   "outputs": [],
   "source": [
    "df2, df_filtered2, df_pareto2 = get_dfs(INPUT_DIR='./output/QA/3/optimizations/')\n",
    "\n",
    "fig = plt.figure(figsize=(6.5, 8))\n",
    "color = 'dx'\n",
    "markersize = 5\n",
    "plt.rc(\"font\", size=13)\n",
    "norm = matplotlib.colors.LogNorm(1e-3, 7e-2)\n",
    "\n",
    "plt.scatter(\n",
    "    df_filtered2[\"normalized_BdotN\"],\n",
    "    df_filtered2[\"max_max_force\"],\n",
    "    c=df_filtered2[color],\n",
    "    s=markersize,\n",
    "    label=f'Continuation Method',\n",
    "    norm=norm\n",
    ")\n",
    "plt.colorbar(label=color)\n",
    "plt.scatter(\n",
    "    df_pareto[\"normalized_BdotN\"], \n",
    "    df_pareto[\"max_max_force\"], \n",
    "    marker=\"+\",\n",
    "    c='black',\n",
    "    label=f'Original Pareto Front',\n",
    ")\n",
    "plt.xlabel(r'$\\langle|\\mathbf{B}\\cdot\\mathbf{n}|\\rangle/\\langle B \\rangle$ [unitless]')\n",
    "plt.ylabel(\"max force [N/m]\")\n",
    "plt.xlim(0.7 * min(df_filtered2[\"normalized_BdotN\"]), max(df_filtered2[\"normalized_BdotN\"]))\n",
    "plt.ylim(8500, 18000)\n",
    "plt.xscale(\"log\")\n",
    "plt.legend(loc='upper right', fontsize='11')\n",
    "plt.show()"
   ]
  }
 ],
 "metadata": {
  "kernelspec": {
   "display_name": "base",
   "language": "python",
   "name": "python3"
  },
  "language_info": {
   "codemirror_mode": {
    "name": "ipython",
    "version": 3
   },
   "file_extension": ".py",
   "mimetype": "text/x-python",
   "name": "python",
   "nbconvert_exporter": "python",
   "pygments_lexer": "ipython3",
   "version": "3.12.4"
  }
 },
 "nbformat": 4,
 "nbformat_minor": 2
}
