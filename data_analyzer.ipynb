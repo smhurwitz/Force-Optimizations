{
 "cells": [
  {
   "cell_type": "markdown",
   "metadata": {},
   "source": [
    "# Force Optimizations Data Analysis "
   ]
  },
  {
   "cell_type": "code",
   "execution_count": 81,
   "metadata": {},
   "outputs": [],
   "source": [
    "import glob\n",
    "import os\n",
    "import json\n",
    "import pandas as pd\n",
    "import numpy as np\n",
    "import matplotlib.pyplot as plt\n",
    "import matplotlib.colors as colors\n",
    "from paretoset import paretoset"
   ]
  },
  {
   "cell_type": "markdown",
   "metadata": {},
   "source": [
    "## Data Analaysis\n",
    "Let's go ahead and analyze our data from the `output` folder! We'll begin by importing the `.json` files and creating a `DataFrame` of the results."
   ]
  },
  {
   "cell_type": "code",
   "execution_count": 82,
   "metadata": {},
   "outputs": [],
   "source": [
    "\n",
    "\n",
    "# Initialize an empty DataFrame\n",
    "df = pd.DataFrame()\n",
    "\n",
    "results = glob.glob(\"./output/initial/*/results.json\")\n",
    "for results_file in results:\n",
    "    with open(results_file, \"r\") as f:\n",
    "        data = json.load(f)\n",
    "\n",
    "    # Wrap lists in another list\n",
    "    for key, value in data.items():\n",
    "        if isinstance(value, list):\n",
    "            data[key] = [value]\n",
    "\n",
    "    df = pd.concat([df, pd.DataFrame(data)], ignore_index=True)"
   ]
  },
  {
   "cell_type": "markdown",
   "metadata": {},
   "source": [
    "We can now filter out the data according to some pre-specified criteria."
   ]
  },
  {
   "cell_type": "code",
   "execution_count": 83,
   "metadata": {},
   "outputs": [],
   "source": [
    "margin_up   = 1.05\n",
    "margin_low  = 0.95\n",
    "allowed_length  = 5.00 * margin_up\n",
    "allowed_κ       = 12.00 * margin_up\n",
    "allowed_MSC     = 6.00 * margin_up\n",
    "allowed_CC_dist = 0.083 * margin_low\n",
    "allowed_CS_dist = 0.166 * margin_low\n",
    "allowed_arclen_var = 1e-2\n",
    "\n",
    "succeeded = df[\"linking_number\"] < 0.1\n",
    "succeeded = np.logical_and(succeeded, df[\"max_length\"] < allowed_length)\n",
    "succeeded = np.logical_and(succeeded, df[\"max_max_κ\"] < allowed_κ)\n",
    "succeeded = np.logical_and(succeeded, df[\"max_MSC\"] < allowed_MSC)\n",
    "succeeded = np.logical_and(succeeded, df[\"coil_coil_distance\"] > allowed_CC_dist)\n",
    "succeeded = np.logical_and(succeeded, df[\"coil_surface_distance\"] > allowed_CS_dist)\n",
    "succeeded = np.logical_and(succeeded, df[\"max_arclength_variance\"] < allowed_arclen_var)\n",
    "\n",
    "df_filtered = df[succeeded]"
   ]
  },
  {
   "cell_type": "markdown",
   "metadata": {},
   "source": [
    "We can easily create the Paredo front of our results."
   ]
  },
  {
   "cell_type": "code",
   "execution_count": 84,
   "metadata": {},
   "outputs": [],
   "source": [
    "pareto_mask = paretoset(df_filtered[[\"BdotN\", \"max_max_force\"]], sense=[min, min])\n",
    "df_pareto = df_filtered[pareto_mask]"
   ]
  },
  {
   "cell_type": "markdown",
   "metadata": {},
   "source": [
    "If desired, we can create a nice table summarizing the results as well. "
   ]
  },
  {
   "cell_type": "code",
   "execution_count": 85,
   "metadata": {},
   "outputs": [
    {
     "name": "stdout",
     "output_type": "stream",
     "text": [
      "Best Pareto-optimal results:\n",
      "|     | UUID                             |       BdotN |   max_max_force |   max_max_κ |   max_MSC |   max_length |   coil_coil_distance |   coil_surface_distance |\n",
      "|----:|:---------------------------------|------------:|----------------:|------------:|----------:|-------------:|---------------------:|------------------------:|\n",
      "|  15 | 57bce2d54086475db5fa5da43ce71c15 | 0.00482221  |         1752.72 |     2.98593 |   3.66757 |      4.88361 |            0.138232  |                0.288628 |\n",
      "|  43 | 03bd49f89a7d4079aed682b3d1b55815 | 0.000260799 |        26375.4  |     3.35376 |   4.1822  |      4.98441 |            0.146209  |                0.261466 |\n",
      "|  45 | 39213f19518149b59b1c13b5d94da960 | 0.000548893 |        16379.2  |     3.52531 |   4.77127 |      4.68702 |            0.181377  |                0.232977 |\n",
      "|  50 | 7c42128b9abd4d0b99e60073be044068 | 0.00779037  |         1157.37 |     5.25069 |   4.87136 |      4.73079 |            0.109662  |                0.246353 |\n",
      "|  82 | bc20bea12c914034865343dc14acef7e | 0.000584854 |        15944.1  |     4.04077 |   5.52366 |      4.69732 |            0.185074  |                0.226022 |\n",
      "| 143 | d23790610ec644ac818cb00c7fb7a30f | 0.000333095 |        20588.6  |     4.2564  |   4.83825 |      4.99053 |            0.153075  |                0.269134 |\n",
      "| 298 | 5c6d41073ae84c418c243efbbe5c1cad | 0.000403667 |        18763    |     3.89296 |   5.05176 |      4.88185 |            0.176142  |                0.241131 |\n",
      "| 333 | 99287fa9e3cd4de7bdf971c919f5868b | 0.000641064 |         1960.55 |     4.52156 |   5.18847 |      4.97504 |            0.120998  |                0.248671 |\n",
      "| 359 | 5f12090eed394418a70502bafb44554e | 0.000332876 |        22561.8  |     4.3319  |   4.94338 |      4.97646 |            0.0998655 |                0.262178 |\n",
      "| 442 | f7cbf17b376d4eaa92095ec4e9b3eabc | 0.00565786  |         1742.5  |     6.27276 |   5.3885  |      4.60081 |            0.106782  |                0.261517 |\n",
      "| 455 | da6752a8e2744fdab72882e1a43c8b39 | 0.000474531 |        18434.7  |     3.50247 |   4.80692 |      4.67118 |            0.175814  |                0.243768 |\n",
      "| 465 | 619bd1ea03974765bb25a10f794f1a0d | 0.000476247 |        16640    |     4.51018 |   5.04948 |      4.9058  |            0.179904  |                0.236012 |\n",
      "| 499 | ff32104b68394767b3ebfd04212c69ca | 0.000297669 |        23805.3  |     3.32062 |   4.10277 |      4.99919 |            0.100846  |                0.269258 |\n",
      "| 500 | d4b0e8538cb1416385104349744a5711 | 0.00664339  |         1554.73 |     3.73261 |   3.77499 |      4.60778 |            0.119739  |                0.282115 |\n"
     ]
    }
   ],
   "source": [
    "print(\"Best Pareto-optimal results:\")\n",
    "print(\n",
    "    (df_pareto[\n",
    "        [\n",
    "            \"UUID\",\n",
    "            \"BdotN\",\n",
    "            \"max_max_force\",\n",
    "            \"max_max_κ\",\n",
    "            \"max_MSC\",\n",
    "            \"max_length\",\n",
    "            \"coil_coil_distance\",\n",
    "            \"coil_surface_distance\"\n",
    "        ]\n",
    "    ]).to_markdown()\n",
    ")"
   ]
  },
  {
   "cell_type": "markdown",
   "metadata": {},
   "source": [
    "# Plotting\n",
    "## Paredo Fronts\n",
    "Time to get plotting! We can begin by generating the Paredo fronts with color scales representing additional parameters such as maximum coil length and the Fourier order of the coils. "
   ]
  },
  {
   "cell_type": "code",
   "execution_count": 86,
   "metadata": {},
   "outputs": [
    {
     "data": {
      "text/plain": [
       "<matplotlib.colorbar.Colorbar at 0x7fb052f2d7c0>"
      ]
     },
     "execution_count": 86,
     "metadata": {},
     "output_type": "execute_result"
    },
    {
     "data": {
      "image/png": "[encoded data removed]",
      "text/plain": [
       "<Figure size 1450x800 with 4 Axes>"
      ]
     },
     "metadata": {},
     "output_type": "display_data"
    }
   ],
   "source": [
    "plt.figure(0, figsize=(14.5, 8))\n",
    "plt.rc(\"font\", size=8)\n",
    "nrows = 1\n",
    "ncols = 2\n",
    "markersize = 5\n",
    "\n",
    "# 1. PAREDO FRONT W. LENGTH VISUALIZATION\n",
    "subplot_index = 1\n",
    "plt.subplot(nrows, ncols, subplot_index)\n",
    "subplot_index += 1\n",
    "plt.scatter(df[\"BdotN\"], df[\"max_max_force\"], c=df[\"max_length\"], s=1)\n",
    "plt.scatter(\n",
    "    df_filtered[\"BdotN\"],\n",
    "    df_filtered[\"max_max_force\"],\n",
    "    c=df_filtered[\"max_length\"],\n",
    "    s=markersize,\n",
    ")\n",
    "plt.scatter(\n",
    "    df_pareto[\"BdotN\"], df_pareto[\"max_max_force\"], c=df_pareto[\"max_length\"], marker=\"+\"\n",
    ")\n",
    "plt.xlabel(\"Bnormal\")\n",
    "plt.ylabel(\"Max Force\")\n",
    "plt.xscale(\"log\")\n",
    "plt.colorbar(label=\"max_length\")\n",
    "\n",
    "# 2. PAREDO FRONT W. ORDER VISUALIZATION\n",
    "plt.subplot(nrows, ncols, subplot_index)\n",
    "subplot_index += 1\n",
    "plt.scatter(df[\"BdotN\"], df[\"max_max_force\"], c=df[\"order\"], s=1)\n",
    "plt.scatter(\n",
    "    df_filtered[\"BdotN\"],\n",
    "    df_filtered[\"max_max_force\"],\n",
    "    c=df_filtered[\"order\"],\n",
    "    s=markersize,\n",
    ")\n",
    "plt.scatter(\n",
    "    df_pareto[\"BdotN\"], df_pareto[\"max_max_force\"], c=df_pareto[\"order\"], marker=\"+\"\n",
    ")\n",
    "plt.xlabel(\"Bnormal\")\n",
    "plt.ylabel(\"Max Force\")\n",
    "plt.xscale(\"log\")\n",
    "plt.colorbar(label=\"order\")"
   ]
  },
  {
   "cell_type": "markdown",
   "metadata": {},
   "source": [
    "We can also make these plots interactive by using Plotly."
   ]
  },
  {
   "cell_type": "code",
   "execution_count": 87,
   "metadata": {},
   "outputs": [
    {
     "data": {
      "application/vnd.plotly.v1+json": {
       "config": {
        "plotlyServerURL": "https://plot.ly"
       },
       "data": [
        {
         "customdata": [
          [
           "57bce2d54086475db5fa5da43ce71c15"
          ],
          [
           "03bd49f89a7d4079aed682b3d1b55815"
          ],
          [
           "39213f19518149b59b1c13b5d94da960"
          ],
          [
           "7c42128b9abd4d0b99e60073be044068"
          ],
          [
           "bc20bea12c914034865343dc14acef7e"
          ],
          [
           "d23790610ec644ac818cb00c7fb7a30f"
          ],
          [
           "5c6d41073ae84c418c243efbbe5c1cad"
          ],
          [
           "99287fa9e3cd4de7bdf971c919f5868b"
          ],
          [
           "5f12090eed394418a70502bafb44554e"
          ],
          [
           "f7cbf17b376d4eaa92095ec4e9b3eabc"
          ],
          [
           "da6752a8e2744fdab72882e1a43c8b39"
          ],
          [
           "619bd1ea03974765bb25a10f794f1a0d"
          ],
          [
           "ff32104b68394767b3ebfd04212c69ca"
          ],
          [
           "d4b0e8538cb1416385104349744a5711"
          ]
         ],
         "hovertemplate": "BdotN=%{x}<br>max_max_force=%{y:.2f}<br>UUID=%{customdata[0]}<br>order=%{marker.color}<extra></extra>",
         "legendgroup": "",
         "marker": {
          "color": [
           9,
           10,
           8,
           13,
           9,
           11,
           9,
           10,
           8,
           15,
           8,
           10,
           7,
           11
          ],
          "coloraxis": "coloraxis",
          "symbol": "circle"
         },
         "mode": "markers",
         "name": "",
         "orientation": "v",
         "showlegend": false,
         "type": "scatter",
         "x": [
          0.004822213976140627,
          0.00026079923900260377,
          0.0005488928960381704,
          0.007790366186272987,
          0.0005848541648593937,
          0.00033309485896936637,
          0.00040366723958762125,
          0.0006410637853107378,
          0.0003328757963740496,
          0.0056578616133770845,
          0.0004745311080303334,
          0.0004762465145993688,
          0.00029766937395439986,
          0.006643394369206035
         ],
         "xaxis": "x",
         "y": [
          1752.7174250910305,
          26375.350723214837,
          16379.159224631794,
          1157.3688555479098,
          15944.07623214165,
          20588.569664375427,
          18762.967777732134,
          1960.5507183563655,
          22561.792161122372,
          1742.5027842859392,
          18434.718215387962,
          16640.001174932262,
          23805.337979879387,
          1554.7285727217668
         ],
         "yaxis": "y"
        }
       ],
       "layout": {
        "coloraxis": {
         "colorbar": {
          "title": {
           "text": "order"
          }
         },
         "colorscale": [
          [
           0,
           "#0d0887"
          ],
          [
           0.1111111111111111,
           "#46039f"
          ],
          [
           0.2222222222222222,
           "#7201a8"
          ],
          [
           0.3333333333333333,
           "#9c179e"
          ],
          [
           0.4444444444444444,
           "#bd3786"
          ],
          [
           0.5555555555555556,
           "#d8576b"
          ],
          [
           0.6666666666666666,
           "#ed7953"
          ],
          [
           0.7777777777777778,
           "#fb9f3a"
          ],
          [
           0.8888888888888888,
           "#fdca26"
          ],
          [
           1,
           "#f0f921"
          ]
         ]
        },
        "height": 400,
        "legend": {
         "tracegroupgap": 0
        },
        "margin": {
         "b": 20,
         "l": 20,
         "r": 20,
         "t": 40
        },
        "plot_bgcolor": "white",
        "template": {
         "data": {
          "bar": [
           {
            "error_x": {
             "color": "#2a3f5f"
            },
            "error_y": {
             "color": "#2a3f5f"
            },
            "marker": {
             "line": {
              "color": "#E5ECF6",
              "width": 0.5
             },
             "pattern": {
              "fillmode": "overlay",
              "size": 10,
              "solidity": 0.2
             }
            },
            "type": "bar"
           }
          ],
          "barpolar": [
           {
            "marker": {
             "line": {
              "color": "#E5ECF6",
              "width": 0.5
             },
             "pattern": {
              "fillmode": "overlay",
              "size": 10,
              "solidity": 0.2
             }
            },
            "type": "barpolar"
           }
          ],
          "carpet": [
           {
            "aaxis": {
             "endlinecolor": "#2a3f5f",
             "gridcolor": "white",
             "linecolor": "white",
             "minorgridcolor": "white",
             "startlinecolor": "#2a3f5f"
            },
            "baxis": {
             "endlinecolor": "#2a3f5f",
             "gridcolor": "white",
             "linecolor": "white",
             "minorgridcolor": "white",
             "startlinecolor": "#2a3f5f"
            },
            "type": "carpet"
           }
          ],
          "choropleth": [
           {
            "colorbar": {
             "outlinewidth": 0,
             "ticks": ""
            },
            "type": "choropleth"
           }
          ],
          "contour": [
           {
            "colorbar": {
             "outlinewidth": 0,
             "ticks": ""
            },
            "colorscale": [
             [
              0,
              "#0d0887"
             ],
             [
              0.1111111111111111,
              "#46039f"
             ],
             [
              0.2222222222222222,
              "#7201a8"
             ],
             [
              0.3333333333333333,
              "#9c179e"
             ],
             [
              0.4444444444444444,
              "#bd3786"
             ],
             [
              0.5555555555555556,
              "#d8576b"
             ],
             [
              0.6666666666666666,
              "#ed7953"
             ],
             [
              0.7777777777777778,
              "#fb9f3a"
             ],
             [
              0.8888888888888888,
              "#fdca26"
             ],
             [
              1,
              "#f0f921"
             ]
            ],
            "type": "contour"
           }
          ],
          "contourcarpet": [
           {
            "colorbar": {
             "outlinewidth": 0,
             "ticks": ""
            },
            "type": "contourcarpet"
           }
          ],
          "heatmap": [
           {
            "colorbar": {
             "outlinewidth": 0,
             "ticks": ""
            },
            "colorscale": [
             [
              0,
              "#0d0887"
             ],
             [
              0.1111111111111111,
              "#46039f"
             ],
             [
              0.2222222222222222,
              "#7201a8"
             ],
             [
              0.3333333333333333,
              "#9c179e"
             ],
             [
              0.4444444444444444,
              "#bd3786"
             ],
             [
              0.5555555555555556,
              "#d8576b"
             ],
             [
              0.6666666666666666,
              "#ed7953"
             ],
             [
              0.7777777777777778,
              "#fb9f3a"
             ],
             [
              0.8888888888888888,
              "#fdca26"
             ],
             [
              1,
              "#f0f921"
             ]
            ],
            "type": "heatmap"
           }
          ],
          "heatmapgl": [
           {
            "colorbar": {
             "outlinewidth": 0,
             "ticks": ""
            },
            "colorscale": [
             [
              0,
              "#0d0887"
             ],
             [
              0.1111111111111111,
              "#46039f"
             ],
             [
              0.2222222222222222,
              "#7201a8"
             ],
             [
              0.3333333333333333,
              "#9c179e"
             ],
             [
              0.4444444444444444,
              "#bd3786"
             ],
             [
              0.5555555555555556,
              "#d8576b"
             ],
             [
              0.6666666666666666,
              "#ed7953"
             ],
             [
              0.7777777777777778,
              "#fb9f3a"
             ],
             [
              0.8888888888888888,
              "#fdca26"
             ],
             [
              1,
              "#f0f921"
             ]
            ],
            "type": "heatmapgl"
           }
          ],
          "histogram": [
           {
            "marker": {
             "pattern": {
              "fillmode": "overlay",
              "size": 10,
              "solidity": 0.2
             }
            },
            "type": "histogram"
           }
          ],
          "histogram2d": [
           {
            "colorbar": {
             "outlinewidth": 0,
             "ticks": ""
            },
            "colorscale": [
             [
              0,
              "#0d0887"
             ],
             [
              0.1111111111111111,
              "#46039f"
             ],
             [
              0.2222222222222222,
              "#7201a8"
             ],
             [
              0.3333333333333333,
              "#9c179e"
             ],
             [
              0.4444444444444444,
              "#bd3786"
             ],
             [
              0.5555555555555556,
              "#d8576b"
             ],
             [
              0.6666666666666666,
              "#ed7953"
             ],
             [
              0.7777777777777778,
              "#fb9f3a"
             ],
             [
              0.8888888888888888,
              "#fdca26"
             ],
             [
              1,
              "#f0f921"
             ]
            ],
            "type": "histogram2d"
           }
          ],
          "histogram2dcontour": [
           {
            "colorbar": {
             "outlinewidth": 0,
             "ticks": ""
            },
            "colorscale": [
             [
              0,
              "#0d0887"
             ],
             [
              0.1111111111111111,
              "#46039f"
             ],
             [
              0.2222222222222222,
              "#7201a8"
             ],
             [
              0.3333333333333333,
              "#9c179e"
             ],
             [
              0.4444444444444444,
              "#bd3786"
             ],
             [
              0.5555555555555556,
              "#d8576b"
             ],
             [
              0.6666666666666666,
              "#ed7953"
             ],
             [
              0.7777777777777778,
              "#fb9f3a"
             ],
             [
              0.8888888888888888,
              "#fdca26"
             ],
             [
              1,
              "#f0f921"
             ]
            ],
            "type": "histogram2dcontour"
           }
          ],
          "mesh3d": [
           {
            "colorbar": {
             "outlinewidth": 0,
             "ticks": ""
            },
            "type": "mesh3d"
           }
          ],
          "parcoords": [
           {
            "line": {
             "colorbar": {
              "outlinewidth": 0,
              "ticks": ""
             }
            },
            "type": "parcoords"
           }
          ],
          "pie": [
           {
            "automargin": true,
            "type": "pie"
           }
          ],
          "scatter": [
           {
            "fillpattern": {
             "fillmode": "overlay",
             "size": 10,
             "solidity": 0.2
            },
            "type": "scatter"
           }
          ],
          "scatter3d": [
           {
            "line": {
             "colorbar": {
              "outlinewidth": 0,
              "ticks": ""
             }
            },
            "marker": {
             "colorbar": {
              "outlinewidth": 0,
              "ticks": ""
             }
            },
            "type": "scatter3d"
           }
          ],
          "scattercarpet": [
           {
            "marker": {
             "colorbar": {
              "outlinewidth": 0,
              "ticks": ""
             }
            },
            "type": "scattercarpet"
           }
          ],
          "scattergeo": [
           {
            "marker": {
             "colorbar": {
              "outlinewidth": 0,
              "ticks": ""
             }
            },
            "type": "scattergeo"
           }
          ],
          "scattergl": [
           {
            "marker": {
             "colorbar": {
              "outlinewidth": 0,
              "ticks": ""
             }
            },
            "type": "scattergl"
           }
          ],
          "scattermapbox": [
           {
            "marker": {
             "colorbar": {
              "outlinewidth": 0,
              "ticks": ""
             }
            },
            "type": "scattermapbox"
           }
          ],
          "scatterpolar": [
           {
            "marker": {
             "colorbar": {
              "outlinewidth": 0,
              "ticks": ""
             }
            },
            "type": "scatterpolar"
           }
          ],
          "scatterpolargl": [
           {
            "marker": {
             "colorbar": {
              "outlinewidth": 0,
              "ticks": ""
             }
            },
            "type": "scatterpolargl"
           }
          ],
          "scatterternary": [
           {
            "marker": {
             "colorbar": {
              "outlinewidth": 0,
              "ticks": ""
             }
            },
            "type": "scatterternary"
           }
          ],
          "surface": [
           {
            "colorbar": {
             "outlinewidth": 0,
             "ticks": ""
            },
            "colorscale": [
             [
              0,
              "#0d0887"
             ],
             [
              0.1111111111111111,
              "#46039f"
             ],
             [
              0.2222222222222222,
              "#7201a8"
             ],
             [
              0.3333333333333333,
              "#9c179e"
             ],
             [
              0.4444444444444444,
              "#bd3786"
             ],
             [
              0.5555555555555556,
              "#d8576b"
             ],
             [
              0.6666666666666666,
              "#ed7953"
             ],
             [
              0.7777777777777778,
              "#fb9f3a"
             ],
             [
              0.8888888888888888,
              "#fdca26"
             ],
             [
              1,
              "#f0f921"
             ]
            ],
            "type": "surface"
           }
          ],
          "table": [
           {
            "cells": {
             "fill": {
              "color": "#EBF0F8"
             },
             "line": {
              "color": "white"
             }
            },
            "header": {
             "fill": {
              "color": "#C8D4E3"
             },
             "line": {
              "color": "white"
             }
            },
            "type": "table"
           }
          ]
         },
         "layout": {
          "annotationdefaults": {
           "arrowcolor": "#2a3f5f",
           "arrowhead": 0,
           "arrowwidth": 1
          },
          "autotypenumbers": "strict",
          "coloraxis": {
           "colorbar": {
            "outlinewidth": 0,
            "ticks": ""
           }
          },
          "colorscale": {
           "diverging": [
            [
             0,
             "#8e0152"
            ],
            [
             0.1,
             "#c51b7d"
            ],
            [
             0.2,
             "#de77ae"
            ],
            [
             0.3,
             "#f1b6da"
            ],
            [
             0.4,
             "#fde0ef"
            ],
            [
             0.5,
             "#f7f7f7"
            ],
            [
             0.6,
             "#e6f5d0"
            ],
            [
             0.7,
             "#b8e186"
            ],
            [
             0.8,
             "#7fbc41"
            ],
            [
             0.9,
             "#4d9221"
            ],
            [
             1,
             "#276419"
            ]
           ],
           "sequential": [
            [
             0,
             "#0d0887"
            ],
            [
             0.1111111111111111,
             "#46039f"
            ],
            [
             0.2222222222222222,
             "#7201a8"
            ],
            [
             0.3333333333333333,
             "#9c179e"
            ],
            [
             0.4444444444444444,
             "#bd3786"
            ],
            [
             0.5555555555555556,
             "#d8576b"
            ],
            [
             0.6666666666666666,
             "#ed7953"
            ],
            [
             0.7777777777777778,
             "#fb9f3a"
            ],
            [
             0.8888888888888888,
             "#fdca26"
            ],
            [
             1,
             "#f0f921"
            ]
           ],
           "sequentialminus": [
            [
             0,
             "#0d0887"
            ],
            [
             0.1111111111111111,
             "#46039f"
            ],
            [
             0.2222222222222222,
             "#7201a8"
            ],
            [
             0.3333333333333333,
             "#9c179e"
            ],
            [
             0.4444444444444444,
             "#bd3786"
            ],
            [
             0.5555555555555556,
             "#d8576b"
            ],
            [
             0.6666666666666666,
             "#ed7953"
            ],
            [
             0.7777777777777778,
             "#fb9f3a"
            ],
            [
             0.8888888888888888,
             "#fdca26"
            ],
            [
             1,
             "#f0f921"
            ]
           ]
          },
          "colorway": [
           "#636efa",
           "#EF553B",
           "#00cc96",
           "#ab63fa",
           "#FFA15A",
           "#19d3f3",
           "#FF6692",
           "#B6E880",
           "#FF97FF",
           "#FECB52"
          ],
          "font": {
           "color": "#2a3f5f"
          },
          "geo": {
           "bgcolor": "white",
           "lakecolor": "white",
           "landcolor": "#E5ECF6",
           "showlakes": true,
           "showland": true,
           "subunitcolor": "white"
          },
          "hoverlabel": {
           "align": "left"
          },
          "hovermode": "closest",
          "mapbox": {
           "style": "light"
          },
          "paper_bgcolor": "white",
          "plot_bgcolor": "#E5ECF6",
          "polar": {
           "angularaxis": {
            "gridcolor": "white",
            "linecolor": "white",
            "ticks": ""
           },
           "bgcolor": "#E5ECF6",
           "radialaxis": {
            "gridcolor": "white",
            "linecolor": "white",
            "ticks": ""
           }
          },
          "scene": {
           "xaxis": {
            "backgroundcolor": "#E5ECF6",
            "gridcolor": "white",
            "gridwidth": 2,
            "linecolor": "white",
            "showbackground": true,
            "ticks": "",
            "zerolinecolor": "white"
           },
           "yaxis": {
            "backgroundcolor": "#E5ECF6",
            "gridcolor": "white",
            "gridwidth": 2,
            "linecolor": "white",
            "showbackground": true,
            "ticks": "",
            "zerolinecolor": "white"
           },
           "zaxis": {
            "backgroundcolor": "#E5ECF6",
            "gridcolor": "white",
            "gridwidth": 2,
            "linecolor": "white",
            "showbackground": true,
            "ticks": "",
            "zerolinecolor": "white"
           }
          },
          "shapedefaults": {
           "line": {
            "color": "#2a3f5f"
           }
          },
          "ternary": {
           "aaxis": {
            "gridcolor": "white",
            "linecolor": "white",
            "ticks": ""
           },
           "baxis": {
            "gridcolor": "white",
            "linecolor": "white",
            "ticks": ""
           },
           "bgcolor": "#E5ECF6",
           "caxis": {
            "gridcolor": "white",
            "linecolor": "white",
            "ticks": ""
           }
          },
          "title": {
           "x": 0.05
          },
          "xaxis": {
           "automargin": true,
           "gridcolor": "white",
           "linecolor": "white",
           "ticks": "",
           "title": {
            "standoff": 15
           },
           "zerolinecolor": "white",
           "zerolinewidth": 2
          },
          "yaxis": {
           "automargin": true,
           "gridcolor": "white",
           "linecolor": "white",
           "ticks": "",
           "title": {
            "standoff": 15
           },
           "zerolinecolor": "white",
           "zerolinewidth": 2
          }
         }
        },
        "title": {
         "text": "Initial Force Optimizations Pareto Front"
        },
        "width": 600,
        "xaxis": {
         "anchor": "y",
         "domain": [
          0,
          1
         ],
         "dtick": 0.25,
         "linecolor": "black",
         "mirror": true,
         "showline": true,
         "tickformat": ".1e",
         "ticks": "outside",
         "title": {
          "text": "BdotN"
         },
         "type": "log"
        },
        "yaxis": {
         "anchor": "x",
         "domain": [
          0,
          1
         ],
         "linecolor": "black",
         "mirror": true,
         "showline": true,
         "tickformat": "000",
         "ticks": "outside",
         "title": {
          "text": "max_max_force"
         }
        }
       }
      }
     },
     "metadata": {},
     "output_type": "display_data"
    }
   ],
   "source": [
    "import plotly.express as px\n",
    "fig = px.scatter(\n",
    "    df_pareto, \n",
    "    x=\"BdotN\", \n",
    "    y=\"max_max_force\", \n",
    "    # color=\"max_length\",\n",
    "    color=\"order\",\n",
    "    log_x=True,\n",
    "    width=600, \n",
    "    height=400,\n",
    "    title=\"Initial Force Optimizations Pareto Front\",\n",
    "    hover_data={\n",
    "        'UUID':True,\n",
    "        'max_max_force':':.2f',\n",
    "        }\n",
    "    )\n",
    "\n",
    "fig.update_layout(\n",
    "    margin=dict(l=20, r=20, t=40, b=20),\n",
    "    plot_bgcolor='white'\n",
    ")\n",
    "\n",
    "fig.update_xaxes(\n",
    "    mirror=True,\n",
    "    ticks='outside',\n",
    "    showline=True,\n",
    "    linecolor='black',\n",
    "    tickformat='.1e',\n",
    "    dtick=0.25\n",
    "    # tickformat = \"000\"\n",
    ")\n",
    "fig.update_yaxes(\n",
    "    mirror=True,\n",
    "    ticks='outside',\n",
    "    showline=True,\n",
    "    linecolor='black',\n",
    "    tickformat = \"000\"\n",
    ")\n",
    "\n",
    "\n",
    "fig.show()"
   ]
  },
  {
   "cell_type": "markdown",
   "metadata": {},
   "source": [
    "## Parameter Success\n",
    "Now, let's analyze the success of various parameters."
   ]
  },
  {
   "cell_type": "code",
   "execution_count": 88,
   "metadata": {},
   "outputs": [
    {
     "data": {
      "image/png": "[encoded data removed]",
      "text/plain": [
       "<Figure size 1450x800 with 20 Axes>"
      ]
     },
     "metadata": {},
     "output_type": "display_data"
    }
   ],
   "source": [
    "plt.figure(1, figsize=(14.5, 8))\n",
    "nrows = 4\n",
    "ncols = 5\n",
    "\n",
    "subplot_index = 1\n",
    "def plot_2d_hist(field, log=False):\n",
    "    global subplot_index\n",
    "    plt.subplot(nrows, ncols, subplot_index)\n",
    "    subplot_index += 1\n",
    "    nbins = 20\n",
    "    if log:\n",
    "        data = df[field]\n",
    "        bins = np.logspace(np.log10(data.min()), np.log10(data.max()), nbins)\n",
    "    else:\n",
    "        bins = nbins\n",
    "    n,bins,patchs = plt.hist(df[field], bins=bins, label=\"before filtering\")\n",
    "    plt.hist(df_filtered[field], bins=bins, alpha=1, label=\"after filtering\")\n",
    "    plt.xlabel(field)\n",
    "    plt.legend(loc=0, fontsize=6)\n",
    "    if log:\n",
    "        plt.xscale(\"log\")\n",
    "\n",
    "\n",
    "# 2nd entry of each tuple is True if the field should be plotted on a log x-scale.\n",
    "fields = (\n",
    "    (\"R1\", False),\n",
    "    (\"order\", False),\n",
    "    (\"max_max_force\", False),\n",
    "    (\"max_length\", False),\n",
    "    (\"max_max_κ\", False),\n",
    "    (\"max_MSC\", False),\n",
    "    (\"coil_coil_distance\", False),\n",
    "    (\"coil_surface_distance\", False),\n",
    "    (\"length_target\", False),\n",
    "    # (\"force_threshold\", False),\n",
    "    (\"max_κ_threshold\", False),\n",
    "    (\"msc_threshold\", False),\n",
    "    (\"cc_threshold\", False),\n",
    "    (\"cs_threshold\", False),\n",
    "    (\"length_weight\", True),\n",
    "    (\"max_κ_weight\", True),\n",
    "    (\"msc_weight\", True),\n",
    "    (\"cc_weight\", True),\n",
    "    (\"cs_weight\", True),\n",
    "    (\"force_weight\", True),\n",
    "    (\"linking_number\", False)\n",
    ")\n",
    "\n",
    "for field, log in fields:\n",
    "    plot_2d_hist(field, log)\n",
    "\n",
    "plt.tight_layout()\n",
    "plt.show()"
   ]
  }
 ],
 "metadata": {
  "kernelspec": {
   "display_name": "base",
   "language": "python",
   "name": "python3"
  },
  "language_info": {
   "codemirror_mode": {
    "name": "ipython",
    "version": 3
   },
   "file_extension": ".py",
   "mimetype": "text/x-python",
   "name": "python",
   "nbconvert_exporter": "python",
   "pygments_lexer": "ipython3",
   "version": "3.9.12"
  }
 },
 "nbformat": 4,
 "nbformat_minor": 2
}
