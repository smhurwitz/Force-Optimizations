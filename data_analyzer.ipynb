{
 "cells": [
  {
   "cell_type": "markdown",
   "metadata": {},
   "source": [
    "# Force Optimizations Data Analysis "
   ]
  },
  {
   "cell_type": "code",
   "execution_count": 11,
   "metadata": {},
   "outputs": [],
   "source": [
    "import glob\n",
    "import json\n",
    "import pandas as pd\n",
    "import numpy as np\n",
    "import matplotlib.pyplot as plt\n",
    "import matplotlib.colors as colors\n",
    "from paretoset import paretoset"
   ]
  },
  {
   "cell_type": "markdown",
   "metadata": {},
   "source": [
    "## Data Analaysis\n",
    "Let's go ahead and analyze our data from the `output` folder! We'll begin by importing the `.json` files and creating a `DataFrame` of the results."
   ]
  },
  {
   "cell_type": "code",
   "execution_count": 12,
   "metadata": {},
   "outputs": [],
   "source": [
    "# Initialize an empty DataFrame\n",
    "df = pd.DataFrame()\n",
    "\n",
    "results = glob.glob(\"./output/initial/*/results.json\")\n",
    "for results_file in results:\n",
    "    with open(results_file, \"r\") as f:\n",
    "        data = json.load(f)\n",
    "\n",
    "    # Wrap lists in another list\n",
    "    for key, value in data.items():\n",
    "        if isinstance(value, list):\n",
    "            data[key] = [value]\n",
    "\n",
    "    df = pd.concat([df, pd.DataFrame(data)], ignore_index=True)"
   ]
  },
  {
   "cell_type": "markdown",
   "metadata": {},
   "source": [
    "We can now filter out the data according to some pre-specified criteria."
   ]
  },
  {
   "cell_type": "code",
   "execution_count": 13,
   "metadata": {},
   "outputs": [],
   "source": [
    "margin_up   = 1.05\n",
    "margin_low  = 0.95\n",
    "allowed_length  = 5.00 * margin_up\n",
    "allowed_κ       = 12.00 * margin_up\n",
    "allowed_MSC     = 6.00 * margin_up\n",
    "allowed_CC_dist = 0.083 * margin_low\n",
    "allowed_CS_dist = 0.166 * margin_low\n",
    "allowed_arclen_var = 1e-2\n",
    "# allowed_CS_dist_max = 0.375\n",
    "\n",
    "succeeded = df[\"linking_number\"] < 0.1\n",
    "succeeded = np.logical_and(succeeded, df[\"max_length\"] < allowed_length)\n",
    "succeeded = np.logical_and(succeeded, df[\"max_max_κ\"] < allowed_κ)\n",
    "succeeded = np.logical_and(succeeded, df[\"max_MSC\"] < allowed_MSC)\n",
    "succeeded = np.logical_and(succeeded, df[\"coil_coil_distance\"] > allowed_CC_dist)\n",
    "succeeded = np.logical_and(succeeded, df[\"coil_surface_distance\"] > allowed_CS_dist)\n",
    "succeeded = np.logical_and(succeeded, df[\"max_arclength_variance\"] < allowed_arclen_var)\n",
    "# succeeded = np.logical_and(succeeded, df[\"coil_surface_distance\"] < allowed_CS_dist_max)\n",
    "\n",
    "df_filtered = df[succeeded]"
   ]
  },
  {
   "cell_type": "markdown",
   "metadata": {},
   "source": [
    "We can easily create the Paredo front of our results."
   ]
  },
  {
   "cell_type": "code",
   "execution_count": 14,
   "metadata": {},
   "outputs": [],
   "source": [
    "pareto_mask = paretoset(df_filtered[[\"normalized_BdotN\", \"max_max_force\"]], sense=[min, min])\n",
    "df_pareto = df_filtered[pareto_mask]"
   ]
  },
  {
   "cell_type": "markdown",
   "metadata": {},
   "source": [
    "If desired, we can create a nice table summarizing the results as well. "
   ]
  },
  {
   "cell_type": "code",
   "execution_count": 15,
   "metadata": {},
   "outputs": [
    {
     "name": "stdout",
     "output_type": "stream",
     "text": [
      "Best Pareto-optimal results:\n",
      "|     | UUID                             |       BdotN |   max_max_force |   max_max_κ |   max_MSC |   max_length |   coil_coil_distance |   coil_surface_distance |\n",
      "|----:|:---------------------------------|------------:|----------------:|------------:|----------:|-------------:|---------------------:|------------------------:|\n",
      "|  26 | be1f000369234fd29a08c971d303948f | 0.000169638 |        23718.8  |     4.72366 |   5.95131 |      4.93472 |            0.141205  |                0.249435 |\n",
      "|  39 | 9bce7ea478e148c196165869492772d6 | 0.000326231 |        17819.9  |     4.64567 |   5.18988 |      4.85289 |            0.163615  |                0.22034  |\n",
      "|  50 | 37bb15be5a914d6482fe2e687bca9373 | 0.00081547  |         6004.25 |     4.48111 |   5.79504 |      4.81978 |            0.0984733 |                0.284746 |\n",
      "|  78 | deb0701a1b0b4b21853957738a7114bd | 0.000109369 |        39355.4  |     4.30164 |   4.41005 |      4.97868 |            0.109776  |                0.289257 |\n",
      "| 109 | d2e074fbc86645f08f3bfd4b36bdbde4 | 0.00160629  |         2684.75 |     3.30551 |   4.4441  |      4.6899  |            0.102357  |                0.263363 |\n",
      "| 115 | b479c696c45b4463aad0c1d4c9688cc3 | 0.000289003 |        19017.2  |     4.39828 |   5.79094 |      4.84621 |            0.156731  |                0.231834 |\n",
      "| 164 | 0d716605fdbf48a18c46676f9e5daf06 | 0.00178714  |         3769.24 |     5.66075 |   5.69719 |      4.73001 |            0.0991792 |                0.223753 |\n",
      "| 194 | 1fe0525e96a140d5bf02f6b9688b12fe | 0.000236976 |        20902.7  |     4.7402  |   5.88787 |      4.84618 |            0.151561  |                0.230843 |\n",
      "| 203 | 513528c2bd5f48219aa3a5798bbbc1cc | 0.000634475 |         6804.49 |     3.7701  |   4.4616  |      4.79567 |            0.0990751 |                0.289711 |\n",
      "| 215 | f43b0b3eff04479dab5f18b2e5671b69 | 0.00472327  |         1141.94 |     3.70325 |   3.82609 |      4.85167 |            0.116623  |                0.284772 |\n",
      "| 258 | 76db9cb772f84c1590a14eca8a023f6c | 0.000485386 |        14199.9  |     4.30422 |   5.82665 |      5.00095 |            0.181215  |                0.214508 |\n",
      "| 287 | a8147b632cb14cb588a21af64726b48b | 0.000413431 |        16067.2  |     3.99061 |   5.56807 |      4.88509 |            0.172562  |                0.212364 |\n",
      "| 295 | 29602974aebb4754beb2a6781f242c06 | 0.000280091 |        17824.6  |     4.82261 |   5.83579 |      4.95442 |            0.160811  |                0.219316 |\n",
      "| 370 | 701793f4e71a4064aa32e693b0f430a5 | 0.000150698 |        26337.1  |     3.82919 |   5.60657 |      4.96587 |            0.137963  |                0.260837 |\n",
      "| 425 | a19cd6a79d854b7c93324866cf1b3c37 | 0.000132842 |        29906.6  |     4.03001 |   4.28198 |      4.9335  |            0.130373  |                0.270062 |\n",
      "| 435 | 4a6853ab8a2b42729070da4417e96ecb | 0.000551831 |        13969.2  |     4.13136 |   5.37791 |      4.91561 |            0.184366  |                0.210522 |\n",
      "| 463 | 8e692ddb7d034da296cf26972bc9c0d2 | 0.000221587 |        22333.1  |     4.67452 |   5.32081 |      4.83559 |            0.138899  |                0.268572 |\n",
      "| 466 | 920f3fbf591f4908a2189b277ca9a644 | 0.000169485 |        25939.6  |     4.45051 |   4.75371 |      4.86532 |            0.136896  |                0.263067 |\n",
      "| 476 | 3c2c678cfe3c4419b3c38ab8f3270bf8 | 0.000131406 |        26991.2  |     4.21077 |   4.58151 |      4.98592 |            0.130997  |                0.26879  |\n",
      "| 486 | 17822a3c38654e639e941fb6ec92148f | 0.000235177 |        20610    |     4.02864 |   4.45456 |      4.95373 |            0.144876  |                0.272513 |\n",
      "| 497 | 4ccebc0ed9ea49c7905c205481e21be1 | 0.000239991 |        19296.4  |     5.93793 |   5.7937  |      4.96139 |            0.118133  |                0.280351 |\n",
      "| 516 | 6d0eb0db0f9643509efabc9b3e28f987 | 0.000121005 |        30569.8  |     4.41645 |   5.34624 |      4.9728  |            0.130376  |                0.269945 |\n",
      "| 520 | 38bb02509f6a45d7bb49cce8aad6cc89 | 0.000705239 |         6051.73 |     4.35649 |   4.99297 |      4.91158 |            0.0973949 |                0.292563 |\n",
      "| 559 | 1af78cc59a5c442fae4f6bc97fac1801 | 0.000110423 |        34635.6  |     4.17365 |   4.19853 |      4.98029 |            0.120826  |                0.278106 |\n",
      "| 572 | 1de78fded3bf472192c0e74254fcc098 | 0.00046564  |         7426.53 |     3.77058 |   5.86992 |      4.98236 |            0.105178  |                0.306732 |\n",
      "| 575 | 70c57bb7c37e4dcc9c0c8a178864d2c8 | 0.000700754 |        11562.8  |     4.93375 |   4.97828 |      4.92632 |            0.0890999 |                0.21999  |\n",
      "| 634 | 9c166139fa4b454c8b7f99c9fd5ef5bb | 0.000447119 |         7849.39 |     3.55039 |   4.02402 |      4.94647 |            0.0899063 |                0.313085 |\n",
      "| 647 | 768a1360cf474dff8ccb90e1f3cf0f54 | 0.00123638  |         3018.04 |     4.92836 |   5.92289 |      4.89454 |            0.102249  |                0.265733 |\n",
      "| 662 | ef2d5d917c314b07a1d1ba0f17d13240 | 0.000178672 |        22565.7  |     4.20665 |   5.30326 |      4.94822 |            0.144227  |                0.240789 |\n",
      "| 668 | db3c45afb134446fa70762616cc8970d | 0.00010771  |        40407.7  |     4.40181 |   4.4856  |      4.99136 |            0.108447  |                0.290635 |\n",
      "| 700 | f71e6bd7b8cd447389fe71150de174c0 | 0.000982353 |         4689.14 |     4.15804 |   5.01849 |      5.01829 |            0.111116  |                0.282274 |\n",
      "| 719 | 8f0525b9f08443d0b15691f0036ef496 | 0.000630745 |        13635    |     4.25021 |   5.0491  |      4.88991 |            0.193173  |                0.213829 |\n",
      "| 754 | e4dd245b8f604838a9a2f395a8594af8 | 0.00094462  |         4882.21 |     4.40054 |   4.58134 |      4.96696 |            0.114904  |                0.287794 |\n",
      "| 762 | 938818d0f0864a439728aa928d4473d7 | 0.000242332 |        21799.4  |     4.4023  |   5.09691 |      4.78713 |            0.149421  |                0.235726 |\n",
      "| 804 | 27849b308a9642458f88d447b32d0ea6 | 0.00120543  |         4190.58 |     5.10067 |   4.74155 |      4.89413 |            0.107481  |                0.239568 |\n",
      "| 847 | bb70042ffddc48d79261824af87563b4 | 0.000346109 |        16457.6  |     4.70496 |   5.5211  |      4.95118 |            0.167545  |                0.221933 |\n",
      "| 850 | 77251446453e420a9408407973c9570e | 0.00048941  |        14279.1  |     3.77967 |   4.95021 |      4.83802 |            0.113195  |                0.215502 |\n"
     ]
    }
   ],
   "source": [
    "print(\"Best Pareto-optimal results:\")\n",
    "print(\n",
    "    (df_pareto[\n",
    "        [\n",
    "            \"UUID\",\n",
    "            \"BdotN\",\n",
    "            \"max_max_force\",\n",
    "            \"max_max_κ\",\n",
    "            \"max_MSC\",\n",
    "            \"max_length\",\n",
    "            \"coil_coil_distance\",\n",
    "            \"coil_surface_distance\"\n",
    "        ]\n",
    "    ]).to_markdown()\n",
    ")"
   ]
  },
  {
   "cell_type": "markdown",
   "metadata": {},
   "source": [
    "# Plotting\n",
    "## Paredo Fronts\n",
    "Time to get plotting! We can begin by generating the Paredo fronts with color scales representing additional parameters such as maximum coil length and the Fourier order of the coils. "
   ]
  },
  {
   "cell_type": "code",
   "execution_count": 19,
   "metadata": {},
   "outputs": [
    {
     "data": {
      "image/png": "[encoded data removed]",
      "text/plain": [
       "<Figure size 650x800 with 2 Axes>"
      ]
     },
     "metadata": {},
     "output_type": "display_data"
    },
    {
     "data": {
      "image/png": "[encoded data removed]",
      "text/plain": [
       "<Figure size 650x800 with 2 Axes>"
      ]
     },
     "metadata": {},
     "output_type": "display_data"
    },
    {
     "data": {
      "image/png": "[encoded data removed]",
      "text/plain": [
       "<Figure size 650x800 with 2 Axes>"
      ]
     },
     "metadata": {},
     "output_type": "display_data"
    }
   ],
   "source": [
    "markersize = 5\n",
    "n_pareto = df_pareto.shape[0]\n",
    "n_filtered = df_filtered.shape[0] - n_pareto\n",
    "n_unfiltered = df.shape[0] - n_filtered\n",
    "\n",
    "plt.figure(figsize=(6.5, 8))\n",
    "plt.rc(\"font\", size=13)\n",
    "plt.scatter(\n",
    "    df[\"normalized_BdotN\"], \n",
    "    df[\"max_max_force\"], \n",
    "    c=df[\"max_length\"], \n",
    "    s=1, \n",
    "    label=f'unfiltered, N={n_unfiltered}')\n",
    "plt.scatter(\n",
    "    df_filtered[\"normalized_BdotN\"],\n",
    "    df_filtered[\"max_max_force\"],\n",
    "    c=df_filtered[\"max_length\"],\n",
    "    s=markersize,\n",
    "    label=f'filtered, N={n_filtered}'\n",
    ")\n",
    "plt.scatter(\n",
    "    df_pareto[\"normalized_BdotN\"], \n",
    "    df_pareto[\"max_max_force\"], \n",
    "    c=df_pareto[\"max_length\"], \n",
    "    marker=\"+\",\n",
    "    label=f'Pareto front, N={n_pareto}'\n",
    ")\n",
    "plt.xlabel(r'$\\langle|\\mathbf{B}\\cdot\\mathbf{n}|\\rangle/\\langle B \\rangle$ [unitless]')\n",
    "plt.ylabel(\"max force [N/m]\")\n",
    "plt.xscale(\"log\")\n",
    "plt.colorbar(label=\"maximum coil length [m]\")\n",
    "plt.legend(loc='upper right', fontsize='11')\n",
    "plt.title('Pareto Front')\n",
    "plt.show()\n",
    "\n",
    "for color in ['order', 'iterations, ncoils']:\n",
    "    plt.figure(figsize=(6.5, 8))\n",
    "    plt.rc(\"font\", size=13)\n",
    "    plt.scatter(\n",
    "        df[\"normalized_BdotN\"], \n",
    "        df[\"max_max_force\"], \n",
    "        c=df[color], \n",
    "        s=1, \n",
    "        label=f'unfiltered, N={n_unfiltered}')\n",
    "    plt.scatter(\n",
    "        df_filtered[\"normalized_BdotN\"],\n",
    "        df_filtered[\"max_max_force\"],\n",
    "        c=df_filtered[color],\n",
    "        s=markersize,\n",
    "        label=f'filtered, N={n_filtered}'\n",
    "    )\n",
    "    plt.scatter(\n",
    "        df_pareto[\"normalized_BdotN\"], \n",
    "        df_pareto[\"max_max_force\"], \n",
    "        c=df_pareto[color], \n",
    "        marker=\"+\",\n",
    "        label=f'Pareto front, N={n_pareto}'\n",
    "    )\n",
    "    plt.xlabel(r'$\\langle|\\mathbf{B}\\cdot\\mathbf{n}|\\rangle/\\langle B \\rangle$ [unitless]')\n",
    "    plt.ylabel(\"max force [N/m]\")\n",
    "    plt.xscale(\"log\")\n",
    "    plt.colorbar(label=color)\n",
    "    plt.legend(loc='upper right', fontsize='11')\n",
    "    plt.title('Pareto Front')\n",
    "    plt.show()"
   ]
  },
  {
   "cell_type": "markdown",
   "metadata": {},
   "source": [
    "We can also make these plots interactive by using Plotly."
   ]
  },
  {
   "cell_type": "code",
   "execution_count": 20,
   "metadata": {},
   "outputs": [
    {
     "data": {
      "application/vnd.plotly.v1+json": {
       "config": {
        "plotlyServerURL": "https://plot.ly"
       },
       "data": [
        {
         "customdata": [
          [
           "be1f000369234fd29a08c971d303948f",
           0.24943516426540546
          ],
          [
           "9bce7ea478e148c196165869492772d6",
           0.22034003134307312
          ],
          [
           "37bb15be5a914d6482fe2e687bca9373",
           0.28474575848470124
          ],
          [
           "deb0701a1b0b4b21853957738a7114bd",
           0.2892568026165857
          ],
          [
           "d2e074fbc86645f08f3bfd4b36bdbde4",
           0.263362561600607
          ],
          [
           "b479c696c45b4463aad0c1d4c9688cc3",
           0.23183433228952716
          ],
          [
           "0d716605fdbf48a18c46676f9e5daf06",
           0.22375315575939303
          ],
          [
           "1fe0525e96a140d5bf02f6b9688b12fe",
           0.2308431439590912
          ],
          [
           "513528c2bd5f48219aa3a5798bbbc1cc",
           0.28971143669844507
          ],
          [
           "f43b0b3eff04479dab5f18b2e5671b69",
           0.2847723265988307
          ],
          [
           "76db9cb772f84c1590a14eca8a023f6c",
           0.2145081014228575
          ],
          [
           "a8147b632cb14cb588a21af64726b48b",
           0.2123642019576162
          ],
          [
           "29602974aebb4754beb2a6781f242c06",
           0.21931614444549138
          ],
          [
           "701793f4e71a4064aa32e693b0f430a5",
           0.2608368840141208
          ],
          [
           "a19cd6a79d854b7c93324866cf1b3c37",
           0.27006187374440943
          ],
          [
           "4a6853ab8a2b42729070da4417e96ecb",
           0.21052167675616815
          ],
          [
           "8e692ddb7d034da296cf26972bc9c0d2",
           0.2685721981091139
          ],
          [
           "920f3fbf591f4908a2189b277ca9a644",
           0.2630670034853924
          ],
          [
           "3c2c678cfe3c4419b3c38ab8f3270bf8",
           0.2687902329092658
          ],
          [
           "17822a3c38654e639e941fb6ec92148f",
           0.27251299884202457
          ],
          [
           "4ccebc0ed9ea49c7905c205481e21be1",
           0.2803506771366406
          ],
          [
           "6d0eb0db0f9643509efabc9b3e28f987",
           0.2699447231222171
          ],
          [
           "38bb02509f6a45d7bb49cce8aad6cc89",
           0.29256263735179927
          ],
          [
           "1af78cc59a5c442fae4f6bc97fac1801",
           0.27810583008755124
          ],
          [
           "1de78fded3bf472192c0e74254fcc098",
           0.30673152915826396
          ],
          [
           "70c57bb7c37e4dcc9c0c8a178864d2c8",
           0.21999044948372584
          ],
          [
           "9c166139fa4b454c8b7f99c9fd5ef5bb",
           0.3130850360099693
          ],
          [
           "768a1360cf474dff8ccb90e1f3cf0f54",
           0.2657327070375683
          ],
          [
           "ef2d5d917c314b07a1d1ba0f17d13240",
           0.24078862870090254
          ],
          [
           "db3c45afb134446fa70762616cc8970d",
           0.2906345594150074
          ],
          [
           "f71e6bd7b8cd447389fe71150de174c0",
           0.28227359549144143
          ],
          [
           "8f0525b9f08443d0b15691f0036ef496",
           0.2138287910141527
          ],
          [
           "e4dd245b8f604838a9a2f395a8594af8",
           0.28779365901435955
          ],
          [
           "938818d0f0864a439728aa928d4473d7",
           0.23572613232606537
          ],
          [
           "27849b308a9642458f88d447b32d0ea6",
           0.23956771228457308
          ],
          [
           "bb70042ffddc48d79261824af87563b4",
           0.22193334483499866
          ],
          [
           "77251446453e420a9408407973c9570e",
           0.21550165670819657
          ]
         ],
         "hovertemplate": "normalized_BdotN=%{x}<br>max_max_force=%{y:.2e}<br>UUID=%{customdata[0]}<br>coil_surface_distance=%{customdata[1]:.2e}<br>max_length=%{marker.color}<extra></extra>",
         "legendgroup": "",
         "marker": {
          "color": [
           4.934723140129936,
           4.85289274562791,
           4.819781861686293,
           4.9786774763766495,
           4.689895981111951,
           4.846208102642659,
           4.730011400799235,
           4.846179732767869,
           4.795671246129929,
           4.851668355433078,
           5.000952859497586,
           4.88509339820631,
           4.954417336967295,
           4.965872399150226,
           4.933504590887179,
           4.915608740437658,
           4.835587212321396,
           4.86531573290851,
           4.985915679572729,
           4.953730387014093,
           4.961389180724117,
           4.972797113272372,
           4.911577035142281,
           4.980293528460299,
           4.982359455437042,
           4.926324863043779,
           4.946468195839541,
           4.894543377103825,
           4.948220122029923,
           4.991357333944902,
           5.018294087099939,
           4.88991304407099,
           4.96695701474112,
           4.787125097466518,
           4.894128007041247,
           4.951175069110308,
           4.838019905307925
          ],
          "coloraxis": "coloraxis",
          "symbol": "circle"
         },
         "mode": "markers",
         "name": "",
         "orientation": "v",
         "showlegend": false,
         "type": "scatter",
         "x": [
          0.0006316011532890988,
          0.001408818113379066,
          0.00743083854828966,
          0.00034078571401425286,
          0.06628890610581964,
          0.001214848632163785,
          0.014655038518721245,
          0.0009391139607527075,
          0.00490725946665539,
          0.12262365345941685,
          0.002500027305095387,
          0.001932728943853933,
          0.0012267089269068843,
          0.0005307299722440841,
          0.00043373853099942615,
          0.0028312706809794598,
          0.0008644580927520364,
          0.0005938393113561812,
          0.0004540554714603328,
          0.0009745036215559083,
          0.0009794130085768844,
          0.0003938325049275088,
          0.005662214811062193,
          0.0003448320922041038,
          0.003982176795686842,
          0.0036484853086227193,
          0.003905850235830715,
          0.01623219574804872,
          0.0006827886151246171,
          0.00033635219299228507,
          0.007907159727532974,
          0.0033067902829706716,
          0.007512658620603677,
          0.0009277283234600338,
          0.00960052830404478,
          0.0015955173045145786,
          0.0021589420951805627
         ],
         "xaxis": "x",
         "y": [
          23718.822276747967,
          17819.858013940986,
          6004.253257773548,
          39355.40973764093,
          2684.7517441749005,
          19017.164922977016,
          3769.2407218112025,
          20902.670431699968,
          6804.490637638732,
          1141.9442447079628,
          14199.934296445359,
          16067.17061218906,
          17824.555160645352,
          26337.125114558163,
          29906.5740680412,
          13969.165734707325,
          22333.1021151396,
          25939.558270454272,
          26991.21783198804,
          20609.99682556645,
          19296.421102188095,
          30569.82743411922,
          6051.731561833493,
          34635.602553348304,
          7426.53001050948,
          11562.835618196084,
          7849.38846203289,
          3018.0441040251385,
          22565.70686089354,
          40407.745811984925,
          4689.1374800034755,
          13634.982793136298,
          4882.210586496503,
          21799.43584479588,
          4190.580859542912,
          16457.569160665727,
          14279.112858445145
         ],
         "yaxis": "y"
        }
       ],
       "layout": {
        "coloraxis": {
         "colorbar": {
          "title": {
           "text": "max_length"
          }
         },
         "colorscale": [
          [
           0,
           "#0d0887"
          ],
          [
           0.1111111111111111,
           "#46039f"
          ],
          [
           0.2222222222222222,
           "#7201a8"
          ],
          [
           0.3333333333333333,
           "#9c179e"
          ],
          [
           0.4444444444444444,
           "#bd3786"
          ],
          [
           0.5555555555555556,
           "#d8576b"
          ],
          [
           0.6666666666666666,
           "#ed7953"
          ],
          [
           0.7777777777777778,
           "#fb9f3a"
          ],
          [
           0.8888888888888888,
           "#fdca26"
          ],
          [
           1,
           "#f0f921"
          ]
         ]
        },
        "height": 400,
        "legend": {
         "tracegroupgap": 0
        },
        "margin": {
         "b": 20,
         "l": 20,
         "r": 20,
         "t": 40
        },
        "plot_bgcolor": "white",
        "template": {
         "data": {
          "bar": [
           {
            "error_x": {
             "color": "#2a3f5f"
            },
            "error_y": {
             "color": "#2a3f5f"
            },
            "marker": {
             "line": {
              "color": "#E5ECF6",
              "width": 0.5
             },
             "pattern": {
              "fillmode": "overlay",
              "size": 10,
              "solidity": 0.2
             }
            },
            "type": "bar"
           }
          ],
          "barpolar": [
           {
            "marker": {
             "line": {
              "color": "#E5ECF6",
              "width": 0.5
             },
             "pattern": {
              "fillmode": "overlay",
              "size": 10,
              "solidity": 0.2
             }
            },
            "type": "barpolar"
           }
          ],
          "carpet": [
           {
            "aaxis": {
             "endlinecolor": "#2a3f5f",
             "gridcolor": "white",
             "linecolor": "white",
             "minorgridcolor": "white",
             "startlinecolor": "#2a3f5f"
            },
            "baxis": {
             "endlinecolor": "#2a3f5f",
             "gridcolor": "white",
             "linecolor": "white",
             "minorgridcolor": "white",
             "startlinecolor": "#2a3f5f"
            },
            "type": "carpet"
           }
          ],
          "choropleth": [
           {
            "colorbar": {
             "outlinewidth": 0,
             "ticks": ""
            },
            "type": "choropleth"
           }
          ],
          "contour": [
           {
            "colorbar": {
             "outlinewidth": 0,
             "ticks": ""
            },
            "colorscale": [
             [
              0,
              "#0d0887"
             ],
             [
              0.1111111111111111,
              "#46039f"
             ],
             [
              0.2222222222222222,
              "#7201a8"
             ],
             [
              0.3333333333333333,
              "#9c179e"
             ],
             [
              0.4444444444444444,
              "#bd3786"
             ],
             [
              0.5555555555555556,
              "#d8576b"
             ],
             [
              0.6666666666666666,
              "#ed7953"
             ],
             [
              0.7777777777777778,
              "#fb9f3a"
             ],
             [
              0.8888888888888888,
              "#fdca26"
             ],
             [
              1,
              "#f0f921"
             ]
            ],
            "type": "contour"
           }
          ],
          "contourcarpet": [
           {
            "colorbar": {
             "outlinewidth": 0,
             "ticks": ""
            },
            "type": "contourcarpet"
           }
          ],
          "heatmap": [
           {
            "colorbar": {
             "outlinewidth": 0,
             "ticks": ""
            },
            "colorscale": [
             [
              0,
              "#0d0887"
             ],
             [
              0.1111111111111111,
              "#46039f"
             ],
             [
              0.2222222222222222,
              "#7201a8"
             ],
             [
              0.3333333333333333,
              "#9c179e"
             ],
             [
              0.4444444444444444,
              "#bd3786"
             ],
             [
              0.5555555555555556,
              "#d8576b"
             ],
             [
              0.6666666666666666,
              "#ed7953"
             ],
             [
              0.7777777777777778,
              "#fb9f3a"
             ],
             [
              0.8888888888888888,
              "#fdca26"
             ],
             [
              1,
              "#f0f921"
             ]
            ],
            "type": "heatmap"
           }
          ],
          "heatmapgl": [
           {
            "colorbar": {
             "outlinewidth": 0,
             "ticks": ""
            },
            "colorscale": [
             [
              0,
              "#0d0887"
             ],
             [
              0.1111111111111111,
              "#46039f"
             ],
             [
              0.2222222222222222,
              "#7201a8"
             ],
             [
              0.3333333333333333,
              "#9c179e"
             ],
             [
              0.4444444444444444,
              "#bd3786"
             ],
             [
              0.5555555555555556,
              "#d8576b"
             ],
             [
              0.6666666666666666,
              "#ed7953"
             ],
             [
              0.7777777777777778,
              "#fb9f3a"
             ],
             [
              0.8888888888888888,
              "#fdca26"
             ],
             [
              1,
              "#f0f921"
             ]
            ],
            "type": "heatmapgl"
           }
          ],
          "histogram": [
           {
            "marker": {
             "pattern": {
              "fillmode": "overlay",
              "size": 10,
              "solidity": 0.2
             }
            },
            "type": "histogram"
           }
          ],
          "histogram2d": [
           {
            "colorbar": {
             "outlinewidth": 0,
             "ticks": ""
            },
            "colorscale": [
             [
              0,
              "#0d0887"
             ],
             [
              0.1111111111111111,
              "#46039f"
             ],
             [
              0.2222222222222222,
              "#7201a8"
             ],
             [
              0.3333333333333333,
              "#9c179e"
             ],
             [
              0.4444444444444444,
              "#bd3786"
             ],
             [
              0.5555555555555556,
              "#d8576b"
             ],
             [
              0.6666666666666666,
              "#ed7953"
             ],
             [
              0.7777777777777778,
              "#fb9f3a"
             ],
             [
              0.8888888888888888,
              "#fdca26"
             ],
             [
              1,
              "#f0f921"
             ]
            ],
            "type": "histogram2d"
           }
          ],
          "histogram2dcontour": [
           {
            "colorbar": {
             "outlinewidth": 0,
             "ticks": ""
            },
            "colorscale": [
             [
              0,
              "#0d0887"
             ],
             [
              0.1111111111111111,
              "#46039f"
             ],
             [
              0.2222222222222222,
              "#7201a8"
             ],
             [
              0.3333333333333333,
              "#9c179e"
             ],
             [
              0.4444444444444444,
              "#bd3786"
             ],
             [
              0.5555555555555556,
              "#d8576b"
             ],
             [
              0.6666666666666666,
              "#ed7953"
             ],
             [
              0.7777777777777778,
              "#fb9f3a"
             ],
             [
              0.8888888888888888,
              "#fdca26"
             ],
             [
              1,
              "#f0f921"
             ]
            ],
            "type": "histogram2dcontour"
           }
          ],
          "mesh3d": [
           {
            "colorbar": {
             "outlinewidth": 0,
             "ticks": ""
            },
            "type": "mesh3d"
           }
          ],
          "parcoords": [
           {
            "line": {
             "colorbar": {
              "outlinewidth": 0,
              "ticks": ""
             }
            },
            "type": "parcoords"
           }
          ],
          "pie": [
           {
            "automargin": true,
            "type": "pie"
           }
          ],
          "scatter": [
           {
            "fillpattern": {
             "fillmode": "overlay",
             "size": 10,
             "solidity": 0.2
            },
            "type": "scatter"
           }
          ],
          "scatter3d": [
           {
            "line": {
             "colorbar": {
              "outlinewidth": 0,
              "ticks": ""
             }
            },
            "marker": {
             "colorbar": {
              "outlinewidth": 0,
              "ticks": ""
             }
            },
            "type": "scatter3d"
           }
          ],
          "scattercarpet": [
           {
            "marker": {
             "colorbar": {
              "outlinewidth": 0,
              "ticks": ""
             }
            },
            "type": "scattercarpet"
           }
          ],
          "scattergeo": [
           {
            "marker": {
             "colorbar": {
              "outlinewidth": 0,
              "ticks": ""
             }
            },
            "type": "scattergeo"
           }
          ],
          "scattergl": [
           {
            "marker": {
             "colorbar": {
              "outlinewidth": 0,
              "ticks": ""
             }
            },
            "type": "scattergl"
           }
          ],
          "scattermapbox": [
           {
            "marker": {
             "colorbar": {
              "outlinewidth": 0,
              "ticks": ""
             }
            },
            "type": "scattermapbox"
           }
          ],
          "scatterpolar": [
           {
            "marker": {
             "colorbar": {
              "outlinewidth": 0,
              "ticks": ""
             }
            },
            "type": "scatterpolar"
           }
          ],
          "scatterpolargl": [
           {
            "marker": {
             "colorbar": {
              "outlinewidth": 0,
              "ticks": ""
             }
            },
            "type": "scatterpolargl"
           }
          ],
          "scatterternary": [
           {
            "marker": {
             "colorbar": {
              "outlinewidth": 0,
              "ticks": ""
             }
            },
            "type": "scatterternary"
           }
          ],
          "surface": [
           {
            "colorbar": {
             "outlinewidth": 0,
             "ticks": ""
            },
            "colorscale": [
             [
              0,
              "#0d0887"
             ],
             [
              0.1111111111111111,
              "#46039f"
             ],
             [
              0.2222222222222222,
              "#7201a8"
             ],
             [
              0.3333333333333333,
              "#9c179e"
             ],
             [
              0.4444444444444444,
              "#bd3786"
             ],
             [
              0.5555555555555556,
              "#d8576b"
             ],
             [
              0.6666666666666666,
              "#ed7953"
             ],
             [
              0.7777777777777778,
              "#fb9f3a"
             ],
             [
              0.8888888888888888,
              "#fdca26"
             ],
             [
              1,
              "#f0f921"
             ]
            ],
            "type": "surface"
           }
          ],
          "table": [
           {
            "cells": {
             "fill": {
              "color": "#EBF0F8"
             },
             "line": {
              "color": "white"
             }
            },
            "header": {
             "fill": {
              "color": "#C8D4E3"
             },
             "line": {
              "color": "white"
             }
            },
            "type": "table"
           }
          ]
         },
         "layout": {
          "annotationdefaults": {
           "arrowcolor": "#2a3f5f",
           "arrowhead": 0,
           "arrowwidth": 1
          },
          "autotypenumbers": "strict",
          "coloraxis": {
           "colorbar": {
            "outlinewidth": 0,
            "ticks": ""
           }
          },
          "colorscale": {
           "diverging": [
            [
             0,
             "#8e0152"
            ],
            [
             0.1,
             "#c51b7d"
            ],
            [
             0.2,
             "#de77ae"
            ],
            [
             0.3,
             "#f1b6da"
            ],
            [
             0.4,
             "#fde0ef"
            ],
            [
             0.5,
             "#f7f7f7"
            ],
            [
             0.6,
             "#e6f5d0"
            ],
            [
             0.7,
             "#b8e186"
            ],
            [
             0.8,
             "#7fbc41"
            ],
            [
             0.9,
             "#4d9221"
            ],
            [
             1,
             "#276419"
            ]
           ],
           "sequential": [
            [
             0,
             "#0d0887"
            ],
            [
             0.1111111111111111,
             "#46039f"
            ],
            [
             0.2222222222222222,
             "#7201a8"
            ],
            [
             0.3333333333333333,
             "#9c179e"
            ],
            [
             0.4444444444444444,
             "#bd3786"
            ],
            [
             0.5555555555555556,
             "#d8576b"
            ],
            [
             0.6666666666666666,
             "#ed7953"
            ],
            [
             0.7777777777777778,
             "#fb9f3a"
            ],
            [
             0.8888888888888888,
             "#fdca26"
            ],
            [
             1,
             "#f0f921"
            ]
           ],
           "sequentialminus": [
            [
             0,
             "#0d0887"
            ],
            [
             0.1111111111111111,
             "#46039f"
            ],
            [
             0.2222222222222222,
             "#7201a8"
            ],
            [
             0.3333333333333333,
             "#9c179e"
            ],
            [
             0.4444444444444444,
             "#bd3786"
            ],
            [
             0.5555555555555556,
             "#d8576b"
            ],
            [
             0.6666666666666666,
             "#ed7953"
            ],
            [
             0.7777777777777778,
             "#fb9f3a"
            ],
            [
             0.8888888888888888,
             "#fdca26"
            ],
            [
             1,
             "#f0f921"
            ]
           ]
          },
          "colorway": [
           "#636efa",
           "#EF553B",
           "#00cc96",
           "#ab63fa",
           "#FFA15A",
           "#19d3f3",
           "#FF6692",
           "#B6E880",
           "#FF97FF",
           "#FECB52"
          ],
          "font": {
           "color": "#2a3f5f"
          },
          "geo": {
           "bgcolor": "white",
           "lakecolor": "white",
           "landcolor": "#E5ECF6",
           "showlakes": true,
           "showland": true,
           "subunitcolor": "white"
          },
          "hoverlabel": {
           "align": "left"
          },
          "hovermode": "closest",
          "mapbox": {
           "style": "light"
          },
          "paper_bgcolor": "white",
          "plot_bgcolor": "#E5ECF6",
          "polar": {
           "angularaxis": {
            "gridcolor": "white",
            "linecolor": "white",
            "ticks": ""
           },
           "bgcolor": "#E5ECF6",
           "radialaxis": {
            "gridcolor": "white",
            "linecolor": "white",
            "ticks": ""
           }
          },
          "scene": {
           "xaxis": {
            "backgroundcolor": "#E5ECF6",
            "gridcolor": "white",
            "gridwidth": 2,
            "linecolor": "white",
            "showbackground": true,
            "ticks": "",
            "zerolinecolor": "white"
           },
           "yaxis": {
            "backgroundcolor": "#E5ECF6",
            "gridcolor": "white",
            "gridwidth": 2,
            "linecolor": "white",
            "showbackground": true,
            "ticks": "",
            "zerolinecolor": "white"
           },
           "zaxis": {
            "backgroundcolor": "#E5ECF6",
            "gridcolor": "white",
            "gridwidth": 2,
            "linecolor": "white",
            "showbackground": true,
            "ticks": "",
            "zerolinecolor": "white"
           }
          },
          "shapedefaults": {
           "line": {
            "color": "#2a3f5f"
           }
          },
          "ternary": {
           "aaxis": {
            "gridcolor": "white",
            "linecolor": "white",
            "ticks": ""
           },
           "baxis": {
            "gridcolor": "white",
            "linecolor": "white",
            "ticks": ""
           },
           "bgcolor": "#E5ECF6",
           "caxis": {
            "gridcolor": "white",
            "linecolor": "white",
            "ticks": ""
           }
          },
          "title": {
           "x": 0.05
          },
          "xaxis": {
           "automargin": true,
           "gridcolor": "white",
           "linecolor": "white",
           "ticks": "",
           "title": {
            "standoff": 15
           },
           "zerolinecolor": "white",
           "zerolinewidth": 2
          },
          "yaxis": {
           "automargin": true,
           "gridcolor": "white",
           "linecolor": "white",
           "ticks": "",
           "title": {
            "standoff": 15
           },
           "zerolinecolor": "white",
           "zerolinewidth": 2
          }
         }
        },
        "title": {
         "text": "Initial Force Optimizations Pareto Front"
        },
        "width": 600,
        "xaxis": {
         "anchor": "y",
         "domain": [
          0,
          1
         ],
         "dtick": 0.25,
         "linecolor": "black",
         "mirror": true,
         "showline": true,
         "tickformat": ".1e",
         "ticks": "outside",
         "title": {
          "text": "normalized_BdotN"
         },
         "type": "log"
        },
        "yaxis": {
         "anchor": "x",
         "domain": [
          0,
          1
         ],
         "linecolor": "black",
         "mirror": true,
         "showline": true,
         "tickformat": "000",
         "ticks": "outside",
         "title": {
          "text": "max_max_force"
         }
        }
       }
      }
     },
     "metadata": {},
     "output_type": "display_data"
    },
    {
     "data": {
      "application/vnd.plotly.v1+json": {
       "config": {
        "plotlyServerURL": "https://plot.ly"
       },
       "data": [
        {
         "customdata": [
          [
           "12676ac739cd4c7da1cc4861b1d36658",
           0.00004542753162837728
          ],
          [
           "d5a505eb952c4de1b1750df1db2d7a0b",
           0.23061626583004585
          ],
          [
           "4a26c2b9c9144b738001908867a269fe",
           0.27958428471325597
          ],
          [
           "6951e10830334ff99d0e0f25ee802b9a",
           0.2788591287346712
          ],
          [
           "20a8a0e57922448aaaa69044e9a25f48",
           0.2098750837784989
          ],
          [
           "5028e8e0e006431381b0f2df4230dc37",
           0.2592651160506668
          ],
          [
           "88124fcc85af41caab49f18a2b7e52c9",
           0.019396111596277105
          ],
          [
           "2be157c493a648c288f25f868080cd53",
           0.2787547456913807
          ],
          [
           "a71cea56fb9a4942907e926750df5230",
           0.282213986950579
          ],
          [
           "e46852437c7e40d3a9b08d0bbb174a61",
           0.28026727607321494
          ],
          [
           "44e94840ecd049c995e11e722df6b69f",
           0.2527792754611125
          ],
          [
           "9014c3e7c8574b5da67eee82fb251039",
           0.00816172961492194
          ],
          [
           "f9994befdeef4d89bc4df676f345d412",
           0.24133666246774896
          ],
          [
           "7acdc710ac61486482dd81178015bd39",
           0.28585514347369195
          ],
          [
           "0c3ac685c7be489dade4953c5c2fc7fc",
           0.2845596097979507
          ],
          [
           "aefb118d60e9438c940f13a4fbfa96bb",
           0.2815741897354298
          ],
          [
           "e6f04c26ec53483987890770f64cd910",
           0.29103813208669194
          ],
          [
           "2bf717d4d1b64575a6d3b1eb9beebdaf",
           0.29074461924162576
          ],
          [
           "407db1415eee4a50b5d17b9e09d14857",
           0.2971583350261948
          ],
          [
           "b89d19629bb6423780df995824752987",
           0.03672776122013847
          ],
          [
           "85bdf06e1f244b8f9ad3b794b43cfe2c",
           0.2749255510581573
          ],
          [
           "28520d4d2d424596849893f70da0b648",
           0.47891045619928096
          ],
          [
           "db4864391f534f749cf15393877339a6",
           0.010605085152672854
          ],
          [
           "5eb068b7e062491384acc91de798ccd7",
           0.2808217901670947
          ],
          [
           "51b252c3f2cd4be09deb8a89d0fa9512",
           0.2785740491612208
          ],
          [
           "a31d09de87c34cacb3a126406f1db3f4",
           0.020803988875935934
          ],
          [
           "be1f000369234fd29a08c971d303948f",
           0.24943516426540546
          ],
          [
           "b04e9187062548cc967504ac05bf6723",
           0.02844628675220779
          ],
          [
           "d770de2075bc446d978702b7edf56c4b",
           0.28880876872488453
          ],
          [
           "500854faae884b17a714ca8be23dea72",
           0.25921215148129967
          ],
          [
           "b83ac585d40b4cfea215a17f2d4cc914",
           0.03108144009857011
          ],
          [
           "2388018e6f3145b3bf5295cad4ee4c7a",
           0.023521933189268297
          ],
          [
           "f141e955b4f7480a93e8f730e23d0b63",
           0.2963192515406409
          ],
          [
           "83e568ea09d945faa299214cc36d3e22",
           0.27703795446380924
          ],
          [
           "ead37b94ec524f168db0bedfba4c99f3",
           0.2710449044054851
          ],
          [
           "b3929137cea142378d84903341d188dc",
           0.2682329631163222
          ],
          [
           "d67dc4dcd153446c862ce3be9303934a",
           0.010447562828928256
          ],
          [
           "69965a5d025646b6a7c172c7639140d6",
           0.27716824740653545
          ],
          [
           "8a0d8baa185a4d089b1caa76a6d076bb",
           0.22430996773640396
          ],
          [
           "9bce7ea478e148c196165869492772d6",
           0.22034003134307312
          ],
          [
           "7b61f75c56224b309627cb84254a2fde",
           0.10952996418752994
          ],
          [
           "c2dbd08715994b6e9ea3aa29e1b4506e",
           0.2805051282835062
          ],
          [
           "caabf53e88ea46c3a7f847ed1eb5bc14",
           0.2889864255320084
          ],
          [
           "1be1d14f32ff4fdfbb099b8a0f7fe645",
           56.033541372841846
          ],
          [
           "1d753cb5eca940998e30aa004d9a5840",
           0.19032074082790199
          ],
          [
           "41272015083e4a9a8cd908ecbdee2595",
           0.29834636043718815
          ],
          [
           "08fe6e8999964f67885d3b6b6f64fedf",
           0.2868113073703927
          ],
          [
           "065c457d386d4c74970bd278d66fbaab",
           0.25229512050269837
          ],
          [
           "358e8568649a4e668a578df11961b2d4",
           0.29105510790128447
          ],
          [
           "f0bb7c35f3bf4bcca95baf3c3aab29f5",
           0.2692686878291683
          ],
          [
           "37bb15be5a914d6482fe2e687bca9373",
           0.28474575848470124
          ],
          [
           "a3d056ca727b41b0960bb38eb6e9d144",
           0.2271810744960269
          ],
          [
           "d219a515d108475e8233bdef82e2554a",
           0.2267783339292089
          ],
          [
           "ca9962196e7c4efd986719c8260f8fee",
           0.18496897262372688
          ],
          [
           "1ae66f06b6b54f5ebb5e355c848b5264",
           0.28976027267932236
          ],
          [
           "d3257c195e124e54a4b97a2964a6056d",
           0.26748467148504135
          ],
          [
           "b283307ff5d542daa9dac24cfc8c6078",
           0.29796054810022193
          ],
          [
           "d554def21bef41e1b8b3c78c8e6bb326",
           0.2168184470495332
          ],
          [
           "c3604753cb0b4db6b4e3e537f9798eb9",
           0.2623948806793729
          ],
          [
           "6e94767ff339453db4a0fb8caa044682",
           0.02140596292430591
          ],
          [
           "d641c6254b1a4e50bffecc23c3a4aa69",
           0.15245860575970313
          ],
          [
           "5b204046555e4eaba86672f198534fd8",
           0.27530249222574726
          ],
          [
           "81651306f02b4939bd93679f5b953263",
           0.29614563115296394
          ],
          [
           "5893ab6a20274147b74fe7521aaf804f",
           0.2192916867850346
          ],
          [
           "6dadd79483f94743adbb1f1bfbcbba20",
           0.2176221727672805
          ],
          [
           "9329b824697546df9facd9f812eb1037",
           0.019890592228100475
          ],
          [
           "521990c1201546d0997f267d6d8e3e2c",
           0.2758836096598381
          ],
          [
           "7f34c2a255894c1ab299b6e7aba856e9",
           0.3001563019151841
          ],
          [
           "53ccd4c48fe84d57876e816605105fd8",
           0.272440371458453
          ],
          [
           "7fe9e53615d64a7fbcda52c8e336b506",
           0.2823342632083833
          ],
          [
           "db918335fb5a4db488a8955502dde74e",
           0.27193376681355347
          ],
          [
           "d7ab3a9ce75e4712a7a50bba9d5d2714",
           0.2672490967153366
          ],
          [
           "a5038608b4294f03944d764f1787e539",
           0.24191931995876137
          ],
          [
           "6f6bcaf3d8f748389757e015c75704ef",
           0.2781819376379504
          ],
          [
           "6950b91fdfae4e2eaceade8995bfa3f6",
           0.0344621129503264
          ],
          [
           "73ad3528ae454a16b6a7620690563d44",
           0.2768385250537619
          ],
          [
           "dd4dd45676334f3eab0e6cc5566b50b2",
           0.010995780453943307
          ],
          [
           "13b05226cca849ad8b4ecee69a232190",
           0.26048158278203415
          ],
          [
           "deb0701a1b0b4b21853957738a7114bd",
           0.2892568026165857
          ],
          [
           "553e9b6e3d1f4c12b4bba7154a3b1ad1",
           0.2786572971573738
          ],
          [
           "15988bc33d7f4466aba3859bc3c12a89",
           0.21017541933181083
          ],
          [
           "73ee4013f05748c081880739c0d3f59c",
           0.2881517141816228
          ],
          [
           "e790a30eaa9244589b3c570a64ee828f",
           0.29802107821321133
          ],
          [
           "37210490b4d44151a925cad04c076bff",
           0.032024842224062086
          ],
          [
           "c05bfd569ed24ee788f29dfc27c418d2",
           0.2573398884203781
          ],
          [
           "0c7070ca8c22473196975d4a5a04ca3a",
           0.27289734296185986
          ],
          [
           "4643ab19c3554023ab5247c16c3b92a5",
           0.275529742019085
          ],
          [
           "a4182963a6a64521898137336a1667a4",
           0.03226894907869432
          ],
          [
           "c4c4a63fe5124d7e87b7e01d1879febb",
           0.2748894344776357
          ],
          [
           "a9e75bc34cb74b5aa22e382cf8b57500",
           0.2526705608717165
          ],
          [
           "08cbfddf549940bc91f7216ca0795883",
           0.278614451894505
          ],
          [
           "da4d50b45dde4525b6313dd7e4cf4349",
           0.2386514726158577
          ],
          [
           "1d1a7b9718ff4cc6b576262018cd4671",
           0.28657777897325737
          ],
          [
           "fae42c849aa14b65ad8bcdb050c08da4",
           0.2850735045454195
          ],
          [
           "807f881a40f74f7da56234073ae38f82",
           0.265102207128758
          ],
          [
           "76ba2f49c2b749dabfbf0c6c6c32756c",
           0.2889802219591623
          ],
          [
           "d771ecc280274822a92f2e0ae1b3a60a",
           0.22306947100607502
          ],
          [
           "473d9e42988b41f08440d6c9611fb2d0",
           0.2592158740929871
          ],
          [
           "5922d315df9041dcae2e63a46384d086",
           0.26411172611227673
          ],
          [
           "f19a9f8f3ccd420ebc12092bf8a3fac9",
           0.2676801313809533
          ],
          [
           "0a3b7809475e44ceaac50e43124f23d2",
           0.27990639781919796
          ],
          [
           "926c48d5d81d4bfdb695c76c54667f83",
           0.1982035361380835
          ],
          [
           "665df8b0e18242759a568b2f2137d808",
           0.2856398225452904
          ],
          [
           "0254b5946b4544ad8ef7355b5fea9d93",
           0.28310284390892004
          ],
          [
           "e4ecdcd8e04346f7beac0f4f4bf64ec5",
           0.24861569112188373
          ],
          [
           "3a91ac75650d4543a600a18ee984c885",
           0.0240751968017808
          ],
          [
           "c5c9a5e9c9394b5a89092b8ac4558f75",
           0.2187342069444535
          ],
          [
           "a409b8851b5e4604aa3630cdd4bae68f",
           0.0277659091607336
          ],
          [
           "5e1239b676814fe9a8af3c5b7925cab5",
           0.26044209960098713
          ],
          [
           "d2e074fbc86645f08f3bfd4b36bdbde4",
           0.263362561600607
          ],
          [
           "2f6896040c34429094fa24ab92beddf5",
           0.2873721405826412
          ],
          [
           "f6cf2a87d6264cceb0d6567d33061525",
           0.27641303553654645
          ],
          [
           "ec50106e983f46298d9d5425e825e7dc",
           0.29939836427063216
          ],
          [
           "b1bef7ead3294e8db69c37f20494ff9c",
           0.2850724294033889
          ],
          [
           "3f7415cf14ec4216998bc54950964fab",
           0.00784355447386463
          ],
          [
           "b479c696c45b4463aad0c1d4c9688cc3",
           0.23183433228952716
          ],
          [
           "577a7c7a3c024e65a188f956a3875131",
           0.2855967023182229
          ],
          [
           "6308bd08b96749a9964e7c52ec52c0f6",
           0.2668383698334948
          ],
          [
           "c6532f68976d45069703f412eff518f2",
           0.2768937928870695
          ],
          [
           "95dffe5bb6634547a065cfeb3536e4d6",
           0.27409393734705645
          ],
          [
           "0a7df245eff34172a9f05c2e84474b53",
           0.027605292529142678
          ],
          [
           "545a10b6660f421a9a9f3ae6287add95",
           0.28493443753043274
          ],
          [
           "30d04b9c59d242caa50f23945a54ddb6",
           0.28127533460559095
          ],
          [
           "c4c168fa120a4aea9e4c6f2b636e8691",
           0.2867719829049906
          ],
          [
           "9ad7f422086d427fa9392380409ba793",
           0.24871560678903315
          ],
          [
           "dc9a77789ef5417b97e25d9060cd370b",
           0.28105268161868396
          ],
          [
           "1f6b531a249f4674aab7398d8e7f6ef4",
           0.2039713295789191
          ],
          [
           "b6904a514792462980e8b3599c159641",
           0.02263151966985903
          ],
          [
           "984fb62389514f66939d2807ebe9dfcc",
           0.25276507174999435
          ],
          [
           "e37aba312c1e45869e3243bda7e21185",
           0.29280592746793127
          ],
          [
           "68edbea0b8dd42508176f57c15fd4caa",
           0.2861714711490219
          ],
          [
           "1e2c3f977920421c8c17450761262d47",
           0.018951736903916633
          ],
          [
           "24c96a4e6ea14fea998acd2fa2ebb637",
           0.02428947043634952
          ],
          [
           "ef5e05d7d8a04dfab06794d33a0e92aa",
           0.22430103056828113
          ],
          [
           "27d97d1490f64494ab68286b6dd28b73",
           0.2966485934628107
          ],
          [
           "18e73ca24971434489d312a95e1c60df",
           0.2608603133319804
          ],
          [
           "ed07cc4d351543fa91a2827729ec4dac",
           0.2891095978284892
          ],
          [
           "6175794f4dee45b984ef8fe1470ad02e",
           0.2460986808109563
          ],
          [
           "ec5e5917e3dd4a3bb8144013ba469bbb",
           0.2535328345319961
          ],
          [
           "31976485e472404984566830a8011d6e",
           0.2640294802055535
          ],
          [
           "0e8c77ee1eec4a1d9191cd0e1e4905fa",
           0.2600692304852832
          ],
          [
           "3f3edcaa6abe467ea94cac671241ff2d",
           0.29638789570147256
          ],
          [
           "4289384bd196479981ecf9d014726cc5",
           0.29024588649331146
          ],
          [
           "e36f37cc830f4959b9d77f1bec2aeb81",
           0.031974514721339074
          ],
          [
           "8df4d68485424571aadec9a97a25c4bb",
           0.28153231304802695
          ],
          [
           "cbae71cb92dd49ffa8342b68f31803ef",
           0.24789667333604812
          ],
          [
           "8d3be70196ca400982f6842ad99cc689",
           0.2919270048987313
          ],
          [
           "5c72fea5f5fe4bbda045ceb9c761a73f",
           0.27475846809606147
          ],
          [
           "633de7b0d9f042039fe6934c5b689db7",
           0.2195483339653527
          ],
          [
           "e7f1d2b3acb54f05a577fe68ceee769f",
           0.29763219153319764
          ],
          [
           "92ef2ed31ee648cfb8c2ce9a8b68876f",
           0.29584414447544494
          ],
          [
           "8b5e70033a854c819186835a5c481526",
           0.02996696592941712
          ],
          [
           "ebb156884b2049a58fcf78d5e07e07e3",
           0.010016949228735911
          ],
          [
           "d7ec64efef7946be9584be622dfff3fd",
           0.021853863003215186
          ],
          [
           "d74bffc480cf46188c3a3ed08339c06d",
           0.02862032950822749
          ],
          [
           "5e17ee9cbad84e2785c1ec5feb0dbec1",
           0.0008509651520407186
          ],
          [
           "04e0a4d0159e43c397aac6df4fa51a8c",
           0.27126273193300243
          ],
          [
           "b4244d7d6b4045d5bc8debed03a7925b",
           0.1968199263129661
          ],
          [
           "219385d5983a4941a2018c526709ec21",
           0.27770696780650805
          ],
          [
           "2401ce5cca904fa3bcbdfbea030503f3",
           0.20138479668906564
          ],
          [
           "1836cfa82690426b849e935dea7d239f",
           0.282832496024818
          ],
          [
           "3512c3e0ca09415ea68761b5798fedac",
           0.02971831691264009
          ],
          [
           "a282a73777224cd9a6e8b374d02130ad",
           0.28158772382050185
          ],
          [
           "8e041c4545bf443aae3172d6ff3b32c1",
           0.014042515478286303
          ],
          [
           "0d716605fdbf48a18c46676f9e5daf06",
           0.22375315575939303
          ],
          [
           "d3e9e176ce614e72b3eb7465525fc55a",
           0.2355107996977037
          ],
          [
           "9ea8b55ebc694bc198ba6051400e10ab",
           0.2841599996373945
          ],
          [
           "b1350c497e8045c181fc34ec942675c8",
           0.2902310145738991
          ],
          [
           "4a7895f1d44b4c19af885601a64c7daa",
           0.2374728506977279
          ],
          [
           "72998ca035674dc9a3ce981b838d3fe4",
           0.23117332855815664
          ],
          [
           "b26cd94cdd694da98820634bdd8510aa",
           0.3010267844171275
          ],
          [
           "714e8d5a44914e24948091f3c5abedae",
           0.20154575618842901
          ],
          [
           "d3ad3c9c3ec340c796f3bd2001bdc3e3",
           0.2887964817078481
          ],
          [
           "a76bb01ea26b4bbaa3c25b0a19631137",
           0.01684611856528627
          ],
          [
           "3e320b361e824733846822dcc05b636c",
           0.23309683044814886
          ],
          [
           "a7fd5882464548edb14a8eca0630cf0b",
           0.29397104479291636
          ],
          [
           "67f92a1c43f94f298ea1ef3b07fe34d4",
           0.28335075037949875
          ],
          [
           "40f67b9abacb4eb59217fc885207f745",
           0.27719824332640985
          ],
          [
           "dec7ce9e313c40838592e84578f6f89f",
           0.2720773552406404
          ],
          [
           "c8d0104e2c5045a98e9dbbf2abcb8561",
           0.19032706501255972
          ],
          [
           "069c633076af4a7dab9bdc85a3dce6d8",
           0.00007371384017658243
          ],
          [
           "dbda9adf5ff543dfae94ba055cee88de",
           0.27931166687188863
          ],
          [
           "beb6de8b39d84af180805bce68473e3e",
           0.27031343330415386
          ],
          [
           "74090c9888d84375bd1f59701f603d94",
           0.02367606973769396
          ],
          [
           "2d9415c97c284c20b17b4c746d419cdc",
           0.2986832568314806
          ],
          [
           "39d28d10e0f64b55a4c5ff09c4a93ca9",
           0.2421485406634797
          ],
          [
           "5e7c0e74515d4492a81fde1bad7bd619",
           0.29060916686703325
          ],
          [
           "c02aa6bcd02448b79c7ad7494fda78f0",
           0.29936567633410094
          ],
          [
           "310fe93ff7574d1fb9073f2dc08cc013",
           0.2644271580271307
          ],
          [
           "1038edb82d4b4bacb1a9adcefa0ea834",
           0.013874431696896058
          ],
          [
           "6e1a004187674a2f939bd44170ed2bd5",
           0.27549687377767185
          ],
          [
           "918c737972784b3fbd8619b4d43308f6",
           0.26815175436141075
          ],
          [
           "6c4f54aa24c242ccb34bd086971c7ac0",
           0.28624541684114246
          ],
          [
           "07dd3f131d3747b9863035e94d36b7d7",
           0.28660034408675045
          ],
          [
           "1fe0525e96a140d5bf02f6b9688b12fe",
           0.2308431439590912
          ],
          [
           "ab0d030c46904c6bb93ea08d363dec55",
           0.010180102834068876
          ],
          [
           "9ebeecd0fa6341bb93f88dd3164a005a",
           0.2752650928178854
          ],
          [
           "63cce7f5c9314eea911e6f95aab1dd3c",
           0.28029725558053464
          ],
          [
           "7fedb592ac704c0bbccabbb467b5b028",
           0.25195576713745266
          ],
          [
           "88ed2859680841989561fcb1544e08f4",
           0.259055738336383
          ],
          [
           "01ee348571224195a159b989a515a9fa",
           0.2746719868066755
          ],
          [
           "2d87911be4cb4a4d8002bf8e29f15167",
           0.28310681191381454
          ],
          [
           "8150427e641d401c9db0ff81440cc0a0",
           0.2793607406597997
          ],
          [
           "513528c2bd5f48219aa3a5798bbbc1cc",
           0.28971143669844507
          ],
          [
           "a6f350b5a5024cc7a21cf1dc7b970e8a",
           0.27214816845034334
          ],
          [
           "13807ac3ce6144d4a034a6be25cb7d8a",
           0.2709404703486697
          ],
          [
           "c058df8e319047cfbe4ddf70202e9f72",
           0.276589545929311
          ],
          [
           "86a4d7fd0b4445148fd75c3afbcc555c",
           0.2260833483456627
          ],
          [
           "2968e14974b847d2a815174a1d57c128",
           0.2951195106566603
          ],
          [
           "aed37725e6c342a39ac76a5b34f9f694",
           0.24692241729789266
          ],
          [
           "14c6ef35c2224207b9b7933f3d2413fd",
           0.22645293301875402
          ],
          [
           "cdeb04c2fed94d3f91a552541d65b45d",
           0.2928744362530689
          ],
          [
           "90d9bc95967446eb8f80ac7b69ed3e14",
           0.03765306488756384
          ],
          [
           "bf4d2fa645564421b5f6d430b03230fd",
           0.8641941438314957
          ],
          [
           "dd28ddd74e7c4ed9b6157b64cf6a9862",
           0.21593685742637195
          ],
          [
           "f43b0b3eff04479dab5f18b2e5671b69",
           0.2847723265988307
          ],
          [
           "0fb95174385a4b939a26398ae5b28f8f",
           0.024701416856344638
          ],
          [
           "aad85fc77b1941bdb424b9a2b18ac2f5",
           0.9522641691884844
          ],
          [
           "daed33652a824682a8bf1836209a0ce7",
           0.2768967179937287
          ],
          [
           "aea08bae9b944b949e279d13192deed0",
           0.2832061462737533
          ],
          [
           "5d2f7060b9bd43f58e978d93da849d94",
           0.22588893027500354
          ],
          [
           "0f4521c515bb48c893404ef662bb91e4",
           0.29229677575503454
          ],
          [
           "f8241c9ffd4546439b8f6af99834aa9c",
           0.030627827881396615
          ],
          [
           "892a3495145c4375bfd0e108e30a094d",
           0.017981811459580298
          ],
          [
           "56cfe462dc17405e87f9ae61303295e2",
           0.27853098809470184
          ],
          [
           "bb8034bd69a347a687f22bc9dfcbc2a8",
           0.029779405278772812
          ],
          [
           "75d52238e59d4637a7c97157483766cd",
           0.2312767509583008
          ],
          [
           "134b39681fe740718b267b36366fbf69",
           0.2734615363877609
          ],
          [
           "70fd3d776f704742981218d4a50f197a",
           0.2804855502783888
          ],
          [
           "27a6774bc0e846b3b11ae614fcb811c6",
           0.21741576138726437
          ],
          [
           "a722d3370a644f488e50ff2bb4d27446",
           0.25648555768618103
          ],
          [
           "211819a06a124ab3ba05883732eb8745",
           0.29784076470415405
          ],
          [
           "ed331044d5c44ba4a7744285f5efa186",
           0.2638351258908211
          ],
          [
           "3e3a45a76c794e47a12d9ae1d2fd1de8",
           0.02085999360579497
          ],
          [
           "8ad057593182406597b1bec522b96558",
           0.27055892663594905
          ],
          [
           "33e23bbb0bf1422a9df4bb625d53c2c8",
           0.019321615037249638
          ],
          [
           "d14e6921099d4b1ea257aa4fd4455050",
           0.291837752746193
          ],
          [
           "5b3d26d2812645a0bf4104f238c7b029",
           0.02734504816226278
          ],
          [
           "735a66ca8b924c418c8573a6d4a98f36",
           0.2914661838263012
          ],
          [
           "7344ef586a684d2fb3319b5290ae3922",
           0.028923449346183072
          ],
          [
           "89b47bcf6dd742cd9a7b21c40e50c03b",
           0.26769626475629027
          ],
          [
           "2d85c3d1236142f2b446bd1f6dbc2403",
           0.2091227129205712
          ],
          [
           "12829fbad24d40afb02d89e2a1af54b0",
           0.2717673995539714
          ],
          [
           "61883e3f3f0b4f17bc06f24dce75a8f5",
           0.0227633622980182
          ],
          [
           "938d9beca8b74508aa8254901a2cd016",
           0.27299182526803867
          ],
          [
           "16db6cfb732748f6ae4bf32ce5cfcca1",
           0.2714872119969827
          ],
          [
           "c637d6c9b8a34dbdbe004108a4290788",
           0.19557495070038045
          ],
          [
           "f5f09853f7ef4da8add905fd6f9fc5a5",
           0.2894917611143838
          ],
          [
           "8f55c2bd53024028a5277fe63363c790",
           0.26080093731503046
          ],
          [
           "1f95f7890759441fad10aeef596c3829",
           0.2951278515323109
          ],
          [
           "6c6a0020e8e84118a200bfbcee0c5643",
           0.22542761010206938
          ],
          [
           "3cff8385bacd471497088f717afd1961",
           0.27378102714228175
          ],
          [
           "34871efb3ac9417a9173f1984a58c791",
           0.28953199013536907
          ],
          [
           "2b71d393ff1d460c99db968dfe379ea1",
           0.28709020174075883
          ],
          [
           "c085ea3bae214018a9810fce465eee6f",
           0.023778985880368385
          ],
          [
           "dc571e2cfcd04573bfa0b3da2f112db0",
           0.27007873156993223
          ],
          [
           "8bdcaade724942b6b9c411a25f7b4d9a",
           0.30781828527524085
          ],
          [
           "71c1aa2aefb24570b6d30ded1dc57489",
           0.2807764472988843
          ],
          [
           "76db9cb772f84c1590a14eca8a023f6c",
           0.2145081014228575
          ],
          [
           "0eeb375e81ef41d898cf42a36686729b",
           0.26413049992168375
          ],
          [
           "8e3f9a91cbd7459994b0f0cbe732512b",
           0.030295303552374604
          ],
          [
           "d8900d4104eb4776bb821bfa46b22d61",
           0.260792140989823
          ],
          [
           "8030d7869e2345c5b71df6b7f8a3831d",
           0.29360309432570414
          ],
          [
           "4049ab243e524b02ac9276e83e7f5193",
           0.2827053262677699
          ],
          [
           "10bf7a4c48824012a92e436f0f6e65c3",
           0.00967722905302005
          ],
          [
           "6288eec938d647d4b784bfffd3ef6d03",
           0.02025549126578666
          ],
          [
           "1972b2f8a32e4279909e6ec0c512d9ca",
           0.6979442792145711
          ],
          [
           "2773f1da9e88409c81a61c3cf9b635c2",
           0.29321451005456833
          ],
          [
           "69a4edd179a842e585f5790c3dede6b1",
           0.2854070473484383
          ],
          [
           "6a950048b0314f37a5cc9acd461ae07e",
           0.22425075906623043
          ],
          [
           "928ac5c25fc24552bfb14f93d622b595",
           0.2896962020080269
          ],
          [
           "b2737de9133b482eb866ae65cb3ea874",
           0.2797177277214082
          ],
          [
           "4d963b89c5924afd9b3f46a813ad302c",
           0.0183829981811628
          ],
          [
           "21e1c3fd047a41619a5f82f074052000",
           0.27823264047055274
          ],
          [
           "d40e2e64058a4e74a09f1a3cd3290b82",
           0.2615792169961927
          ],
          [
           "90737b84497e48b187b5a7512c362b1d",
           0.29591468918971026
          ],
          [
           "2bfb482406ad488faf1aaea055a4de77",
           0.21707279135328103
          ],
          [
           "87e6355c1f0c476db8af8df55fc5c5c4",
           0.2813551493305169
          ],
          [
           "437a5576ed6848bb8bcd8391d03709a6",
           0.276370559028395
          ],
          [
           "0fed3276f4854141bfea089e04594116",
           0.29190652761820796
          ],
          [
           "67cd19c6725e4f63817377c3ee746f17",
           0.2799688776200408
          ],
          [
           "d8da740a7e2848f0bd9c91eb10ee7263",
           0.030828318939037792
          ],
          [
           "fce961cedbb346dc992789bf728f7942",
           0.2543310325267068
          ],
          [
           "0cc34ae6b97c4ba286b5fdad2fbe7f20",
           0.2696563510987116
          ],
          [
           "f2483ac0368840bab299592e167f0e4e",
           0.2716444720275855
          ],
          [
           "19bfb8c66d544bfba1442cf622b1ea10",
           0.27457790899048756
          ],
          [
           "33957e43e50f453ea314b568616ca4dc",
           0.029328157368416357
          ],
          [
           "a8147b632cb14cb588a21af64726b48b",
           0.2123642019576162
          ],
          [
           "600ad4f2fc244004b710f41adab33698",
           0.25625502525373983
          ],
          [
           "ec61917b405c4ac3bdaeef0b0074fa25",
           0.018397926984698294
          ],
          [
           "e5fb605374e144e1b226d6ae09d31314",
           0.17456102884269864
          ],
          [
           "997fcd1dc9a04cd698bede5e51f4fb73",
           0.23415777733044804
          ],
          [
           "0ce8791b465d4dc4bf8f969ea2929e7d",
           0.2976814556625786
          ],
          [
           "6803c64b6b84412cb450ec48865096d4",
           0.022774054045551363
          ],
          [
           "f38bbbcfdcf14ad49cf5680d5cc90d22",
           0.28249772106884274
          ],
          [
           "29602974aebb4754beb2a6781f242c06",
           0.21931614444549138
          ],
          [
           "627393ed17f844278c178042a4521051",
           0.024715365842665607
          ],
          [
           "27e8d346810d4e4f87f31dd585fd5ef0",
           0.2549825888941081
          ],
          [
           "c0b7807d5e5c4ebe9d9e875a3770fb9c",
           0.2840045968841453
          ],
          [
           "911a5d459cbe449a85eb795b7de1c3aa",
           0.03339403497216638
          ],
          [
           "3a0b5b9a4a234b38b62a3d76e02ca58f",
           0.01896082689821803
          ],
          [
           "c4c03490fd4d468c9d7fdc47cba5d410",
           0.2866495290448732
          ],
          [
           "67c259c86e1a437a9b91e2d406e8f102",
           0.2681421953916311
          ],
          [
           "116435a9a3d14ee3b30deac0b62aed0a",
           0.28807133484948466
          ],
          [
           "d4ae9b0a26f6486ebbb3bfd7448e914b",
           0.2888377287159512
          ],
          [
           "4f3151c73e6341ad9a5b4af77c19e6bb",
           0.20115671279077738
          ],
          [
           "4e3a26ccadaa496d985a6dfa73b0b73b",
           0.28542160201643396
          ],
          [
           "8a933848fe6341f2b927ebe79f16d8d3",
           0.011060517008384646
          ],
          [
           "32f98983bdb747a1a75187d891723ac2",
           0.2751835007862868
          ],
          [
           "6b95c9039f1845df80ff5b34ee17f03f",
           0.24722872094261952
          ],
          [
           "d2a8621e1d21433ca6de973661ccf01d",
           0.274897523862766
          ],
          [
           "1f9c1196578540bf916e8ecc7650de66",
           0.028591779384599263
          ],
          [
           "85197eb9ac2944668d0f2ddfd572f24f",
           0.23658680786785183
          ],
          [
           "b40dae7e49a74e199dc2b693fbca7768",
           0.02888302086470164
          ],
          [
           "39c8afee5fa940af8f9e8f5c9e9e9901",
           0.27963536597552224
          ],
          [
           "d8d8537e9619446986a9a3aaf4148cc5",
           0.2829457431502408
          ],
          [
           "f0801864858b42c8a4145c58b9be04db",
           0.2866520905370546
          ],
          [
           "e0a753798fc24f29b1b8424fb40cdab3",
           0.01433977091839015
          ],
          [
           "889f593a06014a9f8e69d4ac6d8866db",
           0.25973377061365976
          ],
          [
           "6ac29495459a46e289c2c345a6a4ec14",
           0.2580158839032595
          ],
          [
           "6ae17b9a85cc4752860aa335ace7d89c",
           0.2334413874565415
          ],
          [
           "bfda803139db41e8bd205bdb6ef4bb19",
           0.2880515389356633
          ],
          [
           "2985a7f50bd3491fbd458151619d1ec0",
           0.28785654368694324
          ],
          [
           "43aaf5cd8a5343fabbceed6e9ef75639",
           0.2141078221478623
          ],
          [
           "97a59f7d29ee4d13b5b7fd1725d1dbb4",
           0.29225432239625526
          ],
          [
           "1b8dad4db1154abeaf3489be99560ce2",
           0.26938490633925993
          ],
          [
           "6323c48c490442f6ae9867afae1ecceb",
           0.26723074053077617
          ],
          [
           "1a9ac745894a43efba8886fe0cff7c91",
           0.2778389285282385
          ],
          [
           "976010b34e734ad8beac3e6fd9cdd489",
           0.22999001706104918
          ],
          [
           "afaeda4edf4748d894e8096a7adcba94",
           0.022451830569808436
          ],
          [
           "af7b42ae913e46f79927e5879bb2f76a",
           0.24114253945945496
          ],
          [
           "9eaf110e50c244ea9760cd8748d46fb2",
           0.280857254380015
          ],
          [
           "876f0b2f8d1b4b84bcb38e5b047af06c",
           0.23921379386249503
          ],
          [
           "9e77a53f8e6d41c7a88e433498096a64",
           0.294035567766533
          ],
          [
           "271446abae4449858a7dc9f3487a3a3b",
           0.23091321082132485
          ],
          [
           "b38dc7839e41462281c6c0fd31421b2d",
           0.0185260192564572
          ],
          [
           "9a141303cd9e4d6a906e5d1d0d59b8dc",
           0.02122696009048814
          ],
          [
           "234f1d73ec1546e0a90d1270a3d52fa0",
           0.021575231201837693
          ],
          [
           "ca68f2fff9cf4ce0a132f705ab20f881",
           0.00006353042167457846
          ],
          [
           "60eebf9701584cb9a4b7f72f76843e7f",
           0.018519364196546057
          ],
          [
           "844f8a9c3c3e40c29d37be965f6d0406",
           0.27748083769198023
          ],
          [
           "d3e862f1fc45454cb8594d28363af58d",
           0.2781984601971738
          ],
          [
           "a7fdd4825fcd4b438ac3d8193853d949",
           0.25627516446629195
          ],
          [
           "c04d363db97f47689a7ff8b6d223a3fc",
           0.012697779288885847
          ],
          [
           "b5967c87033b473e9fc2c11cdbac345b",
           0.30398660355865526
          ],
          [
           "5a56252fba84496f92a5d8b69ddffed3",
           0.2909206068264474
          ],
          [
           "f592d63496d5468bb138c0606208ea44",
           0.2221925147774427
          ],
          [
           "508d5d4f32024cdbbe6033b276b496b3",
           0.2966077313566816
          ],
          [
           "4aa0320b662a42ee87aacc4e2b966853",
           0.26950611324319756
          ],
          [
           "54ae273247154a58b0d6061b5d322c0e",
           0.27077094541674585
          ],
          [
           "586fd10ed0624cb6ae6e4dca72c8c645",
           0.02170340254581687
          ],
          [
           "4b250a4888ac45fc84529f99765c3cdf",
           0.2253832932654452
          ],
          [
           "281bf6b18f6d4a41b2815b748daf2ff3",
           0.26591599484748607
          ],
          [
           "e1d054b726834355a5b05cc446d9b98d",
           0.027766559884117605
          ],
          [
           "c187d567ed9142e19ac6028611f2a8ac",
           0.29530817060278153
          ],
          [
           "72dff014b0a3455ca4c2885ff45f74c1",
           0.009132821552554756
          ],
          [
           "ef061658849a4efea5561d64b130c81b",
           0.2755606302637449
          ],
          [
           "6159f33a4d3f439cb907663d748ec023",
           1.0205121786555376
          ],
          [
           "7e79cff5eaa34f34ba779aacf404041b",
           0.20611143315947092
          ],
          [
           "bf9db200e1114fa1b97868f3036ba365",
           0.025549931494278328
          ],
          [
           "178395d5a5374f68966feecc7fe6f9d5",
           0.27443064560443386
          ],
          [
           "3b7678ded601469db51618da1181f3b0",
           0.02264466892960437
          ],
          [
           "6fbf651857894bc0a761f2360458736c",
           0.28387101225437145
          ],
          [
           "ba70d9dd570e4621a2beb5c02a2dcbf5",
           0.2973977825196434
          ],
          [
           "1d4c71e75b504bee9c88e36451891cd9",
           0.2862209967183317
          ],
          [
           "e5975188238c498ba02248569b1ff2bc",
           0.283418424082876
          ],
          [
           "d944f3b31181469ba1d18db682f83244",
           0.026547696810532227
          ],
          [
           "a224642e636347159e3dc4d579d97b10",
           0.2711390970278232
          ],
          [
           "839ae94a4aa944c49eb718f1521acd1f",
           0.2735063474689523
          ],
          [
           "f0a805a4519e46b5a8046f9ecaec9a04",
           0.2787409917300542
          ],
          [
           "701793f4e71a4064aa32e693b0f430a5",
           0.2608368840141208
          ],
          [
           "68fabb12f6794d3ab4b65e53a07f9236",
           0.023994141766508367
          ],
          [
           "b100cdb273cd458b9c6b29e052778eea",
           0.02587072024554305
          ],
          [
           "368dfa0bce1943918924f1909ba017ff",
           0.281708788499246
          ],
          [
           "70c933baae8e4fdcacf03e6d7f57ae29",
           0.19946979834972314
          ],
          [
           "2fcff8d076cc4ceea262564896f301e7",
           0.29014839963939304
          ],
          [
           "15c180731c604862a919812da2bd2b53",
           0.28144175092057255
          ],
          [
           "eb67b5a6a81840159c9effd9b75aa991",
           0.2740082430199535
          ],
          [
           "150bfaeabca74c6bb0331bc3acb36b77",
           0.2795512847932098
          ],
          [
           "201e369a2229482ea905b5ef3be8a4ff",
           0.026416338183798217
          ],
          [
           "cab1ddc3a53546628e5d2ea5fbc8652d",
           0.3133353512592496
          ],
          [
           "d2da30057f0243c29b1b5cb55534a839",
           0.28323428820325275
          ],
          [
           "82697e555abd41958512692521bb42a3",
           0.27626945356333277
          ],
          [
           "c17c241abe8f4df0901cd706299c100a",
           0.29332172018892877
          ],
          [
           "3e103b3151574cfb8b48bc98bec6c05d",
           0.026036313697854904
          ],
          [
           "494265583e5a4248b4d519a815bdb995",
           0.29202506846614706
          ],
          [
           "4951fda8be704625aeff8124babc8cf1",
           0.27091374274794056
          ],
          [
           "b7fea892d3dc4770b5aee91fa93f95aa",
           0.29252328617042284
          ],
          [
           "bb6da95f974b43d480bb2f8ca7cf163e",
           0.2709243190380797
          ],
          [
           "153a42acc91247f5929ae9b1e7769bc5",
           0.3210043759989469
          ],
          [
           "02b315619dc948f2bea278ed39cd3cbe",
           0.2681754068697581
          ],
          [
           "57c53eedda604053b1e4babb495ff02e",
           0.268926485559358
          ],
          [
           "0976b8184b0c4cc3a54cfea6021e40d0",
           0.27366854784304184
          ],
          [
           "8dc49cdb5c2c41f2a1ed2883c56bcdca",
           0.28499283544945303
          ],
          [
           "d6a68b734c7343cd8ea7d992fc6ae3e7",
           0.27255490459543996
          ],
          [
           "42eb655bcd074b84b2b6da0043b7c38a",
           0.008902554164152428
          ],
          [
           "604710db88d84515b1a1c1fc550877c1",
           0.25386702593161303
          ],
          [
           "21cfa30bb8454bd6b49a6d470075b0fa",
           0.01930337781031632
          ],
          [
           "4ae0dc99cce9418191515e2a2b9dab2d",
           0.20338195725598096
          ],
          [
           "f4409d42fdc94e64b2663a398bbd2abd",
           0.2814459259957324
          ],
          [
           "29880a7989a0410f927049077d842658",
           0.26666773987773945
          ],
          [
           "55bcf1220d5448b08d039d8093361806",
           0.20964054709548535
          ],
          [
           "fae12817a9a046d4a62d55161f35197f",
           0.24227764643503286
          ],
          [
           "2fe3b9a243b841a4ac0e2a892c696dc0",
           0.2887871881078474
          ],
          [
           "2f60b950a1934653b38e062be928f0f5",
           0.28973971715395447
          ],
          [
           "cf601805c39a4c099cbd4f2e58bb4eac",
           0.00006922544791048277
          ],
          [
           "cc3a189e2d814058aa3ce157ef82a828",
           0.031172523215963473
          ],
          [
           "ceac36cce13e4acc9e065a7870f0d006",
           0.23387177064985717
          ],
          [
           "dc944d4dbaed4e51af16405f15b2a344",
           0.23523537162713035
          ],
          [
           "7de12ecf9de440a1af1d4d780c337d50",
           0.020968105520625308
          ],
          [
           "90d092536c0540df8768af25b5d446db",
           0.2434489790430317
          ],
          [
           "980cbf9c310944b1806ec8d6db737fef",
           0.27693569488691394
          ],
          [
           "656c283233924afbaf2869f59e599baa",
           0.2230765057608736
          ],
          [
           "409b74457bd747868e07530050b86f0e",
           0.25509870721191996
          ],
          [
           "28acace21ce6460191a81cca89097d0b",
           0.25680853023199784
          ],
          [
           "bd4e15c4b54946f9a04c5031440a3fcd",
           0.26268979261300024
          ],
          [
           "361e0d44f44d474a907b08be2a16c35b",
           0.26796094877892407
          ],
          [
           "a14e8b8de2b547e0992c933dfaeb2717",
           0.2628136750907304
          ],
          [
           "6f96794b7d6742cc957c481c177bb8db",
           0.006287514408566456
          ],
          [
           "9c1b5692bec941db913987795c8d026c",
           0.27916036273040956
          ],
          [
           "4dc47b267f0b48569c4bd669f3f265ce",
           0.2615428055054344
          ],
          [
           "9f14bf9b7b394b0ca6b1b23581a7215e",
           0.27605276207624047
          ],
          [
           "a2f3ebb32db943c990fb8b26a3b9d967",
           0.2924503303527802
          ],
          [
           "5de06a184c284810892fec981105aedd",
           0.2847416083303375
          ],
          [
           "e1051d3b42404439bdf1683a5cb62713",
           0.2625994260658451
          ],
          [
           "a19cd6a79d854b7c93324866cf1b3c37",
           0.27006187374440943
          ],
          [
           "303bec8e831141059f032362c0a88383",
           0.2720739107122557
          ],
          [
           "fae04e340f6c469fb2e8b5c5f653be43",
           0.28528769344000987
          ],
          [
           "18eaf1e118914cbc89125f4c31bf750f",
           0.023940241314209288
          ],
          [
           "20ec9093dd5142efb1ec3fbdaac7172c",
           0.01026508533564819
          ],
          [
           "b0ad8f803f2a4214b75cf1d11fee5b8a",
           0.2665097986353948
          ],
          [
           "737a584e20554fd4b324db06d5afa4cc",
           0.28130609986220123
          ],
          [
           "3c60d3a94e5d479eb257e6087baf43c9",
           0.28146414519585916
          ],
          [
           "9c5892ae2283494b9d5cad2bc9f20a5a",
           0.29767138468284227
          ],
          [
           "65dd2ac68b9d4874a262313e6597a8a4",
           0.2464879577491775
          ],
          [
           "4a6853ab8a2b42729070da4417e96ecb",
           0.21052167675616815
          ],
          [
           "13b5f0a795c842329dc567c2d0ffd5c0",
           0.27874184455561185
          ],
          [
           "d2902db3f2c643429a90494c4d28e880",
           0.29833327284466227
          ],
          [
           "42bb8d6f5db148edbbd49cb5ebe8d0e8",
           0.2823888477578538
          ],
          [
           "04f4a6df35d947f2b70c62756370ab46",
           0.2718493797123921
          ],
          [
           "71412f305e0a4fa4887efff24514c3c1",
           0.265826657904409
          ],
          [
           "65abee395b2a4a14916854093cf98324",
           0.023561185942062444
          ],
          [
           "e798cd1f0c474296af7d621f761844f8",
           0.1839197723950113
          ],
          [
           "59eab1bdaa0b4ddf819508127ab10fd5",
           0.27313498410903636
          ],
          [
           "f282cea5b5ee4f328f2f89f1d46e1308",
           0.2888205556538515
          ],
          [
           "f7baf36b4d2f4aa48c7c4c07a3bb4a9c",
           0.2810050328105848
          ],
          [
           "5ad7866d2a604e9299a00c8f0976775d",
           0.26492175056754036
          ],
          [
           "bdb889545421417bbfaf742aa0ee4c8f",
           0.29616090134883244
          ],
          [
           "505cb1b2cf794426aeb9de72cd80ec11",
           0.016246382449242022
          ],
          [
           "d6257f869a6c4fab884ae0719dfda2f2",
           0.27575891903196453
          ],
          [
           "03d017dd95434a3a95e1c9434078e75c",
           0.01689614210728138
          ],
          [
           "2488a0a33dcd478d847e487afe2abe8a",
           0.2683410312737462
          ],
          [
           "74335680749f463ba740e39a8bfbc14d",
           0.29521122980000486
          ],
          [
           "a62d152decf744df943ff359421f953c",
           0.020849718144495977
          ],
          [
           "f21ea6f81f294d7fa2ae079a0a6f5100",
           0.018939758085941883
          ],
          [
           "2244a198aed349d8b26ea86f82203524",
           0.023526511619089908
          ],
          [
           "fa49f092b37b465491cfcd2a7b48937e",
           0.26714124501346753
          ],
          [
           "a2a019d0f18a4d6dbab0a4c788377400",
           0.2236637693687431
          ],
          [
           "6bbd7db7608547b3b7135413b9e18e9e",
           0.27521983145986256
          ],
          [
           "d329057071b647dc8c2b20af687ad910",
           0.01869964430409362
          ],
          [
           "e5dadd7549e547d6a7d27182404bec16",
           0.25851268433087227
          ],
          [
           "a442b5843e5f4ad985e3cd77711438fa",
           0.220357595164593
          ],
          [
           "72e714db629c4a89a6af5a75732e21da",
           0.17860900405147004
          ],
          [
           "8e692ddb7d034da296cf26972bc9c0d2",
           0.2685721981091139
          ],
          [
           "cf79a8ebfad34907877d3ee2607c0dc1",
           0.00007157634446791649
          ],
          [
           "94e1d6095df740ed892cd200500bfb16",
           0.22668787705780294
          ],
          [
           "920f3fbf591f4908a2189b277ca9a644",
           0.2630670034853924
          ],
          [
           "923dcc2dcd4e447baf2d3487f76b5eab",
           0.28095191046780676
          ],
          [
           "8f5a5e6753424cdcb5fd5ce9c5b712bc",
           0.24641445724254768
          ],
          [
           "41354d13e0364911934fd9288dadd597",
           0.2833545538136445
          ],
          [
           "25f273f3d64b4401976f973dd35db66a",
           0.2758992750790343
          ],
          [
           "c98824b954e3402a90f64f817a6c4ac3",
           0.27802199820185325
          ],
          [
           "27e37df0ea5d48f68b608c4272ddc843",
           0.3052676903665004
          ],
          [
           "d0da95d888ff4266a8a817ecc1555a2a",
           0.02514806760928809
          ],
          [
           "a2be74a5875b4dc996be7d4a8dcf88fa",
           0.28348655119844085
          ],
          [
           "707c83a58a47423daaa465c1d1b0112c",
           0.0209336258145328
          ],
          [
           "3c2c678cfe3c4419b3c38ab8f3270bf8",
           0.2687902329092658
          ],
          [
           "5b20f30b701b4658becf52b1678a7e93",
           0.022310444468284868
          ],
          [
           "59d2be4553bf4a2e938728285ef58174",
           0.22378997405821313
          ],
          [
           "bd10853269384fff8855c4c82bebfbda",
           0.006799871255837343
          ],
          [
           "11d77af1a29444cda01945a642d206bd",
           0.28375083183444805
          ],
          [
           "26824bf74fcf40f79919ca435bca561e",
           0.28067858881667934
          ],
          [
           "02fbe8eac29441aea8959059d8bad6c5",
           0.29607242645369686
          ],
          [
           "7f09cd136b9c400d856ed9f1f9a24559",
           0.04045938511526611
          ],
          [
           "96d5594f3bd44eb8b0fdb46ac402a721",
           0.22559843939395569
          ],
          [
           "1419fd31506b47e098e1fc9964096c43",
           0.29142887619668856
          ],
          [
           "17822a3c38654e639e941fb6ec92148f",
           0.27251299884202457
          ],
          [
           "ac8a49d25d14426ea4dfbdd6038c400b",
           0.012741957978680747
          ],
          [
           "4bd40d6f61bc4571978132bcb3c96c58",
           0.2933534674789151
          ],
          [
           "9f5413ad32d14790a2039150d6e7c6f0",
           0.29132697329219176
          ],
          [
           "e64cb62e2e0b42a285ec47cf12db9f6d",
           0.24823140333589472
          ],
          [
           "100559f5d98a43d5a6d84704ca560e83",
           0.279856929019685
          ],
          [
           "6c2f5141e5df44cf80b048704ec48d89",
           0.25031439661499055
          ],
          [
           "9073967c16d248bcb31e2d5cb060cb4d",
           0.2981560416006799
          ],
          [
           "e5f1ececcfd341c69d536e1ff873cbed",
           0.2640051076342617
          ],
          [
           "cd4839e1e7664e63a87d8816f0141e0f",
           0.00006857306340784885
          ],
          [
           "de69cd953de1469ab92759e068a431d1",
           0.2853669653633333
          ],
          [
           "4ccebc0ed9ea49c7905c205481e21be1",
           0.2803506771366406
          ],
          [
           "f4a4917e2fc44196a67abfe2969ab03c",
           0.29427466785288475
          ],
          [
           "051db5934bfa4be0b891992942e8ab30",
           0.2721178664749095
          ],
          [
           "969547043f5c46e789818557925e07d4",
           0.2384584324028266
          ],
          [
           "3e17a4cef1ef44eebe53fdcd5f48cc13",
           0.3023907716723053
          ],
          [
           "1eb58479c5264f239d62ea26c7bca712",
           0.2987470729336755
          ],
          [
           "1909e1b7d2414c56ab82bc01cc85d97f",
           0.2836994582302448
          ],
          [
           "73d89432e3d746aba4e13d5aea98c8df",
           0.2686280302377649
          ],
          [
           "2d157c8278314550a38548cbe055ad3b",
           0.023556812974829908
          ],
          [
           "6317c6ab79844d4f92611ad91b5de808",
           0.27925234919682146
          ],
          [
           "5ae57539267944caa44b38d956396348",
           0.019918440061339124
          ],
          [
           "81971880fd6b46fba5cbd114e3dafc32",
           0.231708582659075
          ],
          [
           "50c906accaff4053acbd109cf6f9ab58",
           0.270617362136205
          ],
          [
           "82124dd178564f5891685c762f899449",
           0.2772348278308351
          ],
          [
           "6d634330a99f49d2a4c38d0fe82b8d55",
           0.02356448367145778
          ],
          [
           "a4a539657de94191a6d3f1e2f7deb8c4",
           0.20874513850868193
          ],
          [
           "d466c5bdd11f4c6fa51d55220c5a5dba",
           0.2945447378250981
          ],
          [
           "6f1048f8fd444bb2aa8a6847115421f4",
           0.28001773123059603
          ],
          [
           "b301b859c4164d9ab5807865b81b976b",
           0.2286832623979533
          ],
          [
           "6d0eb0db0f9643509efabc9b3e28f987",
           0.2699447231222171
          ],
          [
           "4484769fb5a74365b3661302c4cda43a",
           0.02422438341625205
          ],
          [
           "c31bdae38f1d4706a62d68fc1a095883",
           0.2945334551292405
          ],
          [
           "20d734bbacce417c9f3220f7246eff07",
           0.01821708297409339
          ],
          [
           "38bb02509f6a45d7bb49cce8aad6cc89",
           0.29256263735179927
          ],
          [
           "42e1394ce49142508281ca2c6bc62faf",
           0.28093925854098617
          ],
          [
           "5830827f5888462dad5dfacebeb7d70f",
           0.26174085446035095
          ],
          [
           "73e918a958cb44a0aca0d02ac6dc9deb",
           0.02413911345877533
          ],
          [
           "37a6f8439a4c4248998e84d5229fd5f2",
           0.024549157347106294
          ],
          [
           "9b8ca4a7aff84faa8a6c1c11fd9292ed",
           0.2805904574790971
          ],
          [
           "58dc7c54c56540b081940a5abde88d73",
           0.22050137301838862
          ],
          [
           "503df63e1ca3485f9f2fb6aa02cb1689",
           0.2834627424435178
          ],
          [
           "80c346dacf3e42e588f4b8665a10697e",
           0.2706551431238355
          ],
          [
           "8cc5bf126a9d4c068b2d44232719e3fb",
           0.23612355989109257
          ],
          [
           "29105e271856475f846cb4290a9ce46c",
           0.29305601356917754
          ],
          [
           "8d80a521dbc9470580ed77555636aaa1",
           0.018862178909925777
          ],
          [
           "770ce6eac3d7479c94726626a7239336",
           0.248631739398841
          ],
          [
           "df943f98e6974adc906db7ee31e71fce",
           0.27384527032892686
          ],
          [
           "d3b2a41002744d37bcee2e459ffb1df5",
           0.3013254598640318
          ],
          [
           "12b2193a5c604b6292f7569686c1d9d6",
           0.23846993278860926
          ],
          [
           "4492cdb244ce42a68493d1a1e69282ea",
           0.2759328741074856
          ],
          [
           "0c4baaef08ea4818937a38f64c36298c",
           0.290576431478054
          ],
          [
           "8c1550de17e04299acc9d3801987222e",
           0.25973670852467295
          ],
          [
           "c463b0d136274c76967171d8269a0788",
           0.21130752637452796
          ],
          [
           "269dca53e2e64b648b1d52e53cc9affe",
           0.27983152560541524
          ],
          [
           "20ac066d53974f4e8d114d1a44475094",
           0.020969923177432345
          ],
          [
           "1b57324e259942e785500bcd918c150e",
           0.25138604327635594
          ],
          [
           "15ed2dc4fac642f9b6d58599e9b8d736",
           0.2853613920592629
          ],
          [
           "15b5af32f1bc414c8764a7d475468e19",
           0.016932754107686337
          ],
          [
           "c70469faa84b4b9093d5ed71f083bda9",
           0.2588673421251883
          ],
          [
           "de8f8e3f76ca4782b71e93a70c7324fd",
           0.23079438357182533
          ],
          [
           "31d909af73b649ac978f8eaf94e974ed",
           0.014007432211043846
          ],
          [
           "644d8de5c7fc40f38eba1289751e293f",
           0.25851599568504774
          ],
          [
           "4885d316842c433abc1d7e9fd7607041",
           0.2873235860655748
          ],
          [
           "f28a4973d29d4b86b6e981d427243782",
           0.2758683627537598
          ],
          [
           "96b7de3fba0247eaac1b13d6bd1a121d",
           0.298381932636211
          ],
          [
           "73ba155c5bea40c7acfd91bf5066269c",
           0.2870943452638299
          ],
          [
           "928813a5e14942a2a3dc5b6056a2d4c1",
           0.289797900978076
          ],
          [
           "e6665bb2641046f8b2d62568a5107112",
           0.2703552606833337
          ],
          [
           "81b5b165baae4dfd91b23a927a24c1ac",
           0.24503444858476384
          ],
          [
           "902da2fd94d34460b1d444386da2c18e",
           0.28568767711565696
          ],
          [
           "c83f7ad4a2c3463e88fdc6576fdf05e7",
           0.18030630853910773
          ],
          [
           "c653d6bf61224355a1bf1f6dd6da4f51",
           0.27281164071288216
          ],
          [
           "1af78cc59a5c442fae4f6bc97fac1801",
           0.27810583008755124
          ],
          [
           "5b40dc0855644784a4a48937f80f6743",
           0.308955144225832
          ],
          [
           "366e71ebfb6846ccb14bd6098f345b02",
           0.004309928063115631
          ],
          [
           "37f9ba1ba81c4a678719e944761bf0f1",
           0.2664384837525516
          ],
          [
           "4fdd30420e76430cb9b9e7aaee0d4165",
           0.17587757310700602
          ],
          [
           "0c6747b62a684005a36ee4f58f36fbee",
           0.23129852761813793
          ],
          [
           "64e1e214521544d2b4db23092804c1ed",
           0.2828715367796909
          ],
          [
           "79d8558558224197a2592378dcb603d1",
           0.25261176821377784
          ],
          [
           "e62dc8ce6cf3435d935f296a05356e05",
           0.361956287117619
          ],
          [
           "99514bf85725475cb047240137e4f5cb",
           0.21308857796728034
          ],
          [
           "837bd0f5b5ad47a094fc60dfb67026e8",
           0.2773627684549716
          ],
          [
           "d1a26c9ec49f4e49b1d78ebb0c94ca1d",
           0.013614698741827715
          ],
          [
           "fb4157fba4f24df39fc4206ca8c0fd85",
           0.30625422362193633
          ],
          [
           "1de78fded3bf472192c0e74254fcc098",
           0.30673152915826396
          ],
          [
           "db33ce544c404a35b949594e7f961a35",
           0.2140233664608717
          ],
          [
           "33a6e9d8bbfb46be84ff25bd8c803ec2",
           0.28404774461417326
          ],
          [
           "70c57bb7c37e4dcc9c0c8a178864d2c8",
           0.21999044948372584
          ],
          [
           "1cc6795f3718468fb6c2c218389e5626",
           0.27939857521816425
          ],
          [
           "be0fd48739b5469b8011840fe0a548a6",
           0.28275464311010406
          ],
          [
           "22b5a2ce6f8f46b19ece5c86e2cb05ef",
           0.012131732030862949
          ],
          [
           "98107dec940943c4b1374d7d471dc345",
           0.26869144560171476
          ],
          [
           "424c14d71fb642fb99b29b72217597cd",
           0.2871454023864046
          ],
          [
           "4ac91104bcda48cba936cf49484113bd",
           0.2851305804017901
          ],
          [
           "2624cb6fe36248bda868739cdbc456f5",
           0.28340513164447356
          ],
          [
           "083d58fc2b31490f8cc00813dd9efcf2",
           0.3028291096699089
          ],
          [
           "9101ec79002c440b9408527ca9fb61f8",
           0.2845045833039171
          ],
          [
           "e6683c9af1784ddbabfc43d8cd1f1395",
           0.27604799972162836
          ],
          [
           "9b572c3277b244bcacfd8e213d771dbb",
           0.04175986420470196
          ],
          [
           "44bbf271d75b414292114c4c82354ead",
           0.0232878591460901
          ],
          [
           "33d46db13f914ac58636e0b1145df08a",
           0.2939073311508177
          ],
          [
           "4c783acb70b64fa9af08809366bb8ed1",
           0.2695906603810478
          ],
          [
           "21a0e802bb5b4da2bab6ec68bbe24fea",
           0.26050894441957856
          ],
          [
           "5d5ccf51038b490391e6ca6de1ae236e",
           0.29013818786819956
          ],
          [
           "6a0b58479dae464abb8f2c62d799b75f",
           0.2795426198854349
          ],
          [
           "87786da009094531ac06c400acf1bff6",
           0.2964589402525835
          ],
          [
           "202067d2bcf343a88e9571f7341b0604",
           0.2899517631417251
          ],
          [
           "25b7a895360d44d68efbca1f10ef2c3d",
           0.08068842503799206
          ],
          [
           "6d60bd9abccb4a928537d8a7adf7f73f",
           0.019760539034409403
          ],
          [
           "899e06f84fe446baa92536a48ffc9f79",
           0.3015154534067031
          ],
          [
           "f5a0a8d0b22e4dba950924278fe59da3",
           0.2531435130911589
          ],
          [
           "c95bab7a0f7b434e9d8833527e014590",
           0.2909042694003157
          ],
          [
           "98b02dabb5c84d669c9e0e4bfec92341",
           0.02573998172457698
          ],
          [
           "48c48f09e7a7400d95defb5b269972c3",
           0.28750630084165035
          ],
          [
           "d0f79b1ccefb46a689fd2fc45fe32a2c",
           0.2864267427132164
          ],
          [
           "0131889eb5e043e296216a3a54ee3715",
           0.2916722078527463
          ],
          [
           "66392f34a2b541b9b6d93535d9cd04c2",
           0.25542354802671513
          ],
          [
           "5bf3e29422b54cc4816d07b748b63143",
           0.24577518257030992
          ],
          [
           "3ae8ab4b6e0b4a11ba573f7c6647689e",
           0.28562253577530217
          ],
          [
           "18c1f14fcf054de49ff48eb0ae2e1f54",
           0.2823037741311663
          ],
          [
           "b11a7eb4d4854612b56de0eba0d9c31e",
           0.27358890650531864
          ],
          [
           "a9c6bef6bd024f75bd09c599261d13d0",
           0.28956975736585927
          ],
          [
           "4809439cdb654f9eb378a2ae363182d2",
           0.27974963087243954
          ],
          [
           "3351898d387c413898d0066da1514191",
           0.2952754548534605
          ],
          [
           "65c47d81a4054633830fabc68e3b1f9b",
           0.02633641212939828
          ],
          [
           "25ef31c0148a494d94af8b2f989d7e6c",
           0.26680912690552877
          ],
          [
           "3386dac4cd7d4e59b99c1cb58f61c11a",
           0.025111059902853523
          ],
          [
           "8a51fd0d257945c882579b40961022cc",
           0.1956522303174857
          ],
          [
           "77e7ca0d15f643d09726ebe14b62a0c2",
           0.017574062967311694
          ],
          [
           "88ad9616d54149a9a3793027e9f4942a",
           0.29160080128375226
          ],
          [
           "02a476e07c6a44178c43ff45a9f0d536",
           0.29176105741882097
          ],
          [
           "c0f05fd630aa4a31b5219a098c37fc6e",
           0.21446649673515522
          ],
          [
           "92a8f5fae3e043d8a2afed0ce0684fd4",
           0.27361621089673066
          ],
          [
           "48b939ed22794c6faec05deb3d190260",
           0.21166516967913834
          ],
          [
           "73f5143ed2084622969e0812732702d4",
           0.25879852475877235
          ],
          [
           "5adbea5469c84c8eb127dc1033461c5c",
           0.2682621547080067
          ],
          [
           "f51bea174bb94072830b5fb08d4f0d32",
           0.29321128840380545
          ],
          [
           "d48f9cb2368d43d0ab9a0473ddde8aff",
           0.2624556787725792
          ],
          [
           "124b2bb4d509459d8b2b24f5dc70b201",
           0.25908603387367884
          ],
          [
           "24a3b7a6df244fe3bd326b770a950810",
           0.025630182303621935
          ],
          [
           "6d058804264545fdbde49c642c77e9db",
           0.24924414526624727
          ],
          [
           "cbcb992aa61d4989856b9880403e7499",
           0.2839752389444855
          ],
          [
           "db57bab3d9e14daeb626d63116ce0eec",
           0.2826252523227309
          ],
          [
           "978cf33e06d144b3aeea80a4f4a45fce",
           0.30611182642670887
          ],
          [
           "c8d68b8fcf0c460da16301410c2d4315",
           0.24488330892707527
          ],
          [
           "c0351d94cefa4e6eb8cf57e1691f3983",
           0.24773912086683272
          ],
          [
           "9c166139fa4b454c8b7f99c9fd5ef5bb",
           0.3130850360099693
          ],
          [
           "1f7eee781b7a4eed8c749d34e8a4859f",
           0.04078990401245785
          ],
          [
           "60182c0d7f7341acaa3345da71059138",
           0.27475853067144235
          ],
          [
           "8fc38c4bafb749b482304751bd241dec",
           0.2850837659086097
          ],
          [
           "70a352c3700c440baa2e0e24e346cebc",
           0.2874154744211839
          ],
          [
           "0a75f1e03daa4860aec8c9cb619b30a9",
           0.2883019332840766
          ],
          [
           "60d9b2b39cb54bc8b95921c1353a2298",
           0.2766326804255528
          ],
          [
           "b958c4d3b37c4539bfd9b02bdf162e80",
           0.28125226755598054
          ],
          [
           "f51f47b951944301aa3275825827d89f",
           0.029169085182446958
          ],
          [
           "5445420627ee4380924efe318fcc9dd9",
           0.23572050943979328
          ],
          [
           "0044641138c34995ac87c5837165d085",
           0.23190302957824563
          ],
          [
           "658024ae28a4472c8f7cc44e4dd18578",
           0.02229959741522985
          ],
          [
           "59f2e7feb54744dd8787297f953a5b1c",
           0.012884824050007583
          ],
          [
           "768a1360cf474dff8ccb90e1f3cf0f54",
           0.2657327070375683
          ],
          [
           "15cd5c156ff64a7f9f593efb9cd853b8",
           0.29081797973248197
          ],
          [
           "c0e4fe8c41a94d02aca2875de748136f",
           0.2841980253304325
          ],
          [
           "0671e7f3cd77415c9d6169aa248a16ef",
           0.023861919795172524
          ],
          [
           "47ad4ed285db404ebc954d5bc3fae191",
           0.2740158461376129
          ],
          [
           "8721824a4be24c83a872da8d75276f85",
           0.2972848133895871
          ],
          [
           "8b01b78fd9804fd9b91b581e0dfb96ba",
           0.2706854618317889
          ],
          [
           "4251eef66a1c440b900bc55aecffd471",
           0.2119323800783289
          ],
          [
           "7f4b28230bbf40949142813e654d7d49",
           0.020212670690687936
          ],
          [
           "ebbd7e5e4bcf414aa7d9603fd9953dc8",
           0.023016860919572855
          ],
          [
           "a06fc409d6fd4ecaa3003a0fd6986319",
           0.030596978897863485
          ],
          [
           "92f64ea9930c41978ad652b4206b71bc",
           0.26209798171811116
          ],
          [
           "e7098908be8c4ffaaa226a410aaa9b2f",
           0.21247768967817804
          ],
          [
           "e45382401f724571950eaa32917a7fa8",
           0.27589527800188773
          ],
          [
           "3934c4854ec143b2b00380143ec2a7a8",
           0.25843545061456596
          ],
          [
           "ef2d5d917c314b07a1d1ba0f17d13240",
           0.24078862870090254
          ],
          [
           "9f32dc702fd54d36a5022abf4abf34de",
           0.2878320829616912
          ],
          [
           "e4b5c879593d4ce3ba7b4d30c169c232",
           0.2742401589686924
          ],
          [
           "0c4d400acb704f65a0391a812117139d",
           0.24440710517525222
          ],
          [
           "79f6a8f042f74c3da767fd8b0ba3362c",
           0.232574510084018
          ],
          [
           "c1404b0dec26491bb401abbc9db23ca1",
           0.2884099083708255
          ],
          [
           "db3c45afb134446fa70762616cc8970d",
           0.2906345594150074
          ],
          [
           "e484a9804d564ef3bfcedec88434c76f",
           0.26013177818766636
          ],
          [
           "f18767baea3d45ce9d06e8c4780697b2",
           0.28844764986371635
          ],
          [
           "e7de48ea2fce4aab8bf96696710074dc",
           0.02589875046118726
          ],
          [
           "4a0f4c90f36b46348d1a1c64f4556312",
           0.2751866668269191
          ],
          [
           "77ac95012f134142b5b72c30d2b5d650",
           0.26225865011734295
          ],
          [
           "f73246aa21db436dbec2004c735743f8",
           0.21345213704291796
          ],
          [
           "5deb07fb96ea44de838962907ed0a01f",
           0.2875725787338142
          ],
          [
           "5e1d6e2cb9014395931dd04fe1da3bf8",
           0.022311260603725368
          ],
          [
           "c2bdef88a75344b086d4da186c1a0f03",
           0.27402012826004846
          ],
          [
           "98dc9fbd88ea4055b36533b8e0816c21",
           0.26850570679725927
          ],
          [
           "221054a53b2d44b098cd5befab22dcb0",
           0.2837966651998858
          ],
          [
           "6f08a0b7ad0e448089323483ccd403d1",
           0.28396007576006266
          ],
          [
           "93c8b91f81514a8e89b59014b83b61cb",
           0.27364466041326724
          ],
          [
           "48db5c14c4f444f99c4d4f1f7a32f53d",
           0.2861659213750394
          ],
          [
           "e472795dbf914e19a375c523587b9304",
           0.01555267102132507
          ],
          [
           "f88ab2e4ff9145968a893cdbb7cbd0b8",
           0.24142281947084812
          ],
          [
           "60652abf6c1a4282bf8f527b38718595",
           0.26256181124173633
          ],
          [
           "335d3e5ea7e44559ab3875e6921a301f",
           0.25948212056327874
          ],
          [
           "320f6e85b2524641a7d28994614c3ce3",
           0.28078413753180037
          ],
          [
           "3bdbb8071a074313bbcb6ea3fe37d124",
           0.2073838381250579
          ],
          [
           "961c97dd6bf94e4282cc37a87fae5a79",
           0.29189275106853874
          ],
          [
           "4f77e4cea55d4d358f52c1cc7a9b1b3a",
           0.2836643987283392
          ],
          [
           "1486c95ffb3b45b196091446a8d65542",
           0.022342001923008076
          ],
          [
           "6747fdbe95794e1b83f53dca281a5c41",
           0.27680410514338744
          ],
          [
           "efe5ef68ee2d4635aaa13a325d6c198f",
           0.2721765081501644
          ],
          [
           "bb469c3049cd4dba8696b6db4de7a9fa",
           0.2725814668674437
          ],
          [
           "27acd3e252e44e938bfeb6a212e5f43d",
           0.258503206011291
          ],
          [
           "287226c226d74e1dad9a358645b6a1d6",
           0.28538828966638746
          ],
          [
           "8691683d673f4c05b315ead7a8427ee4",
           0.00007047531163101486
          ],
          [
           "13e723c844eb4c509f43c39d7473a632",
           0.2688791226040618
          ],
          [
           "2a75a90d7b4040ffa2089d5d2a38ea4b",
           0.27607753790431444
          ],
          [
           "f71e6bd7b8cd447389fe71150de174c0",
           0.28227359549144143
          ],
          [
           "0dc06d5062034d1a991bd07e283ccfc3",
           0.24349041816091294
          ],
          [
           "486d3f29a57641cf99850bb804970c0f",
           0.812616098604817
          ],
          [
           "89ca636fbc734542b1236bc858e5eaa9",
           0.253748715534372
          ],
          [
           "68c0756531f641f79724b2023534e4d2",
           0.2797754224207352
          ],
          [
           "70bb6148172d4b6398e4bea5f2d9881b",
           0.02968957924360215
          ],
          [
           "12ec493c6f684ae492ad142f6772492a",
           0.28188774326585614
          ],
          [
           "1fc5822ea85141bdb35080e8055b678d",
           0.2749054705532175
          ],
          [
           "68076c7416a4438c830cf57aaa537015",
           0.2726715380760263
          ],
          [
           "df3cda43b0ac40cea28cd2c51801539e",
           0.490630718425788
          ],
          [
           "047bf8cd1d714dd9be313f05fa91d01f",
           0.278185941891391
          ],
          [
           "56dceca8bbe64711a6ddb436d2a192d9",
           0.013685561141322593
          ],
          [
           "eabe6cc216554497b4977ad7dfa06ed3",
           0.2649205873238519
          ],
          [
           "dfe27a67e0374cc982465b14c0568d20",
           0.28057065998259945
          ],
          [
           "e33283b876c54bd79c8200be79f120da",
           0.23160573218062733
          ],
          [
           "4b28bdf3b404426ab120714855a3df9e",
           0.26877734493068245
          ],
          [
           "673d7b85d07f498fb223a616e28f6202",
           0.022899825774166282
          ],
          [
           "803801d5bf844b378d61cb2c1b34ab46",
           0.25658098564444587
          ],
          [
           "85d6b53c464d4bc3aca002f7c9d55c80",
           0.2759871965428391
          ],
          [
           "8f0525b9f08443d0b15691f0036ef496",
           0.2138287910141527
          ],
          [
           "019e578bd1314d0bb1afb1d3220cead2",
           0.28805641223337874
          ],
          [
           "1daf517598d14763bd8ed9e5baf481f1",
           0.03152449810160889
          ],
          [
           "8b45fd5dfff74b7d98b4e4826a5e8116",
           0.24844370198473856
          ],
          [
           "0869a7488db548b386c15b7e42965b7f",
           0.2807125589804079
          ],
          [
           "180a7d8a27c946acbf9f23285a1e7e04",
           0.283192209649899
          ],
          [
           "9648e44dd8a74064b1477fc0b6be2d0e",
           0.2437391335411636
          ],
          [
           "e61df8764dcb4a52af62ffad3b62d7c0",
           0.2617194955942277
          ],
          [
           "431bfc4bc8a9488da3b56f2dd6dcad4d",
           0.024476416368314883
          ],
          [
           "8bdc7fd490da4cd3b3f599363cff950c",
           0.27980270858756673
          ],
          [
           "31580d1b2e19448280fc0c0024595166",
           0.25135422769392857
          ],
          [
           "884ddf532c7e4dd686a209e7dd6b35bc",
           0.2809745587010351
          ],
          [
           "240af9b2c8e843d596a0e4d7f520d998",
           0.2895008431061362
          ],
          [
           "78036485b5624c55b7702e1bb6f970e0",
           0.01915218205812272
          ],
          [
           "1f7468d5780e4ab19fce47c5322578d1",
           0.25013953055296845
          ],
          [
           "ab8ac27f7cff4937b4ad8a6a5a93594d",
           0.2711057125003136
          ],
          [
           "78d703fd1c644a66a19ec0e3799b6635",
           0.28306845457066776
          ],
          [
           "35da8a02d72f4f0784f347de9e8a12f2",
           0.2583860079384673
          ],
          [
           "25e9c27cfecb47439e7b6d4978e65817",
           0.036095235780895546
          ],
          [
           "c929a5947215479d8f9bfc241152918c",
           0.2735099196842348
          ],
          [
           "65fadefba0c44428a3150b473a4f7e21",
           0.02296169063998389
          ],
          [
           "d80edba8303e4716afe535cf8c60a577",
           0.23834706458859634
          ],
          [
           "8a04ccce4c8846d0bbd495e093b83eb9",
           0.01633757612395533
          ],
          [
           "e69d8a09ee3741ed8c6a1cf7e7c82089",
           0.2761942269268251
          ],
          [
           "b1d2010965f44560abb4e48ad5cfb46e",
           0.019913882108660855
          ],
          [
           "4827e1202da44798813808d8096c0f8e",
           0.25424137484574627
          ],
          [
           "f3d5faf3526b4d87a1266612c4b7dd47",
           0.021139318650274127
          ],
          [
           "99059e9456784e0b867af19faefc1d81",
           0.2778422816632046
          ],
          [
           "7ff83dd38d034f4383d4a20922e8fbdc",
           0.19116974421536473
          ],
          [
           "f19df5314a0b4338ba11a8cc70ba6377",
           0.28477590421429666
          ],
          [
           "e5ea9a5291c64dbbb74470eaf53508cd",
           0.28327522314433584
          ],
          [
           "2cf40ae6a8cb435e82bd9f9bec7755c0",
           0.2809370886465883
          ],
          [
           "5f4537cfcf0046b8b7278c42653b6fa2",
           0.026623036131904882
          ],
          [
           "ee3d0e7fe1cf4ac9ac4f0778bed85c48",
           0.2406031942737965
          ],
          [
           "b0f81603701e433d86c41941583365b3",
           0.3056025219372108
          ],
          [
           "e4dd245b8f604838a9a2f395a8594af8",
           0.28779365901435955
          ],
          [
           "462f151c425143f0b1bad6534bae3058",
           0.26238140098692786
          ],
          [
           "12e2f639745c48c7925521e10e0843e2",
           0.22438688394790238
          ],
          [
           "0b1e6546c96b41b6be9a86976b4f2b2b",
           0.26971475600245826
          ],
          [
           "b6334cd12dd14b28bc3626b5b5dd352a",
           0.29679306107438064
          ],
          [
           "0c666c7d7c2d4a538d0583cace9fd379",
           0.2827425917071674
          ],
          [
           "93bca830b5a14a6dab11856e7396420f",
           0.28856014107937217
          ],
          [
           "9dafc267b29b4cc3bfe440264456e02f",
           0.28295507458590974
          ],
          [
           "938818d0f0864a439728aa928d4473d7",
           0.23572613232606537
          ],
          [
           "68ba82d7d96f42c0bfde627808650c50",
           0.08207168066572268
          ],
          [
           "9b6569b4cbfe4e2fbd2880f88c2db267",
           0.009709887266132311
          ],
          [
           "3d88cea78b51481a962ca943abe7d63a",
           0.29316285580165713
          ],
          [
           "289d114a199943ff9a740b0aba22aac7",
           0.25298363880404123
          ],
          [
           "332590357b664c2db5a3002d913a93cd",
           0.270954483505776
          ],
          [
           "ffa9347170874f3bb056e3892d6c6aa8",
           0.2732372522088223
          ],
          [
           "903bf1d100d0407294ac30ba4eaa8fcb",
           0.26758802848494784
          ],
          [
           "e9d77abe245d48008de017a18f3aa541",
           0.28749535142394905
          ],
          [
           "a89a38e9d83149a5aeae07d321d51116",
           0.2842520392805294
          ],
          [
           "e00aca10afbe42c3982af6f4ed441542",
           0.2575092683217728
          ],
          [
           "a56bac1f93a1435798e55ce934332d18",
           0.009376903340329246
          ],
          [
           "3ea4f5fa3418445fa0b65181e2dce87c",
           0.25747686398662895
          ],
          [
           "f07b105abf3b45a28a8a02d47451b043",
           0.27917514164454726
          ],
          [
           "4679f5a4020f4d75a487833dd58bffbd",
           0.27675281039174726
          ],
          [
           "2756fdfefd474721999f30bb863e821b",
           0.2518465118658976
          ],
          [
           "f8b22860b56f42609b8fc816557e4f4c",
           0.2627498628209769
          ],
          [
           "3661992657bf4bed85845eea0cc71663",
           0.2524310802987773
          ],
          [
           "9901c225072d422fbc05fcb77b211983",
           0.2983647474511933
          ],
          [
           "41398f514d324bf0b5eaddfeee6491e0",
           0.269701588331639
          ],
          [
           "50429a76846c49e79c716efb83e957de",
           0.26622442498615434
          ],
          [
           "7e30daca2c7a4090ad82230e215507a0",
           0.26504312357863435
          ],
          [
           "bcde2c8c710e4c0ba1409004defe8e26",
           0.2761261118186522
          ],
          [
           "4e02c05b6f314f12ae3104576036f650",
           0.26477887352933244
          ],
          [
           "7fa4caa6a9ee4a94a2d4afb80f22aa13",
           0.3042988482798191
          ],
          [
           "d6c0eb6eac614902abf9b846e264c116",
           0.2796864681936889
          ],
          [
           "b121f9e4f6fd4dfa8455f7acd06ed36d",
           0.276367668448894
          ],
          [
           "92a7b1935e9049e1ae4e04b97992bc24",
           0.020463273530970667
          ],
          [
           "6e8b457bc2144c5d86572b3b5dae7eeb",
           0.021706757961729394
          ],
          [
           "30b57937ea9b4eabb3c706abc784b057",
           0.27818889867306684
          ],
          [
           "daca18d82c4c4a348ae2864fb53f62af",
           0.28823344757708047
          ],
          [
           "5fd107b61c814e98a46f9880ef7c5ef1",
           0.29228842510152026
          ],
          [
           "e08bf4a755034b9ab37a1083662570d6",
           0.2896809423775589
          ],
          [
           "974fd9183ed94b41b0b5c74ef988395f",
           0.26289291811390275
          ],
          [
           "6bc98731e2bf4b92b443bc07ce31aad8",
           0.28366826563942216
          ],
          [
           "fa019cb99be84378aee8b265bbca4ea5",
           0.26698222419347656
          ],
          [
           "f54c848492284c0093b4a04eba37e16f",
           0.0241549626425286
          ],
          [
           "385a954ffd4c4cba95f1a5c9f1460e5e",
           0.2571091587904068
          ],
          [
           "2c3c9cdb3baa4e27aa0285112ea4fdc7",
           0.23269587295797903
          ],
          [
           "dab3e6b9686c4d38b4c2560eb60c17c9",
           0.2773455840380498
          ],
          [
           "31e32220f21f4b91a292413358d4d2ab",
           0.2731594871832448
          ],
          [
           "fda6e014f68a464891c924033191f4c1",
           0.2533418128292346
          ],
          [
           "27849b308a9642458f88d447b32d0ea6",
           0.23956771228457308
          ],
          [
           "cf74d160bc764f318d03aa6857130799",
           0.2716430395529574
          ],
          [
           "d6bb5a146fb04217b5df74498a68f082",
           0.28942200817722336
          ],
          [
           "5da416daa7024af9abec05660872efef",
           0.29024924691642773
          ],
          [
           "57caa9bde1c94812ac716efcf50b5b3b",
           0.02263795814266005
          ],
          [
           "5379439f8aca4805b64a13e2fea22494",
           0.023046802206239007
          ],
          [
           "4506dcc997fc47bca07508b1a364d18b",
           0.26092430927581706
          ],
          [
           "4f854ac4d36c4cafb01e420db12227da",
           0.259647414923586
          ],
          [
           "1435d875efdd42f19a4fc148482c0dbb",
           0.21583419047132688
          ],
          [
           "d31a6c78206341eba627002907f365ec",
           0.2810438552923867
          ],
          [
           "157f3e9bb5c3424aba2c47240c1d9eaf",
           0.024216024932992363
          ],
          [
           "5742842abb244e43a20982b60fdfdec5",
           0.28541284694080304
          ],
          [
           "8ee5aaa8367b48da8f2407d509321fa3",
           0.17192138603485088
          ],
          [
           "6ea8c27f82e5444187b0afacb4013916",
           0.29729937220896535
          ],
          [
           "de91156851d24500b1b5dbe4a0e63a66",
           0.2836134119640162
          ],
          [
           "47b11691991841c2ba9fd546f2e2a720",
           0.2689363594220652
          ],
          [
           "3ca918ee23b94f108d3b2cc82cc0993b",
           0.2297713134455143
          ],
          [
           "1ee74fbbf4754987b99217b21e3987cd",
           0.28043055137799694
          ],
          [
           "58bcd537b3d0485eb36e6ee186d0a4db",
           0.006115485796157429
          ],
          [
           "fb9bfeca1eb947a09eef4ecd9b1d9dd0",
           0.2440342125890531
          ],
          [
           "a22c0d8a8a494d28a5a1862842f26fba",
           0.2895600782878848
          ],
          [
           "e803c25e94084c2a8f8209ffd8eede53",
           0.23689837431685476
          ],
          [
           "72238ead88d5446d9fac6e8ab0274f7d",
           0.024192977522019918
          ],
          [
           "7301e6e143e44e21a81b7fe5240cbb3b",
           0.2789239118325728
          ],
          [
           "eca99ec0d4fc419db9b4ebb982f6c330",
           0.24078834303188587
          ],
          [
           "0a642830e641477e9f564456f647a824",
           0.02350484903191207
          ],
          [
           "6c0725dc8b4343a0a250bd05c549542a",
           0.02989644554778258
          ],
          [
           "4692747e65074688b7102f4fd59cb564",
           0.22295110037800714
          ],
          [
           "2611c5a361ed4a308edc2ccf9a5e308a",
           0.22375811818476046
          ],
          [
           "62948678dd614208a4ca5e6c4175534b",
           0.25236918808261916
          ],
          [
           "612b97bdc84444c9a192e3eb0b582aab",
           0.28186360591225773
          ],
          [
           "72d6f670fbc14d73b895281fbf935a82",
           0.03015078043057434
          ],
          [
           "f1d46ae8a68145d98307673310ea010f",
           0.19789951046263501
          ],
          [
           "a261b912012c438f9d532fa6cc10192a",
           0.28272413313867434
          ],
          [
           "8c8da739167843c28debd0e4fef9b765",
           0.2474418832272076
          ],
          [
           "82f579950aa7468b94d8df303bbc6095",
           0.19244540117386685
          ],
          [
           "c4b04e6981f74d779363ef4cd9008ef5",
           0.2672570806062621
          ],
          [
           "6c79a4d28f954edda7e0e7644b2c22fc",
           0.2731706455351007
          ],
          [
           "8b8b68c99f174fc8ab9df8b2c064c622",
           0.021637756607721024
          ],
          [
           "34f447b5966a4014a3356e1cebbd4566",
           0.26925950934259163
          ],
          [
           "5c0ae6d2f76243fd9a7a83b952510239",
           0.2776408794273518
          ],
          [
           "b26b347239144d91bc8f4fbd75b85baf",
           0.020190015240925514
          ],
          [
           "7a25ca47cdaf4465a8a3b82636233f63",
           0.29383834573516554
          ],
          [
           "bb70042ffddc48d79261824af87563b4",
           0.22193334483499866
          ],
          [
           "7e18416b3c7c4027b68246ae3288115d",
           0.004980136997511996
          ],
          [
           "b4e928ebc1234263a9e7a20f0af36d59",
           0.28171112383092217
          ],
          [
           "77251446453e420a9408407973c9570e",
           0.21550165670819657
          ],
          [
           "1efe83afd30945c5a6fee80a264fab52",
           0.2490428597064263
          ],
          [
           "517c4244273542e38265407362ffb4de",
           0.27664385366499494
          ],
          [
           "7a36abb652cd4806ac81c96deedd407a",
           0.2421317861663765
          ],
          [
           "8ba3f4de18bb438aabb5201d03e0e614",
           0.02075006272712189
          ],
          [
           "190c4a6863d0458499efc5e8f7cb55d0",
           0.27896894452127025
          ],
          [
           "2b2e4aeecfe140b991005193f4cd45b9",
           0.024278795332564662
          ],
          [
           "62f7cf4c2c86475e923c7f1e0d683cc1",
           0.2757425504720026
          ],
          [
           "6bc34b642727475eb1eb8f4566c26555",
           0.27912465905365297
          ],
          [
           "d0cac721964b44c6a008a648bdd10b49",
           0.022953267474812983
          ],
          [
           "574828f61a4149e3b95a76a780093d6c",
           0.28854747396645747
          ],
          [
           "6f697a49bce741448bae048a43bd82e8",
           0.2707530391933182
          ],
          [
           "b543c1ce90c841538230f9de3af8f334",
           0.2784663928295074
          ]
         ],
         "hovertemplate": "normalized_BdotN=%{x}<br>max_max_force=%{y:.2e}<br>UUID=%{customdata[0]}<br>coil_surface_distance=%{customdata[1]:.2e}<br>max_length=%{marker.color}<extra></extra>",
         "legendgroup": "",
         "marker": {
          "color": [
           4.849897090850442,
           4.643660900364883,
           4.771203454761425,
           4.599846840170107,
           4.894864287679559,
           5.012984633508144,
           4.715386343272257,
           4.520262449083278,
           4.5858065678062765,
           4.955539262417924,
           4.539337468080725,
           5.619389051654923,
           4.653003239987903,
           4.514332372371957,
           4.986100351054679,
           4.793145371806842,
           4.7085793464488495,
           4.525203348677439,
           4.589358862244792,
           5.398959063974939,
           4.5397759975386265,
           8.417073622466894,
           5.0925705908453995,
           4.900868393786832,
           4.875259424855381,
           4.664518465121452,
           4.934723140129936,
           4.630288210154589,
           4.9045620377073735,
           4.673682482194979,
           4.880554662594305,
           4.055420594109897,
           4.618057530928508,
           4.547255119116879,
           4.529491800462552,
           4.961818401089359,
           5.059528908361191,
           4.677128862074662,
           4.966129416012549,
           4.85289274562791,
           5.133464096030411,
           4.632854574095549,
           4.510874543763548,
           10.84011972461141,
           4.860792591423269,
           4.52331346859989,
           4.923376814338723,
           4.606359998889248,
           4.5359922795013725,
           4.694378156368082,
           4.819781861686293,
           4.933744521779324,
           4.740465959565431,
           4.837071559221397,
           4.853198973084101,
           4.72885310530439,
           4.657982750757956,
           4.689798961395826,
           4.507498197414183,
           4.674994974326474,
           6.239095335534719,
           4.697635007838806,
           4.966543096440773,
           8.5709631202374,
           4.688430111961296,
           4.5253945340791955,
           4.701015078919195,
           4.973108960735273,
           4.6390940660557,
           4.72568936987581,
           4.528878105361857,
           4.568806838214802,
           4.554869734009312,
           4.696095016241291,
           4.672795083547057,
           4.935172725089669,
           6.716431054465636,
           4.644271521774471,
           4.9786774763766495,
           4.687202843323056,
           4.7799629697082,
           4.935047244028643,
           5.891805491776299,
           5.427324214801253,
           4.846615791956596,
           4.540125058239346,
           4.6321953031905245,
           4.623729830068381,
           4.671473706208931,
           4.728940661254773,
           4.603476823103323,
           4.7095358447012705,
           4.8304784793183835,
           4.554870216897716,
           4.792212248970323,
           4.53275301447533,
           4.667883377472419,
           4.612312491828973,
           4.802958578254392,
           4.568383930682907,
           4.734058596489738,
           5.494185513226078,
           4.693927256371772,
           4.548595107574422,
           4.549587467648964,
           4.5834257240966965,
           4.856716224380076,
           4.9561397997157774,
           4.9235537779167755,
           4.689895981111951,
           4.665873710093958,
           4.720423308991816,
           4.9413221670011245,
           4.780617985944705,
           4.816541624920942,
           4.846208102642659,
           4.660821694917616,
           4.603230591702525,
           4.526285200885841,
           4.615910458940602,
           4.850151238106719,
           4.664676961857502,
           4.671314005140497,
           4.666232518253638,
           4.7774183280399525,
           4.898247376296036,
           4.522199482952693,
           4.8277516103426565,
           4.614431165302674,
           4.854883271510418,
           4.742525382086067,
           4.625943409555747,
           5.79865542666634,
           4.980883957842835,
           4.762936865877176,
           4.948828298488129,
           4.984965093499886,
           4.868224424934588,
           4.838928761988116,
           4.621471887966021,
           4.634311208885026,
           4.98196117210701,
           4.985660589504361,
           4.98573614771333,
           4.6795202729390715,
           5.874371640055223,
           4.951634289071624,
           4.621744298888644,
           4.586042379608353,
           4.760247621487255,
           4.83770678569869,
           5.102638614708827,
           4.818366391406206,
           4.895028484598097,
           5.7358871563224785,
           5.396597262067457,
           4.555749553970836,
           4.555107905365912,
           4.8720561450984015,
           4.899270519788473,
           4.7486921057190035,
           4.74902697619919,
           4.6738158827720175,
           4.866746479950726,
           4.730011400799235,
           4.7738729237838395,
           4.841913534337177,
           4.771162975808276,
           4.545201494622044,
           4.590813807281058,
           4.8661870553242,
           4.567311980957387,
           4.623487622060291,
           4.878301206277774,
           4.64553344264784,
           5.225097408320181,
           4.866915564558446,
           4.828024403595003,
           4.738442973133419,
           4.711051823740319,
           4.8363958163825425,
           4.545844658440816,
           4.771495610954747,
           4.911131019740599,
           4.60238857972814,
           4.961298863101106,
           4.592302718978201,
           4.7798012231953715,
           4.521760267186594,
           4.7608174159206476,
           4.7872034587893575,
           4.669265355062747,
           4.832732105348792,
           4.77333833439769,
           4.846179732767869,
           4.734871428557013,
           4.644832070774734,
           4.813759483947128,
           4.668630158075736,
           4.527924276015162,
           4.604711773281753,
           4.7280732083836465,
           4.742081859181312,
           4.795671246129929,
           4.550094969175069,
           4.980152142070145,
           4.973524030000406,
           4.61336844088858,
           5.088359897221234,
           4.684491667245584,
           4.702669085344943,
           4.676154041494963,
           4.685555510628186,
           4.8514685271421065,
           4.653197830066908,
           4.851668355433078,
           5.637603438553177,
           4.943877703487079,
           4.89482643033973,
           4.842466392718554,
           4.644156163749151,
           4.905504017518373,
           4.512305836138594,
           4.959758729001031,
           4.729707222634729,
           4.782586208541245,
           4.88065610258053,
           4.576181377140078,
           4.672040567880438,
           4.532602092670503,
           4.937444189568665,
           4.567172384432756,
           4.822888291612027,
           4.639084521994676,
           4.944687800812094,
           5.739450662467973,
           4.612144489778656,
           5.011930062163712,
           4.615009693120632,
           5.920721412285791,
           4.865873008497724,
           4.636653144341039,
           4.668542754064352,
           4.90167514656766,
           4.560492439613777,
           4.545735330341666,
           4.570075276073043,
           4.943948111493435,
           4.66993455893513,
           4.592354067918402,
           4.731673046934899,
           4.51081657535162,
           4.857272997977744,
           4.773427855962497,
           5.001511645540952,
           4.528498057975321,
           4.9767863261414025,
           4.690383123923924,
           5.000952859497586,
           4.58333554681336,
           4.855990173247719,
           4.673473246595713,
           4.952840196695919,
           4.892368654910111,
           5.027507269921392,
           4.519285701880178,
           4.8364328946348145,
           4.666513558360045,
           4.869031775994676,
           4.589436546320585,
           4.7702800364956675,
           4.58813498745029,
           4.901310742109946,
           4.760817776246707,
           4.661369279338036,
           4.953044635400629,
           4.687079279321425,
           4.978211955596745,
           4.934028936794649,
           4.833447206506531,
           4.528316222134798,
           4.669417860038733,
           4.666810384214215,
           4.8155322453598055,
           4.548518893146659,
           4.5592509628444144,
           4.9262334354911355,
           4.88509339820631,
           4.547122338458755,
           4.738637733872494,
           4.734870444804438,
           4.637379311732987,
           4.8322675472131325,
           4.933727205206653,
           4.731319789016592,
           4.954417336967295,
           4.736474779233994,
           4.500693065084596,
           4.606784255096217,
           4.995202453084408,
           5.263046576740082,
           4.634205972780075,
           4.922778666693152,
           4.9578939909968724,
           4.93067134247488,
           4.541823368753774,
           4.562619040183213,
           5.261474787793912,
           4.974836952259238,
           4.645908873307585,
           4.871330528350139,
           13.47697018388183,
           4.681618301407886,
           4.855772488763185,
           4.953501595655632,
           4.77221324291879,
           4.978831460775269,
           4.842185727271399,
           4.874261796971174,
           4.7907205739159675,
           4.950921065789182,
           4.602744991934755,
           4.892224108126644,
           4.725525466876057,
           4.794946086041612,
           4.657126848909555,
           4.587446369835835,
           4.690958660022654,
           4.5919347906937595,
           4.938453583679695,
           4.51683759242862,
           4.592210637935625,
           4.596347595836368,
           4.837666187632813,
           4.964866705298521,
           4.588558844658601,
           4.548280800663941,
           4.703287349197852,
           3.3076280879341846,
           6.049575809947181,
           4.587710995480826,
           4.894558334704249,
           4.5562018700311695,
           4.6189911625358535,
           4.772296910194309,
           4.891495226956842,
           4.69778169172555,
           4.886983604033715,
           4.560291757102646,
           4.515582471387459,
           4.865966038613558,
           4.52664245951603,
           4.911819055841063,
           5.484366669714589,
           4.567779538121392,
           4.899821280380787,
           4.627035571854169,
           4.647843421877446,
           4.610198729427328,
           4.718535996274854,
           4.817223882976783,
           4.92590758344053,
           4.911343478854556,
           4.868371214011683,
           4.893183163967632,
           4.618980445093273,
           5.839604441036643,
           4.798233233607707,
           4.601974511663524,
           4.800526222966525,
           4.965872399150226,
           5.075114774707176,
           4.797936370011791,
           4.7147027652077576,
           4.883019757054386,
           4.713748351296163,
           4.933305919108706,
           4.924008744376198,
           4.7471065481712005,
           4.676828104910068,
           4.957884622660113,
           4.77480128923403,
           4.913518251054583,
           4.873177172913422,
           4.677815295656264,
           4.823811676721017,
           4.505137802327398,
           4.797459409981888,
           4.867048900466552,
           4.919325290146974,
           4.515898068184862,
           4.576216735304627,
           4.927855476164345,
           4.813715303874772,
           4.667872479162437,
           5.261535240800853,
           4.78199768510898,
           4.55632863028019,
           4.9931634474621,
           4.796423644420188,
           4.9063738088535205,
           4.647069109086065,
           7.342562944750762,
           4.9233036955683,
           4.961326463951917,
           3.127964907444479,
           4.607721887110962,
           4.673801544518344,
           4.520802693663213,
           4.879610696803861,
           4.709622267807457,
           4.6665548029918,
           4.641076886688665,
           4.96077175887101,
           4.672062877684776,
           4.859793779372453,
           4.7054721369669785,
           4.595359062757848,
           4.7164168578649175,
           4.646017228668474,
           4.827145602683567,
           4.643293392713504,
           4.930810122456814,
           4.859698846731183,
           4.736578897559479,
           4.933504590887179,
           4.911907331539349,
           4.715553936352312,
           4.909608137956042,
           5.719929063366483,
           4.958837201628456,
           4.711725463618023,
           4.726669627240166,
           4.8425916309489265,
           4.67529470200582,
           4.915608740437658,
           4.70769899845708,
           4.915787437272355,
           4.811908937475613,
           4.56002198116315,
           4.679731472921445,
           4.618817452925317,
           4.9192571039486115,
           4.7086859657034665,
           4.669342104251524,
           4.647302217595383,
           4.7701671135512695,
           4.981577215758422,
           5.011916431654714,
           4.758449717700071,
           4.624627597244341,
           4.66604319916461,
           4.737347079876269,
           4.795669890547437,
           4.8353613784755245,
           4.712495384456035,
           4.832171805652315,
           4.85440814078297,
           4.683197307171728,
           4.948159638284906,
           4.656273402141643,
           4.569745705974545,
           4.519353039715873,
           4.835587212321396,
           4.649884886174028,
           4.543777075600883,
           4.86531573290851,
           4.838414184337503,
           5.318434206689764,
           4.629734651347318,
           4.603353853391693,
           4.687397369173081,
           4.702129260312635,
           4.832185756723663,
           4.6580415917788125,
           5.151820097963991,
           4.985915679572729,
           5.137711883626895,
           4.680593490081592,
           4.6675456119334395,
           4.755686172524453,
           4.82406863328919,
           4.768463487368182,
           7.7846388715677755,
           4.642051025490217,
           4.994781590077005,
           4.953730387014093,
           6.555541291443817,
           4.585731777614466,
           4.910058230640779,
           4.593882196456153,
           4.789048501495981,
           4.869746505852911,
           4.95460012474565,
           4.667898571320298,
           2.850706527410908,
           4.880561570576026,
           4.961389180724117,
           4.652556220500281,
           4.549068739304752,
           4.92946628119847,
           4.771357366080426,
           4.945193052520182,
           4.942229365696433,
           4.826464605027271,
           4.575482975133142,
           4.888661498946262,
           4.855276138835261,
           4.662012091561626,
           4.671019981874194,
           4.666470928888909,
           4.642913088983042,
           4.855800134571914,
           4.886226613427787,
           4.60508845858875,
           4.773975310010743,
           4.972797113272372,
           5.116558321517163,
           4.937898419437394,
           5.076411646297874,
           4.911577035142281,
           4.506695350556787,
           4.587488246214541,
           4.919940180947153,
           4.948747657473763,
           4.995566840782378,
           4.661506341477373,
           4.893546121896293,
           4.908738021287227,
           4.749396509967608,
           4.904688367644516,
           4.8718017983716555,
           4.792957642754577,
           4.963524659545247,
           4.6667742383231445,
           4.732753554211141,
           4.98020909940197,
           4.885621232186635,
           4.553451896285198,
           4.750221055927022,
           4.833105773210209,
           4.687273043929988,
           4.944595922355374,
           4.676002639094546,
           4.6233002819639015,
           4.59114953610855,
           4.769512408141379,
           4.402926780537827,
           4.565280376058272,
           4.926290860024439,
           4.94208459769671,
           4.674766926683631,
           4.510396165753193,
           4.510702559443637,
           4.67677560929489,
           4.789728528481805,
           5.09363497668113,
           4.935277456131881,
           4.927803112511544,
           4.980293528460299,
           4.702495994663902,
           8.908986157226183,
           4.666344884998266,
           4.609846122425809,
           4.6382902186878,
           4.8539326933366995,
           4.553984374237903,
           5.27070727495453,
           4.888274206674752,
           4.533274511884672,
           5.128004304264978,
           4.786038625865924,
           4.982359455437042,
           4.970124475169836,
           4.955506317184051,
           4.926324863043779,
           4.56486297662298,
           4.831762274918591,
           5.730618684967145,
           4.99841614040778,
           4.6060554035895995,
           4.677441404090152,
           4.60895156121366,
           4.8191921081196245,
           4.960438848326761,
           4.881378223371489,
           4.8054779015701365,
           4.764494368107828,
           4.861701492201473,
           4.684644590940742,
           4.609152974287295,
           4.924337439011249,
           4.6810571457879275,
           4.672978522165186,
           4.872380212788473,
           8.00542924344114,
           4.971340626505931,
           4.990062135995991,
           4.73968547215137,
           4.672635664552486,
           5.0151167775816345,
           4.98265217726713,
           4.655989492445012,
           4.983514534200753,
           4.584719278936915,
           4.721272970593802,
           4.566044660302563,
           4.939539461166795,
           5.000270764262522,
           4.917611031645513,
           4.732029927613642,
           4.607005207656071,
           4.769562081405784,
           4.507009683664236,
           4.69031781000274,
           4.88241263259211,
           5.556471881890897,
           4.5670418977673775,
           4.5717511836329106,
           4.7439089315786545,
           5.590149410354776,
           4.719851193402489,
           4.665396158338893,
           4.686474150388047,
           4.80358426194314,
           4.809986043573535,
           4.527927691559736,
           12.535647752786673,
           4.511566650817593,
           4.857869350903511,
           4.876909152903324,
           4.996019278025331,
           4.780736290867575,
           4.663532195592626,
           4.946468195839541,
           5.313137986530614,
           4.615946655989049,
           4.882644167985593,
           4.879440002234645,
           4.74356913399743,
           4.803815172881721,
           4.899286146185275,
           5.7854302551423515,
           5.037802552395916,
           4.8158112983858965,
           4.682925572392954,
           4.917107773368482,
           4.894543377103825,
           4.544670999959886,
           4.920782219432315,
           6.912614383241518,
           4.804612182245744,
           4.626684578930372,
           4.530979618915565,
           4.997231893220745,
           4.84625918280837,
           4.727491983037333,
           4.69826405279533,
           4.701570455515688,
           4.756962156548265,
           4.674095276090146,
           4.582860173733304,
           4.948220122029923,
           4.985326749342379,
           4.938584513738323,
           4.562091869914451,
           4.945373940072744,
           4.781019358313177,
           4.991357333944902,
           4.646214765021643,
           4.623309662541601,
           4.805330028060213,
           4.714813887714081,
           4.637186445645457,
           4.886413605609524,
           4.893952970325704,
           4.7466884907773546,
           4.996089474631501,
           4.712903473504851,
           4.803712458691892,
           4.654611807216045,
           4.908205148571625,
           4.922951118217628,
           4.749662901998923,
           4.801341218258589,
           4.871567545602626,
           4.517431700605279,
           4.610704549170119,
           4.9336332336285444,
           4.737190684842641,
           4.66900020101399,
           4.919126980281193,
           4.718288569899463,
           4.907479596103325,
           4.819104949295188,
           4.5618143852366835,
           4.72752548987241,
           4.664011606861161,
           4.539634031767017,
           4.649534611866164,
           5.018294087099939,
           4.974857508147157,
           5.542504582462806,
           4.687748466950295,
           4.936115998611781,
           4.87283744807475,
           4.545707036704033,
           4.715791557918691,
           4.560730407922322,
           4.805447697402498,
           4.531181630098419,
           5.244630897147176,
           4.791984150452857,
           4.5195163925387885,
           4.683875429547171,
           4.8017132316819,
           5.8084007565592355,
           4.880286518967238,
           4.606189181817167,
           4.88991304407099,
           4.941883740094392,
           4.791548763948566,
           4.858306656967237,
           4.957023776363732,
           4.5701731898218005,
           4.537430222753376,
           4.664742947842436,
           4.700085735987036,
           4.890098138373084,
           4.596155258647253,
           4.7795136439117645,
           4.748742563307466,
           4.77146623937726,
           4.564765376413217,
           4.528079538093552,
           4.807017703332182,
           4.614403825878742,
           4.951224413130283,
           4.58454045036554,
           5.338643681905432,
           4.721447992160473,
           4.713866461268274,
           4.679034369206509,
           4.9930793828326605,
           4.588095289060495,
           4.613449138748122,
           4.687693366118488,
           4.666194724547048,
           4.869808480173973,
           4.651386473514069,
           4.780627784072165,
           5.319191245393372,
           4.919000983158081,
           4.903458823607938,
           4.96695701474112,
           4.702221790782385,
           4.766757554436568,
           4.503715674909807,
           4.744361600013247,
           4.8229974391499235,
           4.7847140634714584,
           4.742814184277152,
           4.787125097466518,
           10.070250920040058,
           5.308279667212142,
           4.70151659835538,
           4.590969397541724,
           4.878432756248535,
           4.881876755757431,
           4.838206184186086,
           4.548287538048693,
           4.685778459531417,
           4.5443181131981,
           4.8634521670252475,
           4.728433703193977,
           4.7723205619224105,
           4.827636014069915,
           4.684352613276602,
           4.629728348352162,
           4.870272715483569,
           4.886929437399548,
           4.5358751865898945,
           4.850990182213148,
           4.751432479646044,
           4.639385462215675,
           4.824710077896152,
           4.977081533843449,
           4.723207490422928,
           4.750545890313998,
           5.085252645580698,
           4.643649418187234,
           4.663350612907214,
           4.8025274378913085,
           4.697801960027915,
           4.552898858505487,
           4.531468135771087,
           4.707630994550915,
           4.866954810802653,
           4.536363026133833,
           4.696684478916643,
           4.905659193839415,
           4.663261284406554,
           4.617173345213946,
           4.949333408047817,
           4.894128007041247,
           4.542511377892991,
           4.957438219707985,
           4.9856406541475655,
           4.665798422362949,
           4.919774755657998,
           4.639978555577795,
           4.550891207258717,
           4.707700330223276,
           4.972445188879398,
           5.264297822295307,
           4.952355615739473,
           5.1947362309258835,
           4.7254250758531535,
           4.740225198780911,
           4.836201195296686,
           4.6228380231873984,
           4.77294417654302,
           6.3645104047401935,
           4.8136961154984785,
           4.629385233278422,
           4.901999916482679,
           5.206179014452237,
           4.6392650408407174,
           4.697041832896044,
           4.805931468780984,
           4.680049269818803,
           5.2130733241983815,
           4.642732270636962,
           4.646328300822461,
           4.800055186179854,
           5.520683007584973,
           4.66091428248874,
           4.793892410454552,
           4.779410498724757,
           4.987881862650323,
           4.645763663008517,
           4.588877174198158,
           5.158321594859299,
           4.7503593096409515,
           4.606738312435087,
           4.920553147599443,
           4.708320316601778,
           4.951175069110308,
           4.727039602715347,
           4.799610617729787,
           4.838019905307925,
           4.707841234865456,
           4.643573005487974,
           4.8912248778025855,
           4.901715584061945,
           4.793959279554964,
           4.651109835408711,
           4.735711878905024,
           4.746118515970245,
           4.824539520400069,
           4.557807474568276,
           4.91067173356887,
           4.705808104290643
          ],
          "coloraxis": "coloraxis",
          "symbol": "circle"
         },
         "mode": "markers",
         "name": "",
         "orientation": "v",
         "showlegend": false,
         "type": "scatter",
         "x": [
          0.00027231614945302877,
          0.0024977713302371126,
          0.000520749696376866,
          0.000730752647990336,
          0.0016247962083622565,
          0.019198212143101287,
          0.030197667526684773,
          0.0008764745878048819,
          0.00080681591444098,
          0.0013293905236457318,
          0.0010649078591120722,
          0.12854311750639183,
          0.0010673184139596982,
          0.002251705189609321,
          0.00044579032384976834,
          0.0004914447014598284,
          0.0015325604934196765,
          0.00084658855729194,
          0.0007680257316868603,
          0.11847912776761162,
          0.0018969829151924784,
          0.57065902430984,
          0.04762044952179654,
          0.0004143846231105379,
          0.0009523609554245475,
          0.07949786854173947,
          0.0006316011532890988,
          0.1006205724091983,
          0.0005059722201699827,
          0.0008206709149072444,
          0.03941245040362779,
          0.15960182224437786,
          0.0012310090612298436,
          0.0009124467520611288,
          0.0008484436038811371,
          0.000576424176440412,
          0.15184816813707572,
          0.0006282716696753685,
          0.0018823443014430394,
          0.001408818113379066,
          0.4787978239855756,
          0.0030428298334674855,
          0.010829854379593853,
          0.5877363874997803,
          0.004465015917426344,
          0.006649324464186753,
          0.00038189071794430776,
          0.0015198006150046843,
          0.0008419197431670048,
          0.0006201616586764927,
          0.00743083854828966,
          0.001261984676967016,
          0.0011519718547110414,
          0.008495299656699042,
          0.0005993713612432746,
          0.008284706874621323,
          0.0007064610276104109,
          0.0015924741102876624,
          0.10602132339469036,
          0.00408148029100384,
          0.48622191194141245,
          0.0006102447857032527,
          0.00044955286741183277,
          0.4400257513811987,
          0.0030419222830072204,
          0.050679938757926125,
          0.14989979654776509,
          0.0004283240278115871,
          0.0014039023967746562,
          0.0005879065019223857,
          0.0008758383460105734,
          0.007271586894724714,
          0.001694486907688376,
          0.0006023525729197871,
          0.03305184521128836,
          0.0004526640353147271,
          0.14253067197710664,
          0.000785274535147895,
          0.00034078571401425286,
          0.0006322589113467974,
          0.005608688967367366,
          0.0006719672482310771,
          0.018549114803991993,
          0.0648938652903675,
          0.0014937136684983984,
          0.0008325282441966764,
          0.0006792460047720988,
          0.0342010517056332,
          0.0009329420419195757,
          0.0008010368874548318,
          0.0008169717246138337,
          0.00109277792338829,
          0.0005790556862336603,
          0.00880288580841418,
          0.0005685027379464274,
          0.0011639575660230793,
          0.001357328989100652,
          0.0009030735809258302,
          0.0006300129818273715,
          0.0007809791854348497,
          0.0005669413649169871,
          0.2844890547575208,
          0.000613354979227853,
          0.006847068248718553,
          0.0012324000656423297,
          0.004609068886382985,
          0.0012238648216532327,
          0.4551046470899543,
          0.0017060616698515488,
          0.06628890610581964,
          0.005505471997941721,
          0.0006118720849229502,
          0.0006081782972423024,
          0.0006085947808127186,
          0.05368131767553652,
          0.001214848632163785,
          0.00156900228073396,
          0.0009396305745604581,
          0.0009487710761699992,
          0.0007220223877274778,
          0.06466480609701201,
          0.0007890185328452185,
          0.0007343475562785615,
          0.0006365680721206571,
          0.000917691355317343,
          0.0007391871946408248,
          0.004369751020205176,
          0.14289344399017828,
          0.0025250763326891174,
          0.0009843109634367242,
          0.0007715147622797665,
          0.0038752004642689437,
          0.15189798637281776,
          0.004271888863206618,
          0.0006343319184833073,
          0.0006731052074996107,
          0.0003430184604841224,
          0.0007170119168798866,
          0.000761605586572105,
          0.0008890198749542542,
          0.006758846086972361,
          0.0005260681704735221,
          0.0003429438422239599,
          0.08751989980585231,
          0.0006193411580663778,
          0.1586972759287425,
          0.00041448489187429605,
          0.0006956340001865351,
          0.0016182208894406562,
          0.0006113439833658547,
          0.006607225179778203,
          0.07775557803163564,
          0.1818602482780228,
          0.04753680681201486,
          0.04643348319241937,
          0.03905295823832201,
          0.0008008951967166497,
          0.004472548454847714,
          0.009131227204027457,
          0.00436630004278783,
          0.0006729369047018845,
          0.026169508187793646,
          0.0007464196478798804,
          0.017693432242889242,
          0.014655038518721245,
          0.002700554987941377,
          0.0004684010007897426,
          0.0008890861533762435,
          0.0012310035211117577,
          0.004469342526745468,
          0.0005777292357268943,
          0.005664741699418448,
          0.0010489575698377222,
          0.03526847605075399,
          0.0018362802439798865,
          0.07208605239651458,
          0.0004256941609490849,
          0.0007945190027384616,
          0.0007540729247774803,
          0.014722601539589536,
          0.0003917911966601936,
          0.0010502591994678559,
          0.0006737876532118753,
          0.11646359491100433,
          0.0007628088413799107,
          0.007315594423688174,
          0.0007610535161139865,
          0.0006155866406376065,
          0.0035287562324072827,
          0.11438049917028179,
          0.0010569290865041336,
          0.01332262149898858,
          0.0005588280710653188,
          0.03933030774226004,
          0.0009391139607527075,
          0.05706696375304644,
          0.0006687081911021743,
          0.0008853778177167462,
          0.023771834085486082,
          0.0010973721282604401,
          0.0007169061619075073,
          0.0005638505484175021,
          0.0011439547768442664,
          0.00490725946665539,
          0.0008035991439298815,
          0.004067625448841588,
          0.00035234577889511285,
          0.0016913298428288975,
          0.037180867765703784,
          0.0009319284981545954,
          0.00251834791951681,
          0.07321202199095024,
          0.008010053558471486,
          0.5345803526245088,
          0.0036324276903335387,
          0.12262365345941685,
          0.045295653035106805,
          0.5013852218764143,
          0.0004773765285193971,
          0.00045866097098632547,
          0.004819861978567064,
          0.0004637851477275453,
          0.07263355607614111,
          0.02019460073458517,
          0.000560863740586476,
          0.016180721031363195,
          0.0012555228312416374,
          0.0007622963244213263,
          0.0006684369856474069,
          0.0018840189971340668,
          0.004401474439265675,
          0.0009398733579705879,
          0.000973278477305735,
          0.010595224260477052,
          0.0010464502185530181,
          0.08753715363167926,
          0.05205720828403641,
          0.1291291552446469,
          0.014369198103858975,
          0.1564890291171599,
          0.0006551180526202078,
          0.012978407027081383,
          0.0006510350156712823,
          0.04640454937037578,
          0.0011328454403881202,
          0.0008189608091167801,
          0.00443011099033024,
          0.0004162443110107325,
          0.000797778205729359,
          0.006532505846187932,
          0.001477310331103072,
          0.001912524772932628,
          0.0005258673493094391,
          0.0006348615339037685,
          0.020300245110866984,
          0.0008539786730804474,
          0.0005040532390222038,
          0.0006461903793358591,
          0.002500027305095387,
          0.014958688924637536,
          0.01943205829516544,
          0.0006824394831316561,
          0.0011766422412019363,
          0.0005175431342255315,
          0.045719766253164235,
          0.44003721243892785,
          0.46721924574819,
          0.0008411765083623308,
          0.0005317365478303086,
          0.001421644986228388,
          0.0008806892074806861,
          0.001467685702358014,
          0.07410435133776404,
          0.002784309231857611,
          0.0013707858834231758,
          0.0005137886498158712,
          0.018873585105893112,
          0.0005194423973517299,
          0.0005354095951644724,
          0.0006700970693616586,
          0.0014038430361361207,
          0.013681998688048176,
          0.01161930987408514,
          0.01078016550576085,
          0.0008151423668039849,
          0.0008122623440076965,
          0.0030200497336950382,
          0.001932728943853933,
          0.0009341612858881571,
          0.049644896110412444,
          0.013577039065438081,
          0.0011671950300876585,
          0.0006391952475877007,
          0.03103543279648324,
          0.0008444816113121627,
          0.0012267089269068843,
          0.05035356558832898,
          0.0009856878173342748,
          0.0007176760792571658,
          0.01582745974732195,
          0.03824501944144406,
          0.0006838938109249067,
          0.0005129389386671013,
          0.0003572208773784196,
          0.0005877923757159156,
          0.0030516286399924755,
          0.001003226402564868,
          0.08678204912560308,
          0.00042627081450520175,
          0.005053571603651201,
          0.013181496646687354,
          0.21364575821762427,
          0.0015823619701605838,
          0.02410772618230453,
          0.0003810824075891073,
          0.0005749134810982421,
          0.0005210299920380024,
          0.07651838714441643,
          0.0018708130636658823,
          0.0006885628541906645,
          0.16544010147376834,
          0.0007503623768911421,
          0.0005058716295952873,
          0.0018597187491763121,
          0.0006281425197691926,
          0.0006568703876977522,
          0.0007593604976432062,
          0.0006080494887631718,
          0.0016931271720788364,
          0.03927531903328303,
          0.0012734789544603326,
          0.0008396459903841913,
          0.008066931398261845,
          0.0006099705078150227,
          0.0019381574986633869,
          0.0646305257397016,
          0.004522381190617766,
          0.04078101808194225,
          0.003036424393024612,
          0.3539737877971787,
          0.001062647629455768,
          0.0005770596196254319,
          0.0010091375916144363,
          0.1135166335586215,
          0.0743527522011007,
          0.00043109663929831086,
          0.00690284300508387,
          0.011104898307826308,
          0.0008376625959218685,
          0.0009737464745180649,
          0.08061648355029857,
          0.0016613674128607603,
          0.0011175481579106731,
          0.05326830126810691,
          0.0009960879385142484,
          0.022639431726822243,
          0.0006853144124778225,
          0.47898363087275475,
          0.004990329123552631,
          0.05073305032449924,
          0.000715470357910232,
          0.013194672091849649,
          0.0005541120427292807,
          0.000496851890131233,
          0.00040286270228795986,
          0.0007816965835858053,
          0.07225212757111661,
          0.0022601048435904707,
          0.0007713190000400935,
          0.0005077960021698602,
          0.0005307299722440841,
          0.09587640252343865,
          0.02047846744511759,
          0.000594965862063612,
          0.012238619222741057,
          0.0007058728754696581,
          0.00046163674681544246,
          0.0015284972083914172,
          0.0005470671400478629,
          0.007984569507259268,
          0.0004320820985592695,
          0.0006987005892911244,
          0.000417355734281272,
          0.00616007956326525,
          0.028290759743515654,
          0.0005221197484116407,
          0.0009153812426834195,
          0.06914914235771687,
          0.00045884657503683895,
          0.09161429570944532,
          0.0008685737217387494,
          0.0009220764303846947,
          0.00047735768150077755,
          0.0007112905332318591,
          0.0006407250069024062,
          0.02819737824562622,
          0.016756088963270258,
          0.03646113028225009,
          0.0055882386742499655,
          0.006928728524596459,
          0.0005317002098455821,
          0.002786009899537388,
          0.15112860157927563,
          0.00039031719175218504,
          0.00037258667100548235,
          0.0027758450555525655,
          0.01579360878502446,
          0.0023873757058594848,
          0.0014777728993720918,
          0.10335699764913442,
          0.005674114393222575,
          0.0006384574795194075,
          0.0024616340063038688,
          0.010171777024527968,
          0.0008520996173564545,
          0.0007282175243049287,
          0.0008289160569289812,
          0.0013527654410943506,
          0.24876375327508754,
          0.0070449513617303694,
          0.005354244875290953,
          0.0006652156245112693,
          0.0005132936287968531,
          0.00043806008204113223,
          0.0006182919069660935,
          0.00043373853099942615,
          0.01070957939689324,
          0.006467870646409856,
          0.05459476505503361,
          0.0500304582374168,
          0.0011191185870167528,
          0.0005985026300678704,
          0.0005799163425805644,
          0.0005937624015681504,
          0.000994135622834016,
          0.0028312706809794598,
          0.0005852035340728032,
          0.009007445827955903,
          0.00047836690251220926,
          0.0007947783309268596,
          0.0006404873876095666,
          0.004308369319373588,
          0.0038102689044537228,
          0.0009780587605866867,
          0.000881800860672148,
          0.001386064258842764,
          0.0008075072628981717,
          0.0005079486188648124,
          0.06936258082179826,
          0.001169346624320349,
          0.02787826329315391,
          0.0009155377828566804,
          0.0006631902417726431,
          0.05350766331595592,
          0.02641784629771,
          0.07077615937394979,
          0.0007176726990276012,
          0.0016961450084514614,
          0.003499268309513415,
          0.0025073527403010228,
          0.0034038470945335244,
          0.007132339683691488,
          0.012914630004266316,
          0.0008644580927520364,
          0.0006678167883136011,
          0.002647696983202995,
          0.0005938393113561812,
          0.003370019204470881,
          0.010150265468659724,
          0.025309656959951736,
          0.0007603719472488108,
          0.0006212296671525709,
          0.0006701576792137509,
          0.07268900648094347,
          0.002071944977909412,
          0.007807923875390742,
          0.0004540554714603328,
          0.07597037151734028,
          0.01604456193074586,
          0.04642757423475271,
          0.000881949918021227,
          0.0005194691173494658,
          0.0007502334656315476,
          0.031071212645877762,
          0.0019324418554049426,
          0.00035588568155073464,
          0.0009745036215559083,
          0.1465989002224388,
          0.0009232555757304615,
          0.0004189146649635374,
          0.0010839213707756206,
          0.0005488782690782925,
          0.08463938161131403,
          0.0013991290254090972,
          0.13426865850661676,
          0.01285130599186123,
          0.0004368635162899706,
          0.0009794130085768844,
          0.0008711343329319957,
          0.0008117475291059004,
          0.017244225368404222,
          0.0008578494792083573,
          0.004077835271285549,
          0.00036787183959846825,
          0.0004806934043129435,
          0.031798166099302756,
          0.0004234787547489775,
          0.026620627565530897,
          0.003869299005805794,
          0.0006674956351689202,
          0.0006471435928539009,
          0.0073261303525166,
          0.0037813461080253258,
          0.0006793336871161426,
          0.1373289817896086,
          0.0011232148581358863,
          0.0003938325049275088,
          0.11764740720388146,
          0.000567554050749408,
          0.05300429299950663,
          0.005662214811062193,
          0.012999418976006592,
          0.0018183065156307412,
          0.0026690472885650307,
          0.026550424132964264,
          0.0014714493400045173,
          0.0018420098955802134,
          0.0005015738165644585,
          0.0006712502740710124,
          0.0380184458125276,
          0.012378615172707353,
          0.013121619618639375,
          0.0201714799617837,
          0.008735194851166686,
          0.005685924617847385,
          0.001024975623359114,
          0.0005116243410028607,
          0.0004291498833209733,
          0.0008379297813442128,
          0.0017527982692696026,
          0.004705026407641839,
          0.031232545544496865,
          0.013186634830636677,
          0.0007344084675348602,
          0.052758555745442144,
          0.010019623217545811,
          0.0015210740263432092,
          0.1839642740118621,
          0.0009662676058346481,
          0.0003904290083372275,
          0.0005108681846291734,
          0.0012281110416357125,
          0.0010285193909417099,
          0.0009284003574266603,
          0.000818807436109564,
          0.0009343396826686636,
          0.00896831761622899,
          0.011769627251442913,
          0.002252425224596868,
          0.0003448320922041038,
          0.01850707531268174,
          0.21356362533529072,
          0.003187407431684681,
          0.03754213599441873,
          0.007190157394087364,
          0.0004895239857907752,
          0.001164158175095729,
          0.4479456635518071,
          0.024798972378886328,
          0.0009466662272190312,
          0.07543605466438136,
          0.004939993732594712,
          0.003982176795686842,
          0.002999270787484493,
          0.00045590350092676574,
          0.0036484853086227193,
          0.0009470541324604519,
          0.0019019260907274214,
          0.021646467652896753,
          0.15692086766256447,
          0.0009724337279587502,
          0.0008504246794071651,
          0.0012189882456106007,
          0.000613702218744798,
          0.00041297269877186606,
          0.0004168404083148017,
          0.00608453746819293,
          0.10615152856250559,
          0.0006236929572161903,
          0.004474302781054214,
          0.0008196564194467305,
          0.0004971575094035701,
          0.0012030002548348846,
          0.014151937858982375,
          0.0004510993730647416,
          0.19861499937754823,
          0.04443261324048417,
          0.0004407314330855938,
          0.0008734166995290341,
          0.0006736298972198991,
          0.013014063671550582,
          0.006078451388193363,
          0.0007488227952406051,
          0.0017669783684517127,
          0.0008834125901784971,
          0.00599365666878766,
          0.0010453354929506036,
          0.00042930297590580246,
          0.005276145749804074,
          0.0004822625989748002,
          0.0005696516211845151,
          0.0007238958779889003,
          0.026906105714507064,
          0.0011883199131284678,
          0.09802971192180028,
          0.006976563306978773,
          0.10472693377292891,
          0.00088905376919753,
          0.000920012084849328,
          0.002147007142452949,
          0.02148440940228502,
          0.005066947402681422,
          0.0009622869966705282,
          0.012734615212183496,
          0.0006144244390134076,
          0.0006434064727016699,
          0.0010645540945117581,
          0.3418733387472905,
          0.0018350298830767378,
          0.0005929777764808612,
          0.000456288411648263,
          0.00040394567930781856,
          0.0008271241854997131,
          0.009863966980646463,
          0.003905850235830715,
          0.049399540349973625,
          0.0007143487979248111,
          0.0005233476622263022,
          0.0004447569286159544,
          0.0008608387490911438,
          0.001395192626849298,
          0.002463768590495804,
          0.017866536052413815,
          0.19938546946831362,
          0.0012824469901871534,
          0.011767835336504334,
          0.037234349579857176,
          0.01623219574804872,
          0.002932427349642848,
          0.0007418656887235982,
          0.2921870440133691,
          0.0015088449146678352,
          0.0008845219562543393,
          0.0008419338354851821,
          0.008386487808410555,
          0.07287031924947224,
          0.016218222627083594,
          0.060798363420594304,
          0.0006398705293631342,
          0.0037155162901331756,
          0.0006708992151762773,
          0.001030273307094476,
          0.0006827886151246171,
          0.00039481677751163205,
          0.0005481946031505472,
          0.0032102433232434145,
          0.0017866581653779307,
          0.004445858189271668,
          0.00033635219299228507,
          0.0009019069159982043,
          0.02195602751670875,
          0.010470191777165485,
          0.000585226789553468,
          0.0007013460723776268,
          0.01695537885972049,
          0.0004059611825707848,
          0.06449458833874286,
          0.0006001829463983456,
          0.0007310164567083712,
          0.0005614121549470752,
          0.0008678576247072624,
          0.000647067494976605,
          0.0004062720936266667,
          0.003449204638934348,
          0.002218529405416464,
          0.0005844578366889499,
          0.0009019367422947517,
          0.0007114926690777151,
          0.007679053441169447,
          0.0007667197541797754,
          0.0007354714052790036,
          0.06122564810873527,
          0.0007418372375304046,
          0.0005844793931632444,
          0.0004912847815757596,
          0.0018695731482454138,
          0.0008797128965537877,
          0.0002785337077148497,
          0.0009498429816152019,
          0.0006688069292839948,
          0.007907159727532974,
          0.0014669026739156303,
          0.4291920975772583,
          0.001301431550178022,
          0.005762074675142058,
          0.0739059220436488,
          0.0010269318338309785,
          0.0005827891174080073,
          0.0007901050168047446,
          0.5264061707636218,
          0.0012438798014429687,
          0.075638110185513,
          0.0005406275467677744,
          0.0008615010079243907,
          0.012697625203620179,
          0.0011955588025832126,
          0.0679567935356367,
          0.003530694710953448,
          0.0007317662567545877,
          0.0033067902829706716,
          0.0005288961198183916,
          0.03194324603623729,
          0.0015311166025630924,
          0.0024069685236549347,
          0.0009283224580491899,
          0.001175700712910995,
          0.0006717735652702336,
          0.01332440759687778,
          0.0005793648103872372,
          0.002320537434846295,
          0.0005056711365347846,
          0.0006418104136955366,
          0.056441622205625326,
          0.00563865498865533,
          0.0012292183912622696,
          0.0012660371146575899,
          0.0008822979189758154,
          0.027622891044457948,
          0.0007529148951782177,
          0.21330278773807698,
          0.0009918287215416686,
          0.029905355126548336,
          0.0006274186034049797,
          0.0756115203610524,
          0.000998265944366358,
          0.031691024956041945,
          0.0006089901151596648,
          0.00531542441292134,
          0.0005376539625372301,
          0.0007271803896740571,
          0.0006117616485079284,
          0.044566392236170094,
          0.0009913540614493973,
          0.0004531147122802832,
          0.007512658620603677,
          0.02676507924741543,
          0.004299374544225469,
          0.000893182012955575,
          0.0006218796884857826,
          0.00046458189096928445,
          0.0010536138214860438,
          0.006914715235256436,
          0.0009277283234600338,
          0.08038107472967014,
          0.014959509803335734,
          0.0006931118770550189,
          0.006037567681108549,
          0.0007703944656017977,
          0.0008798796333756367,
          0.010738872723958537,
          0.0008069979712125705,
          0.0006111787207417509,
          0.0010074083996370533,
          0.0800648188393605,
          0.0032019735765579063,
          0.000920638558041272,
          0.0010352719046353108,
          0.07033168645069993,
          0.0007058748445385862,
          0.0007015671957130738,
          0.0012293212108300529,
          0.0014259789620435625,
          0.0005760728961014817,
          0.0006372489365508398,
          0.0006819400776758517,
          0.0005431042419640185,
          0.0004082015970708786,
          0.0005647810999045204,
          0.0016278501293668119,
          0.06814912687111582,
          0.0035992744023664574,
          0.001174818744425842,
          0.0005599084666858143,
          0.010694751554582278,
          0.0009506319865989017,
          0.0008501866637173696,
          0.0006305976224936343,
          0.016048518535135725,
          0.05907596389291915,
          0.0008272591896200975,
          0.0036289939607127976,
          0.0006605988824884741,
          0.0007080984544133232,
          0.0010341901233241373,
          0.00960052830404478,
          0.0008274540358223637,
          0.00036813595764368994,
          0.0003492641831321818,
          0.07383065849915318,
          0.04513875425798516,
          0.0007227467378880883,
          0.0008606606954083465,
          0.0014329055476544786,
          0.0004786449497213098,
          0.01076512968624119,
          0.0003643749846456477,
          0.012807214034905161,
          0.01597020235535725,
          0.000681487455952331,
          0.0004854308320564102,
          0.0018008060341673695,
          0.03959724070786537,
          0.269685826653215,
          0.0053687157477017525,
          0.0009648397766611834,
          0.0011470544122595128,
          0.043678025204366165,
          0.000771280717889817,
          0.0011049566790813385,
          0.015184505250759522,
          0.02194680342935007,
          0.009361886660733962,
          0.005238676841353644,
          0.02551390537541879,
          0.0004980151438868678,
          0.110615474539249,
          0.007801706933180884,
          0.0005041168794791879,
          0.003230458342260806,
          0.010105922577670685,
          0.0032556663430847654,
          0.000751135557098502,
          0.04811657471536702,
          0.007954690644455684,
          0.01729404108788434,
          0.122432721955582,
          0.0007078821514720935,
          0.0015955173045145786,
          0.12419372911317872,
          0.000493497945924122,
          0.0021589420951805627,
          0.0008554399944737159,
          0.014858892943559271,
          0.0007764417052486015,
          0.002892077291034011,
          0.000540971110843412,
          0.004539162185312405,
          0.006700712089826296,
          0.0006555609285616555,
          0.017342197261576577,
          0.0011123193840253099,
          0.0004995546650329818,
          0.0005936574321121871
         ],
         "xaxis": "x",
         "y": [
          18260.18165731409,
          16610.880987542296,
          36256.74788746069,
          36266.664264810985,
          17015.93206311835,
          8217.363683339372,
          9927.976712899754,
          33523.08009261247,
          30435.11991559709,
          18983.27735264183,
          25606.4879910416,
          8112.2364631893515,
          23236.448304956124,
          22046.073649850605,
          32405.393752075273,
          36783.28456435302,
          21442.63906988537,
          36562.653033860464,
          38084.68672298759,
          4867.878363330962,
          20217.940744080395,
          4591.471620906196,
          6580.844799459949,
          36634.72394358346,
          22564.329758293996,
          23455.16833759181,
          23718.822276747967,
          1441.5300953942676,
          33227.81404628948,
          25709.615616551397,
          17327.421363087044,
          19921.529088311538,
          25280.765005944006,
          31922.85801767943,
          34959.537887585386,
          26416.310954519224,
          3666.3945943674134,
          36568.64397718302,
          28445.669838712944,
          17819.858013940986,
          5524.967076669576,
          16374.57158081692,
          8435.26278493173,
          1471.2440471850755,
          11574.548285242918,
          7697.99556957067,
          38387.20582979429,
          38013.853419553896,
          38386.34133366731,
          33650.85679321671,
          6004.253257773548,
          18210.023697253047,
          20705.869061364385,
          7478.938960804795,
          33733.49153333954,
          10760.035633628171,
          32515.728351353468,
          18285.990113834552,
          3878.233618716788,
          22207.303889402574,
          21422.327875403567,
          35539.12356677569,
          35520.48626103246,
          2339.58067951332,
          15002.164016928971,
          7278.025839188986,
          23137.63804544404,
          41986.94440132647,
          49832.77418553825,
          37149.611933562766,
          33201.83749102825,
          12107.853879278204,
          19437.035955333722,
          36295.23245263448,
          17383.276337909294,
          31588.886120115407,
          6171.332830764042,
          27286.53568459347,
          39355.40973764093,
          35881.195463250435,
          11278.44420226514,
          42612.868649838434,
          14743.195082395749,
          8417.728235043654,
          20610.610509637736,
          34793.99719713995,
          35009.62912466571,
          14803.515735543517,
          32827.400108379545,
          24453.739669947023,
          32484.510321519043,
          22422.008324005852,
          33565.13443915375,
          11887.192511090041,
          28940.60678513385,
          46385.54447911703,
          19720.959010515242,
          25877.29698138664,
          27261.25366083187,
          33070.66246540511,
          37267.55162155577,
          1505.097191947996,
          38415.97718852407,
          6937.26075613498,
          24144.82095928031,
          22440.42158969154,
          19030.667845368564,
          14516.888338445317,
          17443.86892336524,
          2684.7517441749005,
          7159.917506071615,
          34070.64908643724,
          27044.283500944144,
          33214.14947824707,
          10203.468829246158,
          19017.164922977016,
          29003.773771847344,
          28316.08158447029,
          31857.255605064824,
          34916.049376636736,
          5016.043434211142,
          32918.85864471861,
          32816.0397060437,
          37533.32452101107,
          23934.986826170363,
          31180.05444956242,
          14021.406822428438,
          4452.646802823927,
          16890.22620115447,
          25541.523667537866,
          37570.870664513444,
          23851.138990137973,
          3964.6562115064303,
          9585.011457742818,
          36163.926371014735,
          25609.541572441878,
          39682.981071685295,
          23298.849059166565,
          24407.54524094629,
          27439.167642007527,
          10642.238135657251,
          41940.45684412168,
          40402.681942884774,
          2801.856784790987,
          36674.68425941706,
          2107.6770005396143,
          36072.582664297224,
          34873.32987536839,
          19304.866817930273,
          43947.68633990565,
          12915.849700242276,
          2355.2133594716543,
          3624.302326076919,
          28005.364132889732,
          10490.379296936093,
          3463.1311231137847,
          34952.35507762456,
          13841.905721134584,
          10883.736202378986,
          12202.43381269343,
          38072.06128115646,
          20137.70310660857,
          32173.48538370578,
          37676.35012742096,
          3769.2407218112025,
          15284.238081920552,
          36867.98900205792,
          34854.223353761394,
          22492.63079021557,
          13737.448532533277,
          48392.11997708319,
          10839.848078806326,
          49133.8163191667,
          21094.341624982455,
          19008.443598390953,
          2168.944490886173,
          36249.46074323982,
          34340.041091609375,
          27557.469970975955,
          13985.126533063141,
          10872.512920565285,
          26058.640133613513,
          27847.417082170865,
          14223.996910235946,
          36763.78249133997,
          12303.270219079188,
          36037.25618792557,
          32174.167127303488,
          15541.337819365315,
          1989.1881404013373,
          34814.599039606954,
          5736.204302177511,
          33348.10947396298,
          8659.642059102227,
          20902.670431699968,
          9983.176935279922,
          35424.48293966444,
          34069.76418910415,
          6505.879063113696,
          25958.080249717837,
          34697.40088964757,
          34530.71713202456,
          22726.503355410576,
          6804.490637638732,
          33865.941905046384,
          12631.130599410175,
          34684.689370481065,
          18708.510550476927,
          7392.177348831681,
          24203.45590878028,
          16434.04602349217,
          5535.756405908975,
          41047.53041026793,
          3908.087252957627,
          14417.057568655395,
          1141.9442447079628,
          8073.299401431667,
          3649.824646974434,
          32311.482284911857,
          37875.1141664374,
          12275.289370406483,
          35435.97607271732,
          4570.391317076152,
          14140.37546623483,
          35708.152221325035,
          20781.13111664331,
          18857.172522900637,
          34570.13214402226,
          35304.8017753914,
          18608.6749641355,
          28666.442109344058,
          35801.97961484105,
          43858.04737651736,
          23314.74599214625,
          43312.03342467812,
          10859.936651605278,
          8733.211053942927,
          3858.8158053542425,
          10919.888375173377,
          5080.531646550315,
          44364.851173468596,
          7800.658094495873,
          34114.7367918103,
          22775.8981644671,
          32012.718212415497,
          34946.554605762474,
          14135.647662037367,
          33499.20630881206,
          27202.424989022777,
          8583.403998149246,
          18770.219723711256,
          36509.18288966345,
          30541.532080226643,
          32430.548579673894,
          30344.283619424255,
          33498.23251167875,
          37174.87630448993,
          35406.8934461412,
          14199.934296445359,
          6017.402750647483,
          27088.0120702013,
          30845.441741778206,
          48601.53482747386,
          29065.41566891183,
          14245.779575598843,
          5720.966391592666,
          11782.573610607136,
          43411.29162741353,
          32736.81195174979,
          21170.720684718024,
          42609.1064270755,
          31010.151161491274,
          6059.023074327857,
          17040.30801749293,
          20065.816491730326,
          34948.73211284954,
          6765.09596494497,
          38559.91436423244,
          28701.70455661666,
          33885.90329172748,
          29870.1653581174,
          10419.990268894502,
          9749.616734021485,
          5858.262266419319,
          34455.82418726158,
          34969.421953184625,
          23308.346148491444,
          16067.17061218906,
          27185.750167289265,
          18169.46128905615,
          8532.693005997022,
          21836.965043856286,
          33189.25951776553,
          17820.901612153244,
          40769.903676628346,
          17824.555160645352,
          2108.9808084761225,
          28183.074460906366,
          34306.90281100447,
          24271.4990769779,
          19475.584992072614,
          37786.564172647915,
          27891.992532395456,
          37973.7553429629,
          36044.181605665224,
          15384.719241604029,
          43883.224118349055,
          3359.1116089829525,
          31469.205954222336,
          26337.916128730063,
          18876.826386627163,
          1853.9672559777814,
          19646.50179569238,
          13857.490896695414,
          35099.20535324196,
          34743.99223847724,
          28438.367728590463,
          16544.348016950655,
          17071.183646219593,
          26077.586039786525,
          6588.213373950075,
          36699.33038929159,
          33730.080288231504,
          17027.20366026672,
          44726.59889223796,
          34131.27350694677,
          31710.86612899732,
          36288.65506060084,
          19607.857579699663,
          9198.047505869708,
          23313.57153526422,
          32457.222022069927,
          9738.388531425888,
          35338.66313613729,
          16923.16329622149,
          11265.956232120952,
          22542.551451933254,
          6522.784828487511,
          19201.26212875999,
          22831.968210455612,
          39580.21926792346,
          28417.663873759753,
          25514.48821575554,
          3252.1011669839977,
          4437.54738379682,
          39097.955954953504,
          19808.874651683735,
          5700.446193034478,
          32762.107231100716,
          31161.600344029914,
          13480.419395942023,
          20159.98807832603,
          19682.60205107862,
          10738.594337467399,
          47077.09304454394,
          31150.306262897346,
          34784.550168763075,
          2367.1117089226796,
          11660.296949395486,
          13661.55232105812,
          28031.027783193447,
          16228.745564509072,
          33475.91973202601,
          31590.825314370843,
          37665.59036370111,
          29623.94407448981,
          23675.227413110097,
          17110.79913410906,
          33348.30309447787,
          35755.15929164076,
          26337.125114558163,
          15711.667366817923,
          31785.47338871046,
          36935.68613278604,
          8806.600756658385,
          42690.69878600726,
          31481.62935898817,
          27137.558933514116,
          37263.56581474333,
          10222.164393967987,
          43012.99715508615,
          26518.70843816694,
          34543.55939083939,
          14699.015712983677,
          2625.691599806574,
          36643.98378758182,
          33156.0586973787,
          2804.96118907348,
          31140.05231229823,
          4732.054119233453,
          33225.1078334322,
          27069.598980554707,
          29256.570597123697,
          41768.44987520636,
          34261.653962625904,
          42467.46335321003,
          3653.8592159469495,
          20235.382522964457,
          10571.164059752906,
          6190.334254912501,
          27390.480683875652,
          15644.397777060824,
          2012.2789869231392,
          39508.38997396656,
          36161.96105074995,
          28174.864162224927,
          15634.044301897711,
          16406.055835597585,
          21589.330614671257,
          21921.62335598023,
          11334.659220677484,
          36050.1612339817,
          16664.81422414278,
          6492.942627337885,
          25485.81988276501,
          29869.08009594655,
          28237.078236690875,
          25750.666055819904,
          8878.0352788573,
          20085.589528820157,
          40916.598869231726,
          34983.46874046771,
          31505.758555535962,
          38923.11055179582,
          29258.111130299105,
          29906.5740680412,
          16263.093427205664,
          8265.238315465387,
          4076.698271685648,
          21279.349642120324,
          20384.092831139864,
          36675.651643001525,
          36498.473137592606,
          31788.949985069532,
          23477.916183677204,
          13969.165734707325,
          35950.797742805655,
          15737.7867136964,
          37757.524820706945,
          35126.293563597865,
          32832.20996712864,
          23207.948680650927,
          12432.826776863742,
          24536.783161414645,
          39046.91242138768,
          21843.57793601328,
          26701.518457279784,
          38167.231565073904,
          8985.164561956517,
          22068.173445389843,
          8839.906060534817,
          30735.28673786551,
          35872.78376262744,
          5489.7509074323,
          7839.086425671142,
          12052.117225417414,
          24921.738131692706,
          16965.36002258937,
          15295.055858942787,
          26991.208927320098,
          14497.1975922123,
          11130.54115419295,
          8991.91649963574,
          22333.1021151396,
          21181.78031987605,
          16560.707628095493,
          25939.558270454272,
          14211.682474120687,
          10690.00804533416,
          9233.723342590978,
          34208.08338325166,
          36612.42523493237,
          48719.716720697485,
          24817.732869147934,
          18651.601175219035,
          16969.557459742544,
          26991.21783198804,
          18496.56004162978,
          3829.3289680503804,
          12573.897261151591,
          25164.77974560255,
          34468.29402645843,
          45211.22111106347,
          8947.436627255436,
          17873.058502533942,
          39007.73227623534,
          20609.99682556645,
          2921.4602923945827,
          47671.120074833074,
          39484.7497755596,
          23653.76419817843,
          34405.74840129206,
          3723.7152871935664,
          20167.171588928766,
          3105.232875404588,
          25691.16130758067,
          37479.34128391302,
          19296.421102188095,
          40961.6336497084,
          34634.46854590658,
          6982.147774106177,
          42236.121414283996,
          8993.970401350207,
          37329.72426900985,
          33217.48547423639,
          10871.236518684855,
          36244.92222624285,
          17399.705749551234,
          14199.104773630354,
          31972.6205909946,
          36533.9414828763,
          25305.410028481914,
          12962.442635328507,
          46847.302902832496,
          3573.0791902429078,
          20157.918307605916,
          30569.82743411922,
          22818.342205363668,
          43751.266264636986,
          3283.4826726581405,
          6051.731561833493,
          7167.648093870068,
          23629.146945923534,
          26498.05517083747,
          15592.169483502084,
          18655.56367897187,
          17764.54966250985,
          33698.57288459178,
          26645.130214240562,
          5357.67109137293,
          10115.859787134796,
          14100.111495269408,
          6825.569795623946,
          12626.242710206978,
          8285.298875835671,
          22087.21678187941,
          27967.638669048156,
          38833.13143819921,
          30445.43636945984,
          16971.325952196865,
          8655.645489952389,
          11979.584821799104,
          8839.166307488214,
          33267.414903375735,
          2681.0622719284424,
          10006.20219498728,
          18136.789169183412,
          25745.973149509984,
          25870.897446479008,
          38838.94039267562,
          29584.26642175645,
          43231.9743583724,
          32890.14182293386,
          35914.57704895953,
          29012.7216476193,
          21856.855140167438,
          9896.50155134049,
          8729.08260521731,
          16130.31727423942,
          34635.602553348304,
          5533.802826742054,
          4808.443976308494,
          15778.775052626079,
          7932.911447907105,
          10240.584390845013,
          34970.84668405561,
          24765.672609252255,
          2314.120079766015,
          3650.403981353954,
          31568.43450890521,
          5186.371680757353,
          7970.505191236799,
          7426.53001050948,
          11686.602916643966,
          33687.218022387606,
          11562.835618196084,
          31651.39380356812,
          18408.488845498887,
          23064.730211822294,
          4890.817174996403,
          46260.862382654115,
          36545.34555343798,
          40119.97628100283,
          37453.80193731985,
          34864.87767317025,
          34078.45784156343,
          31042.536523059578,
          2760.022911288937,
          49314.85510098736,
          13991.629112253655,
          29133.230085894604,
          41450.894566214614,
          22383.283101711717,
          8812.23817275194,
          37375.947262695496,
          4236.731897775959,
          21822.850019578083,
          45074.83370356519,
          24465.287473493463,
          34064.72922112027,
          41414.04885959785,
          9326.693904512798,
          33642.143175592275,
          26361.887230120316,
          27649.840681689217,
          17538.044836769117,
          37371.42407826562,
          34766.85076872776,
          11760.19087641615,
          34095.307948636095,
          37098.21292648666,
          38785.503655751265,
          6115.891010722709,
          31387.68138506126,
          20095.642321173153,
          8746.710146810316,
          24811.58574189635,
          35224.76400318626,
          45848.337251569494,
          16463.622937709122,
          10267.523928420796,
          11322.115781386992,
          43402.21426199203,
          5833.433404904026,
          40307.73818821075,
          26704.855150864303,
          26447.668098136855,
          7895.389484801951,
          20097.012286372836,
          39099.26459960466,
          33889.29551824585,
          38414.988021890065,
          23800.301085983378,
          9797.142898499149,
          7849.38846203289,
          8077.072917057129,
          35869.01418810253,
          32539.71788895191,
          38496.186889291515,
          38549.45125515515,
          30156.804887818234,
          16364.118872425526,
          11228.132960392408,
          2316.896194234193,
          19008.625404031543,
          21662.943518307973,
          23398.23420657762,
          3018.0441040251385,
          18164.187437107197,
          27988.42968742155,
          9221.258060701568,
          19018.61632793342,
          49040.13146615119,
          34803.34385856417,
          9336.197154855261,
          23136.88190342273,
          15490.543402783647,
          11610.641477723379,
          29964.23150540656,
          11582.781382492605,
          33913.80369630193,
          25588.759597918455,
          22565.70686089354,
          35479.14737797375,
          28055.417154790717,
          14077.62017476583,
          16831.792321165936,
          15949.783309588827,
          40407.745811984925,
          26060.190626106472,
          6110.279622122255,
          26250.66667476558,
          32773.41556148544,
          31636.551475160497,
          7005.655198600867,
          37117.743118602746,
          12433.091515466003,
          28130.860099015186,
          28977.65599900724,
          34674.841495962086,
          40072.89820835803,
          27293.434392076982,
          37048.219038297146,
          24823.91845180331,
          16102.012252538789,
          26643.77507155517,
          29445.06672020336,
          35548.51242384093,
          8744.82139490126,
          45478.513084831735,
          32718.419330843335,
          8008.73075876942,
          27451.721229320294,
          27471.297685256173,
          33710.49619625103,
          43448.30276122024,
          41981.26499851814,
          8907.995058137089,
          29256.22677024197,
          36196.308976150394,
          4689.1374800034755,
          28419.887549387695,
          3075.490955599098,
          20384.46930105196,
          12127.099057657604,
          4493.38993600276,
          42199.19832809856,
          35839.72669130429,
          34853.52975807647,
          2807.8890106563745,
          35733.711863211545,
          13087.84874083063,
          30181.559114638614,
          36649.38070094698,
          28836.204205198632,
          25645.877833788978,
          10852.000793364008,
          16721.43455513926,
          35404.54044100995,
          13634.982793136298,
          37469.178420749515,
          6013.2712626412185,
          18629.23533742616,
          30613.43920809015,
          32630.898224587563,
          23218.940225257065,
          30714.736526535802,
          30975.61595483446,
          31000.212703936708,
          18472.650020974164,
          36563.0818381427,
          34387.387591911516,
          20418.02176952227,
          11720.269316465055,
          32130.15525148976,
          20993.860009001422,
          27037.93686572649,
          6216.315247602382,
          35082.0739564863,
          24812.53465308578,
          22654.9228150873,
          30693.59834830928,
          35186.11388587158,
          4631.0850487243515,
          24942.526959844658,
          9043.045567457924,
          35987.40174948631,
          12781.917021040768,
          33080.59205377138,
          33224.28502837817,
          32535.842169011205,
          11180.878798237785,
          19664.430696962878,
          40346.061008754215,
          4882.210586496503,
          3528.179016103151,
          11682.981292060846,
          33814.575149630065,
          48028.8548496252,
          37353.34034234231,
          23339.869115137462,
          6267.975895002336,
          21799.43584479588,
          31059.12911376392,
          36238.882768279036,
          34444.451590284676,
          11809.335807335898,
          23599.971491609835,
          26516.457110356674,
          21036.784573303346,
          36483.0400030887,
          36836.736816775854,
          26038.733602910594,
          6851.3424510185,
          15985.577172378024,
          29751.34416448695,
          40953.69811476861,
          6592.2287136770865,
          31277.223166142823,
          24049.0266047305,
          24104.536576533552,
          33833.450576518735,
          27517.224449490874,
          29644.030511762576,
          36150.50394650382,
          29409.89206048962,
          38251.94197439516,
          36377.44618968844,
          19225.449547438162,
          20031.564592727787,
          25159.672193856462,
          22860.784925381442,
          30903.802317831414,
          10611.309146904801,
          33384.515813780985,
          31039.617394403107,
          35343.626288672174,
          11050.188258245595,
          7788.5439447751505,
          25811.206119760507,
          13635.808845786447,
          35731.67539075447,
          35427.15299773669,
          28130.16990222264,
          4190.580859542912,
          35090.03909617601,
          39470.594357694805,
          40041.492438133915,
          11358.547422120806,
          12567.362385420756,
          30548.273938928905,
          28793.239505911282,
          19223.627961821392,
          30361.52690487431,
          37947.6829071826,
          38497.02275549385,
          9186.745488949367,
          20261.029687986058,
          36895.46614114228,
          32376.193661446767,
          18790.520516100823,
          2573.731610829412,
          4699.76683364469,
          19597.902861032286,
          49335.57616331317,
          19383.9313640805,
          17939.71640277379,
          31833.75801889755,
          22524.155764073716,
          12670.043954754467,
          16513.332980992014,
          7485.7825701277125,
          16025.526918334579,
          3413.906032557192,
          37655.49915993259,
          4169.059659889144,
          10403.919440220827,
          38069.11865802819,
          14943.294796418788,
          9455.913762237138,
          15300.81063408465,
          34071.51624203716,
          10608.751702008796,
          9348.630121954026,
          5727.864220917348,
          27279.992615768337,
          34490.61435484342,
          16457.569160665727,
          9848.356268357313,
          37679.256243046926,
          14279.112858445145,
          24649.75129711444,
          9279.780075048664,
          23175.124018605296,
          25065.16432681953,
          34557.61358512296,
          18399.85915387535,
          6924.0205320127525,
          32853.32559115535,
          18525.273875769468,
          37286.72529569334,
          29437.668452053633,
          37069.63195078578
         ],
         "yaxis": "y"
        }
       ],
       "layout": {
        "coloraxis": {
         "colorbar": {
          "title": {
           "text": "max_length"
          }
         },
         "colorscale": [
          [
           0,
           "#0d0887"
          ],
          [
           0.1111111111111111,
           "#46039f"
          ],
          [
           0.2222222222222222,
           "#7201a8"
          ],
          [
           0.3333333333333333,
           "#9c179e"
          ],
          [
           0.4444444444444444,
           "#bd3786"
          ],
          [
           0.5555555555555556,
           "#d8576b"
          ],
          [
           0.6666666666666666,
           "#ed7953"
          ],
          [
           0.7777777777777778,
           "#fb9f3a"
          ],
          [
           0.8888888888888888,
           "#fdca26"
          ],
          [
           1,
           "#f0f921"
          ]
         ]
        },
        "height": 400,
        "legend": {
         "tracegroupgap": 0
        },
        "template": {
         "data": {
          "bar": [
           {
            "error_x": {
             "color": "#2a3f5f"
            },
            "error_y": {
             "color": "#2a3f5f"
            },
            "marker": {
             "line": {
              "color": "#E5ECF6",
              "width": 0.5
             },
             "pattern": {
              "fillmode": "overlay",
              "size": 10,
              "solidity": 0.2
             }
            },
            "type": "bar"
           }
          ],
          "barpolar": [
           {
            "marker": {
             "line": {
              "color": "#E5ECF6",
              "width": 0.5
             },
             "pattern": {
              "fillmode": "overlay",
              "size": 10,
              "solidity": 0.2
             }
            },
            "type": "barpolar"
           }
          ],
          "carpet": [
           {
            "aaxis": {
             "endlinecolor": "#2a3f5f",
             "gridcolor": "white",
             "linecolor": "white",
             "minorgridcolor": "white",
             "startlinecolor": "#2a3f5f"
            },
            "baxis": {
             "endlinecolor": "#2a3f5f",
             "gridcolor": "white",
             "linecolor": "white",
             "minorgridcolor": "white",
             "startlinecolor": "#2a3f5f"
            },
            "type": "carpet"
           }
          ],
          "choropleth": [
           {
            "colorbar": {
             "outlinewidth": 0,
             "ticks": ""
            },
            "type": "choropleth"
           }
          ],
          "contour": [
           {
            "colorbar": {
             "outlinewidth": 0,
             "ticks": ""
            },
            "colorscale": [
             [
              0,
              "#0d0887"
             ],
             [
              0.1111111111111111,
              "#46039f"
             ],
             [
              0.2222222222222222,
              "#7201a8"
             ],
             [
              0.3333333333333333,
              "#9c179e"
             ],
             [
              0.4444444444444444,
              "#bd3786"
             ],
             [
              0.5555555555555556,
              "#d8576b"
             ],
             [
              0.6666666666666666,
              "#ed7953"
             ],
             [
              0.7777777777777778,
              "#fb9f3a"
             ],
             [
              0.8888888888888888,
              "#fdca26"
             ],
             [
              1,
              "#f0f921"
             ]
            ],
            "type": "contour"
           }
          ],
          "contourcarpet": [
           {
            "colorbar": {
             "outlinewidth": 0,
             "ticks": ""
            },
            "type": "contourcarpet"
           }
          ],
          "heatmap": [
           {
            "colorbar": {
             "outlinewidth": 0,
             "ticks": ""
            },
            "colorscale": [
             [
              0,
              "#0d0887"
             ],
             [
              0.1111111111111111,
              "#46039f"
             ],
             [
              0.2222222222222222,
              "#7201a8"
             ],
             [
              0.3333333333333333,
              "#9c179e"
             ],
             [
              0.4444444444444444,
              "#bd3786"
             ],
             [
              0.5555555555555556,
              "#d8576b"
             ],
             [
              0.6666666666666666,
              "#ed7953"
             ],
             [
              0.7777777777777778,
              "#fb9f3a"
             ],
             [
              0.8888888888888888,
              "#fdca26"
             ],
             [
              1,
              "#f0f921"
             ]
            ],
            "type": "heatmap"
           }
          ],
          "heatmapgl": [
           {
            "colorbar": {
             "outlinewidth": 0,
             "ticks": ""
            },
            "colorscale": [
             [
              0,
              "#0d0887"
             ],
             [
              0.1111111111111111,
              "#46039f"
             ],
             [
              0.2222222222222222,
              "#7201a8"
             ],
             [
              0.3333333333333333,
              "#9c179e"
             ],
             [
              0.4444444444444444,
              "#bd3786"
             ],
             [
              0.5555555555555556,
              "#d8576b"
             ],
             [
              0.6666666666666666,
              "#ed7953"
             ],
             [
              0.7777777777777778,
              "#fb9f3a"
             ],
             [
              0.8888888888888888,
              "#fdca26"
             ],
             [
              1,
              "#f0f921"
             ]
            ],
            "type": "heatmapgl"
           }
          ],
          "histogram": [
           {
            "marker": {
             "pattern": {
              "fillmode": "overlay",
              "size": 10,
              "solidity": 0.2
             }
            },
            "type": "histogram"
           }
          ],
          "histogram2d": [
           {
            "colorbar": {
             "outlinewidth": 0,
             "ticks": ""
            },
            "colorscale": [
             [
              0,
              "#0d0887"
             ],
             [
              0.1111111111111111,
              "#46039f"
             ],
             [
              0.2222222222222222,
              "#7201a8"
             ],
             [
              0.3333333333333333,
              "#9c179e"
             ],
             [
              0.4444444444444444,
              "#bd3786"
             ],
             [
              0.5555555555555556,
              "#d8576b"
             ],
             [
              0.6666666666666666,
              "#ed7953"
             ],
             [
              0.7777777777777778,
              "#fb9f3a"
             ],
             [
              0.8888888888888888,
              "#fdca26"
             ],
             [
              1,
              "#f0f921"
             ]
            ],
            "type": "histogram2d"
           }
          ],
          "histogram2dcontour": [
           {
            "colorbar": {
             "outlinewidth": 0,
             "ticks": ""
            },
            "colorscale": [
             [
              0,
              "#0d0887"
             ],
             [
              0.1111111111111111,
              "#46039f"
             ],
             [
              0.2222222222222222,
              "#7201a8"
             ],
             [
              0.3333333333333333,
              "#9c179e"
             ],
             [
              0.4444444444444444,
              "#bd3786"
             ],
             [
              0.5555555555555556,
              "#d8576b"
             ],
             [
              0.6666666666666666,
              "#ed7953"
             ],
             [
              0.7777777777777778,
              "#fb9f3a"
             ],
             [
              0.8888888888888888,
              "#fdca26"
             ],
             [
              1,
              "#f0f921"
             ]
            ],
            "type": "histogram2dcontour"
           }
          ],
          "mesh3d": [
           {
            "colorbar": {
             "outlinewidth": 0,
             "ticks": ""
            },
            "type": "mesh3d"
           }
          ],
          "parcoords": [
           {
            "line": {
             "colorbar": {
              "outlinewidth": 0,
              "ticks": ""
             }
            },
            "type": "parcoords"
           }
          ],
          "pie": [
           {
            "automargin": true,
            "type": "pie"
           }
          ],
          "scatter": [
           {
            "fillpattern": {
             "fillmode": "overlay",
             "size": 10,
             "solidity": 0.2
            },
            "type": "scatter"
           }
          ],
          "scatter3d": [
           {
            "line": {
             "colorbar": {
              "outlinewidth": 0,
              "ticks": ""
             }
            },
            "marker": {
             "colorbar": {
              "outlinewidth": 0,
              "ticks": ""
             }
            },
            "type": "scatter3d"
           }
          ],
          "scattercarpet": [
           {
            "marker": {
             "colorbar": {
              "outlinewidth": 0,
              "ticks": ""
             }
            },
            "type": "scattercarpet"
           }
          ],
          "scattergeo": [
           {
            "marker": {
             "colorbar": {
              "outlinewidth": 0,
              "ticks": ""
             }
            },
            "type": "scattergeo"
           }
          ],
          "scattergl": [
           {
            "marker": {
             "colorbar": {
              "outlinewidth": 0,
              "ticks": ""
             }
            },
            "type": "scattergl"
           }
          ],
          "scattermapbox": [
           {
            "marker": {
             "colorbar": {
              "outlinewidth": 0,
              "ticks": ""
             }
            },
            "type": "scattermapbox"
           }
          ],
          "scatterpolar": [
           {
            "marker": {
             "colorbar": {
              "outlinewidth": 0,
              "ticks": ""
             }
            },
            "type": "scatterpolar"
           }
          ],
          "scatterpolargl": [
           {
            "marker": {
             "colorbar": {
              "outlinewidth": 0,
              "ticks": ""
             }
            },
            "type": "scatterpolargl"
           }
          ],
          "scatterternary": [
           {
            "marker": {
             "colorbar": {
              "outlinewidth": 0,
              "ticks": ""
             }
            },
            "type": "scatterternary"
           }
          ],
          "surface": [
           {
            "colorbar": {
             "outlinewidth": 0,
             "ticks": ""
            },
            "colorscale": [
             [
              0,
              "#0d0887"
             ],
             [
              0.1111111111111111,
              "#46039f"
             ],
             [
              0.2222222222222222,
              "#7201a8"
             ],
             [
              0.3333333333333333,
              "#9c179e"
             ],
             [
              0.4444444444444444,
              "#bd3786"
             ],
             [
              0.5555555555555556,
              "#d8576b"
             ],
             [
              0.6666666666666666,
              "#ed7953"
             ],
             [
              0.7777777777777778,
              "#fb9f3a"
             ],
             [
              0.8888888888888888,
              "#fdca26"
             ],
             [
              1,
              "#f0f921"
             ]
            ],
            "type": "surface"
           }
          ],
          "table": [
           {
            "cells": {
             "fill": {
              "color": "#EBF0F8"
             },
             "line": {
              "color": "white"
             }
            },
            "header": {
             "fill": {
              "color": "#C8D4E3"
             },
             "line": {
              "color": "white"
             }
            },
            "type": "table"
           }
          ]
         },
         "layout": {
          "annotationdefaults": {
           "arrowcolor": "#2a3f5f",
           "arrowhead": 0,
           "arrowwidth": 1
          },
          "autotypenumbers": "strict",
          "coloraxis": {
           "colorbar": {
            "outlinewidth": 0,
            "ticks": ""
           }
          },
          "colorscale": {
           "diverging": [
            [
             0,
             "#8e0152"
            ],
            [
             0.1,
             "#c51b7d"
            ],
            [
             0.2,
             "#de77ae"
            ],
            [
             0.3,
             "#f1b6da"
            ],
            [
             0.4,
             "#fde0ef"
            ],
            [
             0.5,
             "#f7f7f7"
            ],
            [
             0.6,
             "#e6f5d0"
            ],
            [
             0.7,
             "#b8e186"
            ],
            [
             0.8,
             "#7fbc41"
            ],
            [
             0.9,
             "#4d9221"
            ],
            [
             1,
             "#276419"
            ]
           ],
           "sequential": [
            [
             0,
             "#0d0887"
            ],
            [
             0.1111111111111111,
             "#46039f"
            ],
            [
             0.2222222222222222,
             "#7201a8"
            ],
            [
             0.3333333333333333,
             "#9c179e"
            ],
            [
             0.4444444444444444,
             "#bd3786"
            ],
            [
             0.5555555555555556,
             "#d8576b"
            ],
            [
             0.6666666666666666,
             "#ed7953"
            ],
            [
             0.7777777777777778,
             "#fb9f3a"
            ],
            [
             0.8888888888888888,
             "#fdca26"
            ],
            [
             1,
             "#f0f921"
            ]
           ],
           "sequentialminus": [
            [
             0,
             "#0d0887"
            ],
            [
             0.1111111111111111,
             "#46039f"
            ],
            [
             0.2222222222222222,
             "#7201a8"
            ],
            [
             0.3333333333333333,
             "#9c179e"
            ],
            [
             0.4444444444444444,
             "#bd3786"
            ],
            [
             0.5555555555555556,
             "#d8576b"
            ],
            [
             0.6666666666666666,
             "#ed7953"
            ],
            [
             0.7777777777777778,
             "#fb9f3a"
            ],
            [
             0.8888888888888888,
             "#fdca26"
            ],
            [
             1,
             "#f0f921"
            ]
           ]
          },
          "colorway": [
           "#636efa",
           "#EF553B",
           "#00cc96",
           "#ab63fa",
           "#FFA15A",
           "#19d3f3",
           "#FF6692",
           "#B6E880",
           "#FF97FF",
           "#FECB52"
          ],
          "font": {
           "color": "#2a3f5f"
          },
          "geo": {
           "bgcolor": "white",
           "lakecolor": "white",
           "landcolor": "#E5ECF6",
           "showlakes": true,
           "showland": true,
           "subunitcolor": "white"
          },
          "hoverlabel": {
           "align": "left"
          },
          "hovermode": "closest",
          "mapbox": {
           "style": "light"
          },
          "paper_bgcolor": "white",
          "plot_bgcolor": "#E5ECF6",
          "polar": {
           "angularaxis": {
            "gridcolor": "white",
            "linecolor": "white",
            "ticks": ""
           },
           "bgcolor": "#E5ECF6",
           "radialaxis": {
            "gridcolor": "white",
            "linecolor": "white",
            "ticks": ""
           }
          },
          "scene": {
           "xaxis": {
            "backgroundcolor": "#E5ECF6",
            "gridcolor": "white",
            "gridwidth": 2,
            "linecolor": "white",
            "showbackground": true,
            "ticks": "",
            "zerolinecolor": "white"
           },
           "yaxis": {
            "backgroundcolor": "#E5ECF6",
            "gridcolor": "white",
            "gridwidth": 2,
            "linecolor": "white",
            "showbackground": true,
            "ticks": "",
            "zerolinecolor": "white"
           },
           "zaxis": {
            "backgroundcolor": "#E5ECF6",
            "gridcolor": "white",
            "gridwidth": 2,
            "linecolor": "white",
            "showbackground": true,
            "ticks": "",
            "zerolinecolor": "white"
           }
          },
          "shapedefaults": {
           "line": {
            "color": "#2a3f5f"
           }
          },
          "ternary": {
           "aaxis": {
            "gridcolor": "white",
            "linecolor": "white",
            "ticks": ""
           },
           "baxis": {
            "gridcolor": "white",
            "linecolor": "white",
            "ticks": ""
           },
           "bgcolor": "#E5ECF6",
           "caxis": {
            "gridcolor": "white",
            "linecolor": "white",
            "ticks": ""
           }
          },
          "title": {
           "x": 0.05
          },
          "xaxis": {
           "automargin": true,
           "gridcolor": "white",
           "linecolor": "white",
           "ticks": "",
           "title": {
            "standoff": 15
           },
           "zerolinecolor": "white",
           "zerolinewidth": 2
          },
          "yaxis": {
           "automargin": true,
           "gridcolor": "white",
           "linecolor": "white",
           "ticks": "",
           "title": {
            "standoff": 15
           },
           "zerolinecolor": "white",
           "zerolinewidth": 2
          }
         }
        },
        "title": {
         "text": "Initial Force Optimizations Pareto Front"
        },
        "width": 600,
        "xaxis": {
         "anchor": "y",
         "domain": [
          0,
          1
         ],
         "title": {
          "text": "normalized_BdotN"
         },
         "type": "log"
        },
        "yaxis": {
         "anchor": "x",
         "domain": [
          0,
          1
         ],
         "title": {
          "text": "max_max_force"
         }
        }
       }
      }
     },
     "metadata": {},
     "output_type": "display_data"
    }
   ],
   "source": [
    "import plotly.express as px\n",
    "for color in ['max_length']:\n",
    "    fig = px.scatter(\n",
    "        df_pareto, \n",
    "        x=\"normalized_BdotN\", \n",
    "        y=\"max_max_force\", \n",
    "        color=color,\n",
    "        log_x=True,\n",
    "        width=600, \n",
    "        height=400,\n",
    "        title=\"Initial Force Optimizations Pareto Front\",\n",
    "        hover_data={\n",
    "            'UUID':True,\n",
    "            'max_max_force':':.2e',\n",
    "            'coil_surface_distance':':.2e'\n",
    "            }\n",
    "        )\n",
    "\n",
    "    fig.update_layout(\n",
    "        margin=dict(l=20, r=20, t=40, b=20),\n",
    "        plot_bgcolor='white'\n",
    "    )\n",
    "\n",
    "    fig.update_xaxes(\n",
    "        mirror=True,\n",
    "        ticks='outside',\n",
    "        showline=True,\n",
    "        linecolor='black',\n",
    "        tickformat='.1e',\n",
    "        dtick=0.25\n",
    "    )\n",
    "    fig.update_yaxes(\n",
    "        mirror=True,\n",
    "        ticks='outside',\n",
    "        showline=True,\n",
    "        linecolor='black',\n",
    "        tickformat = \"000\"\n",
    "    )\n",
    "\n",
    "\n",
    "    fig.show()\n",
    "\n",
    "fig = px.scatter(\n",
    "        df, \n",
    "        x=\"normalized_BdotN\", \n",
    "        y=\"max_max_force\", \n",
    "        color=color,\n",
    "        log_x=True,\n",
    "        width=600, \n",
    "        height=400,\n",
    "        title=\"Initial Force Optimizations\",\n",
    "        hover_data={\n",
    "            'UUID':True,\n",
    "            'max_max_force':':.2e',\n",
    "            'coil_surface_distance':':.2e'\n",
    "            }\n",
    "        )\n",
    "fig.show()"
   ]
  },
  {
   "cell_type": "markdown",
   "metadata": {},
   "source": [
    "## Parameter Success\n",
    "Now, let's analyze the success of various parameters."
   ]
  },
  {
   "cell_type": "code",
   "execution_count": 24,
   "metadata": {},
   "outputs": [
    {
     "data": {
      "image/png": "[encoded data removed]",
      "text/plain": [
       "<Figure size 1450x800 with 20 Axes>"
      ]
     },
     "metadata": {},
     "output_type": "display_data"
    },
    {
     "data": {
      "image/png": "[encoded data removed]",
      "text/plain": [
       "<Figure size 1450x800 with 2 Axes>"
      ]
     },
     "metadata": {},
     "output_type": "display_data"
    }
   ],
   "source": [
    "plt.figure(1, figsize=(14.5, 8))\n",
    "nrows = 4\n",
    "ncols = 5\n",
    "\n",
    "subplot_index = 1\n",
    "def plot_2d_hist(field, log=False):\n",
    "    global subplot_index\n",
    "    plt.subplot(nrows, ncols, subplot_index)\n",
    "    subplot_index += 1\n",
    "    nbins = 20\n",
    "    if log:\n",
    "        data = df[field]\n",
    "        bins = np.logspace(np.log10(data.min()), np.log10(data.max()), nbins)\n",
    "    else:\n",
    "        bins = nbins\n",
    "    n,bins,patchs = plt.hist(df[field], bins=bins, label=\"before filtering\")\n",
    "    plt.hist(df_filtered[field], bins=bins, alpha=1, label=\"after filtering\")\n",
    "    plt.xlabel(field)\n",
    "    plt.legend(loc=0, fontsize=6)\n",
    "    if log:\n",
    "        plt.xscale(\"log\")\n",
    "\n",
    "\n",
    "# 2nd entry of each tuple is True if the field should be plotted on a log x-scale.\n",
    "fields = (\n",
    "    (\"R1\", False),\n",
    "    (\"order\", False),\n",
    "    (\"max_max_force\", False),\n",
    "    (\"max_length\", False),\n",
    "    (\"max_max_κ\", False),\n",
    "    (\"max_MSC\", False),\n",
    "    (\"coil_coil_distance\", False),\n",
    "    (\"coil_surface_distance\", False),\n",
    "    (\"length_target\", False),\n",
    "    (\"force_threshold\", False),\n",
    "    (\"max_κ_threshold\", False),\n",
    "    (\"msc_threshold\", False),\n",
    "    (\"cc_threshold\", False),\n",
    "    (\"cs_threshold\", False),\n",
    "    (\"length_weight\", True),\n",
    "    (\"max_κ_weight\", True),\n",
    "    (\"msc_weight\", True),\n",
    "    (\"cc_weight\", True),\n",
    "    (\"cs_weight\", True),\n",
    "    (\"force_weight\", True),\n",
    ")\n",
    "\n",
    "for field, log in fields:\n",
    "    plot_2d_hist(field, log)\n",
    "\n",
    "plt.tight_layout()\n",
    "plt.show()\n",
    "subplot_index = 1\n",
    "\n",
    "plt.figure(figsize=(14.5, 8))\n",
    "# 2nd entry of each tuple is True if the field should be plotted on a log x-scale.\n",
    "fields = (\n",
    "    (\"linking_number\", False),\n",
    "    ('ncoils', False)\n",
    ")\n",
    "\n",
    "for field, log in fields:\n",
    "    plot_2d_hist(field, log)\n",
    "\n",
    "plt.tight_layout()\n",
    "plt.show()"
   ]
  }
 ],
 "metadata": {
  "kernelspec": {
   "display_name": "base",
   "language": "python",
   "name": "python3"
  },
  "language_info": {
   "codemirror_mode": {
    "name": "ipython",
    "version": 3
   },
   "file_extension": ".py",
   "mimetype": "text/x-python",
   "name": "python",
   "nbconvert_exporter": "python",
   "pygments_lexer": "ipython3",
   "version": "3.9.12"
  }
 },
 "nbformat": 4,
 "nbformat_minor": 2
}
