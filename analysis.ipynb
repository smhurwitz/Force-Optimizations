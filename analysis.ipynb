{
 "cells": [
  {
   "cell_type": "markdown",
   "metadata": {},
   "source": [
    "# Force Optimizations Data Analysis "
   ]
  },
  {
   "cell_type": "code",
   "execution_count": 1,
   "metadata": {},
   "outputs": [],
   "source": [
    "from mayavi import mlab\n",
    "from optimization_tools import *\n",
    "from analysis_tools import *\n",
    "import matplotlib\n",
    "import matplotlib.pyplot as plt\n",
    "import os"
   ]
  },
  {
   "cell_type": "markdown",
   "metadata": {},
   "source": [
    "## Ensemble of Optimizations\n",
    "\n",
    "### Initial Optimizations\n",
    "First, we perform our initial optimizations using the random (educated) guesses for the weights on the objective function. As these optimizations demand significant computational resources, the code is commented out for the purpose of this example. "
   ]
  },
  {
   "cell_type": "code",
   "execution_count": null,
   "metadata": {},
   "outputs": [],
   "source": [
    "# initial_optimizations()"
   ]
  },
  {
   "cell_type": "markdown",
   "metadata": {},
   "source": [
    "We next analyze our set of optimizations and parse the data into three DataFrames: `df`, representing the full set of optimizations; `df_filtered`, representing the set of optimizations that passed pre-specified filtering criteria; and `df_pareto1`, representing the set of optimizations on the Pareto front. (This method also exports the Universally Unique Identifiers (unique identifiers for each optimization) of the Pareto front to \n",
    "`pareto.txt`). "
   ]
  },
  {
   "cell_type": "code",
   "execution_count": null,
   "metadata": {},
   "outputs": [],
   "source": [
    "df, df_filtered, df_pareto = get_dfs()"
   ]
  },
  {
   "cell_type": "markdown",
   "metadata": {},
   "source": [
    "Let's take a look at our optimizations!"
   ]
  },
  {
   "cell_type": "code",
   "execution_count": null,
   "metadata": {},
   "outputs": [],
   "source": [
    "fig = plt.figure(figsize=(6.5, 8))\n",
    "plt.rc(\"font\", size=13)\n",
    "markersize = 5\n",
    "n_pareto = df_pareto.shape[0]\n",
    "n_filtered = df_filtered.shape[0] - n_pareto\n",
    "color=\"coil_surface_distance\"\n",
    "color_label=\"coil-surface distance [m]\"\n",
    "norm = plt.Normalize(min(df_filtered[color]), max(df_filtered[color]))\n",
    "plt.scatter(\n",
    "    df_filtered[\"normalized_BdotN\"],\n",
    "    df_filtered[\"max_max_force\"],\n",
    "    c=df_filtered[color],\n",
    "    s=markersize,\n",
    "    label=f'all optimizations, N={n_filtered}',\n",
    "    norm=norm\n",
    ")\n",
    "plt.scatter(\n",
    "    df_pareto[\"normalized_BdotN\"], \n",
    "    df_pareto[\"max_max_force\"], \n",
    "    c=df_pareto[color], \n",
    "    marker=\"+\",\n",
    "    label=f'Pareto front, N={n_pareto}',\n",
    "    norm=norm,\n",
    ")\n",
    "plt.xlabel(r'$\\langle|\\mathbf{B}\\cdot\\mathbf{n}|\\rangle/\\langle B \\rangle$ [unitless]')\n",
    "plt.ylabel(\"max force [N/m]\")\n",
    "plt.xlim(0.7 * min(df_filtered[\"normalized_BdotN\"]), max(df_filtered[\"normalized_BdotN\"]))\n",
    "plt.ylim(8500, 25000)\n",
    "plt.xscale(\"log\")\n",
    "plt.colorbar(label=color_label)\n",
    "plt.legend(loc='upper right', fontsize='11')\n",
    "plt.title('Pareto Front')\n",
    "plt.show()"
   ]
  },
  {
   "cell_type": "markdown",
   "metadata": {},
   "source": [
    "### Continuation Method\n",
    "Now, let us perform the first iteration of our continuation method. Here, we perform the first iteration and allow the maximum variation in any parameter to be a randomly chosen number in the range $10^{-3}$ to $5\\times 10^{-2}$. From this point, it is possible to perform the $i+1$-th iteration of the continuation method by using the $i$-th Pareto fronts as input."
   ]
  },
  {
   "cell_type": "code",
   "execution_count": null,
   "metadata": {},
   "outputs": [],
   "source": [
    "# for i in range(1000): continuation(N=1, dx = 10**rand(-3, -1.3))"
   ]
  },
  {
   "cell_type": "markdown",
   "metadata": {},
   "source": [
    "If desired, we can also export the Pareto fronts unique folders for easy access. This is helpful for high-performance computing calculations, in which one wishes to reduce the number of files stored on the system."
   ]
  },
  {
   "cell_type": "code",
   "execution_count": null,
   "metadata": {},
   "outputs": [],
   "source": [
    "# for folder in os.listdir(\"./output/QA/\"):\n",
    "#     f = os.path.join(\"./output/QA/\", folder)\n",
    "#     if not os.path.isfile(f):\n",
    "#         get_dfs(INPUT_DIR = f\"{f}/optimizations/\", OUTPUT_DIR=f\"{f}/pareto/\")"
   ]
  },
  {
   "cell_type": "markdown",
   "metadata": {},
   "source": [
    "Now, let us see how performing the continuation method impacts our Pareto fronts. "
   ]
  },
  {
   "cell_type": "code",
   "execution_count": null,
   "metadata": {},
   "outputs": [],
   "source": [
    "fig = plt.figure(figsize=(6.5, 8))\n",
    "norm = plt.Normalize(1, np.sum(os.path.isdir(os.path.join(\"./output/QA/\", f)) for f in os.listdir(\"./output/QA/\")))\n",
    "plt.rc(\"font\", size=13)\n",
    "for filename in sorted(os.listdir(\"./output/QA/\")):\n",
    "    f = os.path.join(\"./output/QA/\", filename)\n",
    "    if os.path.isdir(f):\n",
    "        *_, df = get_dfs(INPUT_DIR = f + \"/optimizations/\")\n",
    "        plt.scatter(\n",
    "            df[\"normalized_BdotN\"],\n",
    "            df[\"max_max_force\"],\n",
    "            s=5,\n",
    "            c=int(filename)*np.ones(len(df[\"UUID\"])),\n",
    "            label=f\"Iteration #{filename}\",\n",
    "            norm=norm\n",
    "        )\n",
    "        \n",
    "plt.xlabel(r'$\\langle|\\mathbf{B}\\cdot\\mathbf{n}|\\rangle/\\langle B \\rangle$ [unitless]')\n",
    "plt.ylabel(\"max force [N/m]\")\n",
    "plt.xlim(0.7 * min(df[\"normalized_BdotN\"]), max(df[\"normalized_BdotN\"]))\n",
    "plt.ylim(7000, 18000)\n",
    "plt.xscale(\"log\")\n",
    "plt.legend(loc='upper right', fontsize='11')\n",
    "plt.show()"
   ]
  },
  {
   "cell_type": "markdown",
   "metadata": {},
   "source": [
    "It is also helpful to obtain DataFrames of our final Pareto front."
   ]
  },
  {
   "cell_type": "code",
   "execution_count": 2,
   "metadata": {},
   "outputs": [],
   "source": [
    "df_final, df_filtered_final, df_pareto_final = get_dfs(INPUT_DIR='./output/QA/4/optimizations/')"
   ]
  },
  {
   "cell_type": "markdown",
   "metadata": {},
   "source": [
    "### Plotting the Coils\n",
    "Here, we can plot an example coil in 3D, and also draw various arrows of force."
   ]
  },
  {
   "cell_type": "code",
   "execution_count": null,
   "metadata": {},
   "outputs": [],
   "source": [
    "UUID = np.array(df_pareto_final['UUID'])[5]\n",
    "path = \"./output/QA/4/optimizations/\" + UUID + \"/biot_savart.json\"\n",
    "plot_coils(path, \"./inputs/input.LandremanPaul2021_QA\")\n",
    "mlab.show()\n",
    "for arrow in [\"mutual\", \"self\", \"force\"]:\n",
    "    plot_coils(path, arrow=arrow)\n",
    "    mlab.show()"
   ]
  },
  {
   "cell_type": "markdown",
   "metadata": {},
   "source": [
    "We can also show arrows of different forces in 2D."
   ]
  },
  {
   "cell_type": "code",
   "execution_count": null,
   "metadata": {},
   "outputs": [],
   "source": [
    "UUID = np.array(df_pareto_final['UUID'])[5]\n",
    "path = \"./output/QA/4/optimizations/\" + UUID + \"/biot_savart.json\"\n",
    "for arrow in [\"mutual\", \"self\", \"force\"]:\n",
    "    arr = plot_coils(path, arrow=arrow)\n",
    "    mlab.close()\n",
    "    plt.imshow(arr)\n",
    "    plt.show()"
   ]
  },
  {
   "cell_type": "markdown",
   "metadata": {},
   "source": [
    "Finally, we can animate the coils as we move in parameter space along the Pareto front! For speed, we first save photos of the plots."
   ]
  },
  {
   "cell_type": "code",
   "execution_count": 3,
   "metadata": {},
   "outputs": [
    {
     "name": "stderr",
     "output_type": "stream",
     "text": [
      "WARNING: All log messages before absl::InitializeLog() is called are written to STDERR\n",
      "I0000 00:00:1717767650.580562       1 tfrt_cpu_pjrt_client.cc:349] TfrtCpuClient created.\n"
     ]
    }
   ],
   "source": [
    "for UUID in df_pareto_final['UUID']:\n",
    "    in_path = \"./output/QA/4/optimizations/\" + UUID + \"/biot_savart.json\"\n",
    "    out_path = \"./output/QA/4/optimizations/\" + UUID + \"/coils.jpg\" \n",
    "    plot_coils(in_path)\n",
    "    mlab.savefig(filename=out_path)   \n",
    "    mlab.close()"
   ]
  },
  {
   "cell_type": "markdown",
   "metadata": {},
   "source": [
    "Now, we can actually generate the `.gif`."
   ]
  },
  {
   "cell_type": "code",
   "execution_count": 4,
   "metadata": {},
   "outputs": [
    {
     "name": "stderr",
     "output_type": "stream",
     "text": [
      "/var/folders/_6/q5y1g_5d74j18s1hfz6jhj2h0000gn/T/ipykernel_1086/3552007144.py:7: DeprecationWarning: Starting with ImageIO v3 the behavior of this function will switch to that of iio.v3.imread. To keep the current behavior (and make this warning disappear) use `import imageio.v2 as imageio` or call `imageio.v2.imread` directly.\n",
      "  images.append(imageio.imread(path))\n"
     ]
    }
   ],
   "source": [
    "import imageio\n",
    "\n",
    "sorted_pareto = df_pareto_final.sort_values(by=[\"max_forces\"], ascending=False)\n",
    "images = []\n",
    "for UUID in sorted_pareto['UUID']:\n",
    "    path = \"./output/QA/4/optimizations/\" + UUID + \"/coils.jpg\"    \n",
    "    images.append(imageio.imread(path))\n",
    "imageio.mimsave('./output/QA/4/QA_pareto_coils.gif', images)"
   ]
  },
  {
   "cell_type": "markdown",
   "metadata": {},
   "source": [
    "![MyGif](./output/QA_coils.gif \"segment\")"
   ]
  },
  {
   "cell_type": "markdown",
   "metadata": {},
   "source": [
    "### Correlations"
   ]
  },
  {
   "cell_type": "markdown",
   "metadata": {},
   "source": [
    "An interesting thing to analyze are the Pearson's R correlations between the maximum force on a coil and other optimization parameters. Interestingly, we see that the strongest correlation by far is with the coil-surface distance. "
   ]
  },
  {
   "cell_type": "code",
   "execution_count": null,
   "metadata": {},
   "outputs": [],
   "source": [
    "print(parameter_correlations(df_filtered_final, sort_by=\"max_max_force\").to_markdown())"
   ]
  },
  {
   "cell_type": "markdown",
   "metadata": {},
   "source": [
    "## Magnetic Field Analysis\n",
    "\n",
    "Here, we make Poincare plots of the field."
   ]
  },
  {
   "cell_type": "code",
   "execution_count": null,
   "metadata": {},
   "outputs": [],
   "source": [
    "for UUID in ['49d67fc2af7e418a95abd1b56613bf03', '13b5e759418c4d29b5b826acc90f5cb9']:\n",
    "    image = poincare(UUID, OUT_DIR='1/poincare')\n",
    "    plt.imshow(image)"
   ]
  },
  {
   "cell_type": "markdown",
   "metadata": {},
   "source": [
    "## Miscellaneous\n",
    "### Ensemble of Optimizations"
   ]
  },
  {
   "cell_type": "markdown",
   "metadata": {},
   "source": [
    "Here, we create an interactive plot of the Pareto front. This is particularly useful for identifying specific optimizations visually based on their UUID. "
   ]
  },
  {
   "cell_type": "code",
   "execution_count": null,
   "metadata": {},
   "outputs": [],
   "source": [
    "pareto_interactive_plt(df_pareto).show()"
   ]
  },
  {
   "cell_type": "markdown",
   "metadata": {},
   "source": [
    "We can also analyze the success of our optimizations in terms of how and how much data was excluded during the filtering step. These plots show histograms of the optimizations with regard to numerous parameters, plotted both before and after filtering."
   ]
  },
  {
   "cell_type": "code",
   "execution_count": null,
   "metadata": {},
   "outputs": [],
   "source": [
    "success_plt(df, df_filtered).show()"
   ]
  },
  {
   "cell_type": "markdown",
   "metadata": {},
   "source": [
    "Let's see what a good `dx` is for the continuation method. Here, we see that $dx\\leq 0.1$ seems appropriate."
   ]
  },
  {
   "cell_type": "code",
   "execution_count": null,
   "metadata": {},
   "outputs": [],
   "source": [
    "df2, df_filtered2, df_pareto2 = get_dfs(INPUT_DIR='./output/QA/3/optimizations/')\n",
    "\n",
    "fig = plt.figure(figsize=(6.5, 8))\n",
    "color = 'dx'\n",
    "markersize = 5\n",
    "plt.rc(\"font\", size=13)\n",
    "norm = matplotlib.colors.LogNorm(1e-3, 7e-2)\n",
    "\n",
    "plt.scatter(\n",
    "    df_filtered2[\"normalized_BdotN\"],\n",
    "    df_filtered2[\"max_max_force\"],\n",
    "    c=df_filtered2[color],\n",
    "    s=markersize,\n",
    "    label=f'Continuation Method',\n",
    "    norm=norm\n",
    ")\n",
    "plt.colorbar(label=color)\n",
    "plt.scatter(\n",
    "    df_pareto[\"normalized_BdotN\"], \n",
    "    df_pareto[\"max_max_force\"], \n",
    "    marker=\"+\",\n",
    "    c='black',\n",
    "    label=f'Original Pareto Front',\n",
    ")\n",
    "plt.xlabel(r'$\\langle|\\mathbf{B}\\cdot\\mathbf{n}|\\rangle/\\langle B \\rangle$ [unitless]')\n",
    "plt.ylabel(\"max force [N/m]\")\n",
    "plt.xlim(0.7 * min(df_filtered2[\"normalized_BdotN\"]), max(df_filtered2[\"normalized_BdotN\"]))\n",
    "plt.ylim(8500, 18000)\n",
    "plt.xscale(\"log\")\n",
    "plt.legend(loc='upper right', fontsize='11')\n",
    "plt.show()"
   ]
  }
 ],
 "metadata": {
  "kernelspec": {
   "display_name": "base",
   "language": "python",
   "name": "python3"
  },
  "language_info": {
   "codemirror_mode": {
    "name": "ipython",
    "version": 3
   },
   "file_extension": ".py",
   "mimetype": "text/x-python",
   "name": "python",
   "nbconvert_exporter": "python",
   "pygments_lexer": "ipython3",
   "version": "3.9.12"
  }
 },
 "nbformat": 4,
 "nbformat_minor": 2
}
